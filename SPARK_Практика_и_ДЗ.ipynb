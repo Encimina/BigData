{
  "nbformat": 4,
  "nbformat_minor": 0,
  "metadata": {
    "colab": {
      "name": "SPARK Практика и ДЗ.ipynb",
      "version": "0.3.2",
      "provenance": [],
      "collapsed_sections": [],
      "toc_visible": true
    },
    "kernelspec": {
      "name": "python3",
      "display_name": "Python 3"
    }
  },
  "cells": [
    {
      "cell_type": "markdown",
      "metadata": {
        "id": "3ma3-UglUxaX",
        "colab_type": "text"
      },
      "source": [
        "# Установка PySpark"
      ]
    },
    {
      "cell_type": "code",
      "metadata": {
        "id": "Vi6nqfZkUw3h",
        "colab_type": "code",
        "colab": {}
      },
      "source": [
        "!apt-get install openjdk-8-jdk-headless -qq > /dev/null #установка java"
      ],
      "execution_count": 0,
      "outputs": []
    },
    {
      "cell_type": "code",
      "metadata": {
        "id": "5GMeglwYUzd6",
        "colab_type": "code",
        "colab": {}
      },
      "source": [
        "!wget -q www-us.apache.org/dist/spark/spark-2.4.3/spark-2.4.3-bin-hadoop2.7.tgz #скачиваем дистрибутив спарка"
      ],
      "execution_count": 0,
      "outputs": []
    },
    {
      "cell_type": "code",
      "metadata": {
        "id": "jTOJhYluU4Yu",
        "colab_type": "code",
        "outputId": "af338987-c21f-442c-ddc7-8f014500e5fa",
        "colab": {
          "base_uri": "https://localhost:8080/",
          "height": 1000
        }
      },
      "source": [
        "!tar -xvf spark-2.4.3-bin-hadoop2.7.tgz #распаковываем"
      ],
      "execution_count": 3,
      "outputs": [
        {
          "output_type": "stream",
          "text": [
            "spark-2.4.3-bin-hadoop2.7/\n",
            "spark-2.4.3-bin-hadoop2.7/python/\n",
            "spark-2.4.3-bin-hadoop2.7/python/setup.cfg\n",
            "spark-2.4.3-bin-hadoop2.7/python/pyspark/\n",
            "spark-2.4.3-bin-hadoop2.7/python/pyspark/resultiterable.py\n",
            "spark-2.4.3-bin-hadoop2.7/python/pyspark/python/\n",
            "spark-2.4.3-bin-hadoop2.7/python/pyspark/python/pyspark/\n",
            "spark-2.4.3-bin-hadoop2.7/python/pyspark/python/pyspark/shell.py\n",
            "spark-2.4.3-bin-hadoop2.7/python/pyspark/heapq3.py\n",
            "spark-2.4.3-bin-hadoop2.7/python/pyspark/join.py\n",
            "spark-2.4.3-bin-hadoop2.7/python/pyspark/version.py\n",
            "spark-2.4.3-bin-hadoop2.7/python/pyspark/rdd.py\n",
            "spark-2.4.3-bin-hadoop2.7/python/pyspark/java_gateway.py\n",
            "spark-2.4.3-bin-hadoop2.7/python/pyspark/find_spark_home.py\n",
            "spark-2.4.3-bin-hadoop2.7/python/pyspark/_globals.py\n",
            "spark-2.4.3-bin-hadoop2.7/python/pyspark/worker.py\n",
            "spark-2.4.3-bin-hadoop2.7/python/pyspark/accumulators.py\n",
            "spark-2.4.3-bin-hadoop2.7/python/pyspark/mllib/\n",
            "spark-2.4.3-bin-hadoop2.7/python/pyspark/mllib/feature.py\n",
            "spark-2.4.3-bin-hadoop2.7/python/pyspark/mllib/random.py\n",
            "spark-2.4.3-bin-hadoop2.7/python/pyspark/mllib/recommendation.py\n",
            "spark-2.4.3-bin-hadoop2.7/python/pyspark/mllib/fpm.py\n",
            "spark-2.4.3-bin-hadoop2.7/python/pyspark/mllib/classification.py\n",
            "spark-2.4.3-bin-hadoop2.7/python/pyspark/mllib/stat/\n",
            "spark-2.4.3-bin-hadoop2.7/python/pyspark/mllib/stat/KernelDensity.py\n",
            "spark-2.4.3-bin-hadoop2.7/python/pyspark/mllib/stat/distribution.py\n",
            "spark-2.4.3-bin-hadoop2.7/python/pyspark/mllib/stat/test.py\n",
            "spark-2.4.3-bin-hadoop2.7/python/pyspark/mllib/stat/_statistics.py\n",
            "spark-2.4.3-bin-hadoop2.7/python/pyspark/mllib/stat/__init__.py\n",
            "spark-2.4.3-bin-hadoop2.7/python/pyspark/mllib/util.py\n",
            "spark-2.4.3-bin-hadoop2.7/python/pyspark/mllib/regression.py\n",
            "spark-2.4.3-bin-hadoop2.7/python/pyspark/mllib/clustering.py\n",
            "spark-2.4.3-bin-hadoop2.7/python/pyspark/mllib/linalg/\n",
            "spark-2.4.3-bin-hadoop2.7/python/pyspark/mllib/linalg/distributed.py\n",
            "spark-2.4.3-bin-hadoop2.7/python/pyspark/mllib/linalg/__init__.py\n",
            "spark-2.4.3-bin-hadoop2.7/python/pyspark/mllib/tree.py\n",
            "spark-2.4.3-bin-hadoop2.7/python/pyspark/mllib/__init__.py\n",
            "spark-2.4.3-bin-hadoop2.7/python/pyspark/mllib/evaluation.py\n",
            "spark-2.4.3-bin-hadoop2.7/python/pyspark/mllib/common.py\n",
            "spark-2.4.3-bin-hadoop2.7/python/pyspark/mllib/tests.py\n",
            "spark-2.4.3-bin-hadoop2.7/python/pyspark/util.py\n",
            "spark-2.4.3-bin-hadoop2.7/python/pyspark/test_broadcast.py\n",
            "spark-2.4.3-bin-hadoop2.7/python/pyspark/shell.py\n",
            "spark-2.4.3-bin-hadoop2.7/python/pyspark/ml/\n",
            "spark-2.4.3-bin-hadoop2.7/python/pyspark/ml/feature.py\n",
            "spark-2.4.3-bin-hadoop2.7/python/pyspark/ml/recommendation.py\n",
            "spark-2.4.3-bin-hadoop2.7/python/pyspark/ml/fpm.py\n",
            "spark-2.4.3-bin-hadoop2.7/python/pyspark/ml/classification.py\n",
            "spark-2.4.3-bin-hadoop2.7/python/pyspark/ml/stat.py\n",
            "spark-2.4.3-bin-hadoop2.7/python/pyspark/ml/util.py\n",
            "spark-2.4.3-bin-hadoop2.7/python/pyspark/ml/tuning.py\n",
            "spark-2.4.3-bin-hadoop2.7/python/pyspark/ml/regression.py\n",
            "spark-2.4.3-bin-hadoop2.7/python/pyspark/ml/base.py\n",
            "spark-2.4.3-bin-hadoop2.7/python/pyspark/ml/clustering.py\n",
            "spark-2.4.3-bin-hadoop2.7/python/pyspark/ml/wrapper.py\n",
            "spark-2.4.3-bin-hadoop2.7/python/pyspark/ml/pipeline.py\n",
            "spark-2.4.3-bin-hadoop2.7/python/pyspark/ml/linalg/\n",
            "spark-2.4.3-bin-hadoop2.7/python/pyspark/ml/linalg/__init__.py\n",
            "spark-2.4.3-bin-hadoop2.7/python/pyspark/ml/param/\n",
            "spark-2.4.3-bin-hadoop2.7/python/pyspark/ml/param/_shared_params_code_gen.py\n",
            "spark-2.4.3-bin-hadoop2.7/python/pyspark/ml/param/shared.py\n",
            "spark-2.4.3-bin-hadoop2.7/python/pyspark/ml/param/__init__.py\n",
            "spark-2.4.3-bin-hadoop2.7/python/pyspark/ml/__init__.py\n",
            "spark-2.4.3-bin-hadoop2.7/python/pyspark/ml/evaluation.py\n",
            "spark-2.4.3-bin-hadoop2.7/python/pyspark/ml/common.py\n",
            "spark-2.4.3-bin-hadoop2.7/python/pyspark/ml/tests.py\n",
            "spark-2.4.3-bin-hadoop2.7/python/pyspark/ml/image.py\n",
            "spark-2.4.3-bin-hadoop2.7/python/pyspark/test_serializers.py\n",
            "spark-2.4.3-bin-hadoop2.7/python/pyspark/cloudpickle.py\n",
            "spark-2.4.3-bin-hadoop2.7/python/pyspark/serializers.py\n",
            "spark-2.4.3-bin-hadoop2.7/python/pyspark/daemon.py\n",
            "spark-2.4.3-bin-hadoop2.7/python/pyspark/files.py\n",
            "spark-2.4.3-bin-hadoop2.7/python/pyspark/rddsampler.py\n",
            "spark-2.4.3-bin-hadoop2.7/python/pyspark/statcounter.py\n",
            "spark-2.4.3-bin-hadoop2.7/python/pyspark/streaming/\n",
            "spark-2.4.3-bin-hadoop2.7/python/pyspark/streaming/kafka.py\n",
            "spark-2.4.3-bin-hadoop2.7/python/pyspark/streaming/util.py\n",
            "spark-2.4.3-bin-hadoop2.7/python/pyspark/streaming/kinesis.py\n",
            "spark-2.4.3-bin-hadoop2.7/python/pyspark/streaming/flume.py\n",
            "spark-2.4.3-bin-hadoop2.7/python/pyspark/streaming/__init__.py\n",
            "spark-2.4.3-bin-hadoop2.7/python/pyspark/streaming/context.py\n",
            "spark-2.4.3-bin-hadoop2.7/python/pyspark/streaming/tests.py\n",
            "spark-2.4.3-bin-hadoop2.7/python/pyspark/streaming/dstream.py\n",
            "spark-2.4.3-bin-hadoop2.7/python/pyspark/streaming/listener.py\n",
            "spark-2.4.3-bin-hadoop2.7/python/pyspark/taskcontext.py\n",
            "spark-2.4.3-bin-hadoop2.7/python/pyspark/__init__.py\n",
            "spark-2.4.3-bin-hadoop2.7/python/pyspark/storagelevel.py\n",
            "spark-2.4.3-bin-hadoop2.7/python/pyspark/broadcast.py\n",
            "spark-2.4.3-bin-hadoop2.7/python/pyspark/profiler.py\n",
            "spark-2.4.3-bin-hadoop2.7/python/pyspark/traceback_utils.py\n",
            "spark-2.4.3-bin-hadoop2.7/python/pyspark/context.py\n",
            "spark-2.4.3-bin-hadoop2.7/python/pyspark/status.py\n",
            "spark-2.4.3-bin-hadoop2.7/python/pyspark/sql/\n",
            "spark-2.4.3-bin-hadoop2.7/python/pyspark/sql/streaming.py\n",
            "spark-2.4.3-bin-hadoop2.7/python/pyspark/sql/readwriter.py\n",
            "spark-2.4.3-bin-hadoop2.7/python/pyspark/sql/catalog.py\n",
            "spark-2.4.3-bin-hadoop2.7/python/pyspark/sql/session.py\n",
            "spark-2.4.3-bin-hadoop2.7/python/pyspark/sql/column.py\n",
            "spark-2.4.3-bin-hadoop2.7/python/pyspark/sql/functions.py\n",
            "spark-2.4.3-bin-hadoop2.7/python/pyspark/sql/dataframe.py\n",
            "spark-2.4.3-bin-hadoop2.7/python/pyspark/sql/window.py\n",
            "spark-2.4.3-bin-hadoop2.7/python/pyspark/sql/udf.py\n",
            "spark-2.4.3-bin-hadoop2.7/python/pyspark/sql/__init__.py\n",
            "spark-2.4.3-bin-hadoop2.7/python/pyspark/sql/utils.py\n",
            "spark-2.4.3-bin-hadoop2.7/python/pyspark/sql/group.py\n",
            "spark-2.4.3-bin-hadoop2.7/python/pyspark/sql/context.py\n",
            "spark-2.4.3-bin-hadoop2.7/python/pyspark/sql/tests.py\n",
            "spark-2.4.3-bin-hadoop2.7/python/pyspark/sql/conf.py\n",
            "spark-2.4.3-bin-hadoop2.7/python/pyspark/sql/types.py\n",
            "spark-2.4.3-bin-hadoop2.7/python/pyspark/tests.py\n",
            "spark-2.4.3-bin-hadoop2.7/python/pyspark/conf.py\n",
            "spark-2.4.3-bin-hadoop2.7/python/pyspark/shuffle.py\n",
            "spark-2.4.3-bin-hadoop2.7/python/.gitignore\n",
            "spark-2.4.3-bin-hadoop2.7/python/docs/\n",
            "spark-2.4.3-bin-hadoop2.7/python/docs/epytext.py\n",
            "spark-2.4.3-bin-hadoop2.7/python/docs/make2.bat\n",
            "spark-2.4.3-bin-hadoop2.7/python/docs/pyspark.sql.rst\n",
            "spark-2.4.3-bin-hadoop2.7/python/docs/make.bat\n",
            "spark-2.4.3-bin-hadoop2.7/python/docs/index.rst\n",
            "spark-2.4.3-bin-hadoop2.7/python/docs/_templates/\n",
            "spark-2.4.3-bin-hadoop2.7/python/docs/_templates/layout.html\n",
            "spark-2.4.3-bin-hadoop2.7/python/docs/_static/\n",
            "spark-2.4.3-bin-hadoop2.7/python/docs/_static/pyspark.js\n",
            "spark-2.4.3-bin-hadoop2.7/python/docs/_static/pyspark.css\n",
            "spark-2.4.3-bin-hadoop2.7/python/docs/pyspark.ml.rst\n",
            "spark-2.4.3-bin-hadoop2.7/python/docs/pyspark.streaming.rst\n",
            "spark-2.4.3-bin-hadoop2.7/python/docs/conf.py\n",
            "spark-2.4.3-bin-hadoop2.7/python/docs/pyspark.mllib.rst\n",
            "spark-2.4.3-bin-hadoop2.7/python/docs/pyspark.rst\n",
            "spark-2.4.3-bin-hadoop2.7/python/docs/Makefile\n",
            "spark-2.4.3-bin-hadoop2.7/python/test_coverage/\n",
            "spark-2.4.3-bin-hadoop2.7/python/test_coverage/conf/\n",
            "spark-2.4.3-bin-hadoop2.7/python/test_coverage/conf/spark-defaults.conf\n",
            "spark-2.4.3-bin-hadoop2.7/python/test_coverage/sitecustomize.py\n",
            "spark-2.4.3-bin-hadoop2.7/python/test_coverage/coverage_daemon.py\n",
            "spark-2.4.3-bin-hadoop2.7/python/run-tests-with-coverage\n",
            "spark-2.4.3-bin-hadoop2.7/python/pyspark.egg-info/\n",
            "spark-2.4.3-bin-hadoop2.7/python/pyspark.egg-info/top_level.txt\n",
            "spark-2.4.3-bin-hadoop2.7/python/pyspark.egg-info/dependency_links.txt\n",
            "spark-2.4.3-bin-hadoop2.7/python/pyspark.egg-info/requires.txt\n",
            "spark-2.4.3-bin-hadoop2.7/python/pyspark.egg-info/PKG-INFO\n",
            "spark-2.4.3-bin-hadoop2.7/python/pyspark.egg-info/SOURCES.txt\n",
            "spark-2.4.3-bin-hadoop2.7/python/MANIFEST.in\n",
            "spark-2.4.3-bin-hadoop2.7/python/test_support/\n",
            "spark-2.4.3-bin-hadoop2.7/python/test_support/userlibrary.py\n",
            "spark-2.4.3-bin-hadoop2.7/python/test_support/userlib-0.1.zip\n",
            "spark-2.4.3-bin-hadoop2.7/python/test_support/SimpleHTTPServer.py\n",
            "spark-2.4.3-bin-hadoop2.7/python/test_support/hello/\n",
            "spark-2.4.3-bin-hadoop2.7/python/test_support/hello/sub_hello/\n",
            "spark-2.4.3-bin-hadoop2.7/python/test_support/hello/sub_hello/sub_hello.txt\n",
            "spark-2.4.3-bin-hadoop2.7/python/test_support/hello/hello.txt\n",
            "spark-2.4.3-bin-hadoop2.7/python/test_support/sql/\n",
            "spark-2.4.3-bin-hadoop2.7/python/test_support/sql/people_array.json\n",
            "spark-2.4.3-bin-hadoop2.7/python/test_support/sql/text-test.txt\n",
            "spark-2.4.3-bin-hadoop2.7/python/test_support/sql/ages_newlines.csv\n",
            "spark-2.4.3-bin-hadoop2.7/python/test_support/sql/people.json\n",
            "spark-2.4.3-bin-hadoop2.7/python/test_support/sql/parquet_partitioned/\n",
            "spark-2.4.3-bin-hadoop2.7/python/test_support/sql/parquet_partitioned/year=2014/\n",
            "spark-2.4.3-bin-hadoop2.7/python/test_support/sql/parquet_partitioned/year=2014/month=9/\n",
            "spark-2.4.3-bin-hadoop2.7/python/test_support/sql/parquet_partitioned/year=2014/month=9/day=1/\n",
            "spark-2.4.3-bin-hadoop2.7/python/test_support/sql/parquet_partitioned/year=2014/month=9/day=1/part-r-00008.gz.parquet\n",
            "spark-2.4.3-bin-hadoop2.7/python/test_support/sql/parquet_partitioned/year=2014/month=9/day=1/.part-r-00008.gz.parquet.crc\n",
            "spark-2.4.3-bin-hadoop2.7/python/test_support/sql/parquet_partitioned/year=2015/\n",
            "spark-2.4.3-bin-hadoop2.7/python/test_support/sql/parquet_partitioned/year=2015/month=10/\n",
            "spark-2.4.3-bin-hadoop2.7/python/test_support/sql/parquet_partitioned/year=2015/month=10/day=26/\n",
            "spark-2.4.3-bin-hadoop2.7/python/test_support/sql/parquet_partitioned/year=2015/month=10/day=26/part-r-00005.gz.parquet\n",
            "spark-2.4.3-bin-hadoop2.7/python/test_support/sql/parquet_partitioned/year=2015/month=10/day=26/.part-r-00005.gz.parquet.crc\n",
            "spark-2.4.3-bin-hadoop2.7/python/test_support/sql/parquet_partitioned/year=2015/month=10/day=25/\n",
            "spark-2.4.3-bin-hadoop2.7/python/test_support/sql/parquet_partitioned/year=2015/month=10/day=25/.part-r-00002.gz.parquet.crc\n",
            "spark-2.4.3-bin-hadoop2.7/python/test_support/sql/parquet_partitioned/year=2015/month=10/day=25/part-r-00002.gz.parquet\n",
            "spark-2.4.3-bin-hadoop2.7/python/test_support/sql/parquet_partitioned/year=2015/month=10/day=25/part-r-00004.gz.parquet\n",
            "spark-2.4.3-bin-hadoop2.7/python/test_support/sql/parquet_partitioned/year=2015/month=10/day=25/.part-r-00004.gz.parquet.crc\n",
            "spark-2.4.3-bin-hadoop2.7/python/test_support/sql/parquet_partitioned/year=2015/month=9/\n",
            "spark-2.4.3-bin-hadoop2.7/python/test_support/sql/parquet_partitioned/year=2015/month=9/day=1/\n",
            "spark-2.4.3-bin-hadoop2.7/python/test_support/sql/parquet_partitioned/year=2015/month=9/day=1/.part-r-00007.gz.parquet.crc\n",
            "spark-2.4.3-bin-hadoop2.7/python/test_support/sql/parquet_partitioned/year=2015/month=9/day=1/part-r-00007.gz.parquet\n",
            "spark-2.4.3-bin-hadoop2.7/python/test_support/sql/parquet_partitioned/_common_metadata\n",
            "spark-2.4.3-bin-hadoop2.7/python/test_support/sql/parquet_partitioned/_metadata\n",
            "spark-2.4.3-bin-hadoop2.7/python/test_support/sql/parquet_partitioned/_SUCCESS\n",
            "spark-2.4.3-bin-hadoop2.7/python/test_support/sql/streaming/\n",
            "spark-2.4.3-bin-hadoop2.7/python/test_support/sql/streaming/text-test.txt\n",
            "spark-2.4.3-bin-hadoop2.7/python/test_support/sql/ages.csv\n",
            "spark-2.4.3-bin-hadoop2.7/python/test_support/sql/people1.json\n",
            "spark-2.4.3-bin-hadoop2.7/python/test_support/sql/orc_partitioned/\n",
            "spark-2.4.3-bin-hadoop2.7/python/test_support/sql/orc_partitioned/b=0/\n",
            "spark-2.4.3-bin-hadoop2.7/python/test_support/sql/orc_partitioned/b=0/c=0/\n",
            "spark-2.4.3-bin-hadoop2.7/python/test_support/sql/orc_partitioned/b=0/c=0/part-r-00000-829af031-b970-49d6-ad39-30460a0be2c8.orc\n",
            "spark-2.4.3-bin-hadoop2.7/python/test_support/sql/orc_partitioned/b=0/c=0/.part-r-00000-829af031-b970-49d6-ad39-30460a0be2c8.orc.crc\n",
            "spark-2.4.3-bin-hadoop2.7/python/test_support/sql/orc_partitioned/_SUCCESS\n",
            "spark-2.4.3-bin-hadoop2.7/python/test_support/sql/orc_partitioned/b=1/\n",
            "spark-2.4.3-bin-hadoop2.7/python/test_support/sql/orc_partitioned/b=1/c=1/\n",
            "spark-2.4.3-bin-hadoop2.7/python/test_support/sql/orc_partitioned/b=1/c=1/part-r-00000-829af031-b970-49d6-ad39-30460a0be2c8.orc\n",
            "spark-2.4.3-bin-hadoop2.7/python/test_support/sql/orc_partitioned/b=1/c=1/.part-r-00000-829af031-b970-49d6-ad39-30460a0be2c8.orc.crc\n",
            "spark-2.4.3-bin-hadoop2.7/python/test_support/sql/people_array_utf16le.json\n",
            "spark-2.4.3-bin-hadoop2.7/python/run-tests.py\n",
            "spark-2.4.3-bin-hadoop2.7/python/run-tests\n",
            "spark-2.4.3-bin-hadoop2.7/python/.coveragerc\n",
            "spark-2.4.3-bin-hadoop2.7/python/lib/\n",
            "spark-2.4.3-bin-hadoop2.7/python/lib/pyspark.zip\n",
            "spark-2.4.3-bin-hadoop2.7/python/lib/PY4J_LICENSE.txt\n",
            "spark-2.4.3-bin-hadoop2.7/python/lib/py4j-0.10.7-src.zip\n",
            "spark-2.4.3-bin-hadoop2.7/python/setup.py\n",
            "spark-2.4.3-bin-hadoop2.7/python/README.md\n",
            "spark-2.4.3-bin-hadoop2.7/python/dist/\n",
            "spark-2.4.3-bin-hadoop2.7/python/pylintrc\n",
            "spark-2.4.3-bin-hadoop2.7/conf/\n",
            "spark-2.4.3-bin-hadoop2.7/conf/fairscheduler.xml.template\n",
            "spark-2.4.3-bin-hadoop2.7/conf/spark-defaults.conf.template\n",
            "spark-2.4.3-bin-hadoop2.7/conf/docker.properties.template\n",
            "spark-2.4.3-bin-hadoop2.7/conf/log4j.properties.template\n",
            "spark-2.4.3-bin-hadoop2.7/conf/metrics.properties.template\n",
            "spark-2.4.3-bin-hadoop2.7/conf/slaves.template\n",
            "spark-2.4.3-bin-hadoop2.7/conf/spark-env.sh.template\n",
            "spark-2.4.3-bin-hadoop2.7/licenses/\n",
            "spark-2.4.3-bin-hadoop2.7/licenses/LICENSE-heapq.txt\n",
            "spark-2.4.3-bin-hadoop2.7/licenses/LICENSE-paranamer.txt\n",
            "spark-2.4.3-bin-hadoop2.7/licenses/LICENSE-graphlib-dot.txt\n",
            "spark-2.4.3-bin-hadoop2.7/licenses/LICENSE-minlog.txt\n",
            "spark-2.4.3-bin-hadoop2.7/licenses/LICENSE-slf4j.txt\n",
            "spark-2.4.3-bin-hadoop2.7/licenses/LICENSE-jquery.txt\n",
            "spark-2.4.3-bin-hadoop2.7/licenses/LICENSE-scopt.txt\n",
            "spark-2.4.3-bin-hadoop2.7/licenses/LICENSE-vis.txt\n",
            "spark-2.4.3-bin-hadoop2.7/licenses/LICENSE-sbt-launch-lib.txt\n",
            "spark-2.4.3-bin-hadoop2.7/licenses/LICENSE-spire.txt\n",
            "spark-2.4.3-bin-hadoop2.7/licenses/LICENSE-matchMedia-polyfill.txt\n",
            "spark-2.4.3-bin-hadoop2.7/licenses/LICENSE-kryo.txt\n",
            "spark-2.4.3-bin-hadoop2.7/licenses/LICENSE-mustache.txt\n",
            "spark-2.4.3-bin-hadoop2.7/licenses/LICENSE-arpack.txt\n",
            "spark-2.4.3-bin-hadoop2.7/licenses/LICENSE-scala.txt\n",
            "spark-2.4.3-bin-hadoop2.7/licenses/LICENSE-javassist.html\n",
            "spark-2.4.3-bin-hadoop2.7/licenses/LICENSE-json-formatter.txt\n",
            "spark-2.4.3-bin-hadoop2.7/licenses/LICENSE-jodd.txt\n",
            "spark-2.4.3-bin-hadoop2.7/licenses/LICENSE-automaton.txt\n",
            "spark-2.4.3-bin-hadoop2.7/licenses/LICENSE-janino.txt\n",
            "spark-2.4.3-bin-hadoop2.7/licenses/LICENSE-dagre-d3.txt\n",
            "spark-2.4.3-bin-hadoop2.7/licenses/LICENSE-sorttable.js.txt\n",
            "spark-2.4.3-bin-hadoop2.7/licenses/LICENSE-py4j.txt\n",
            "spark-2.4.3-bin-hadoop2.7/licenses/LICENSE-d3.min.js.txt\n",
            "spark-2.4.3-bin-hadoop2.7/licenses/LICENSE-respond.txt\n",
            "spark-2.4.3-bin-hadoop2.7/licenses/LICENSE-CC0.txt\n",
            "spark-2.4.3-bin-hadoop2.7/licenses/LICENSE-zstd.txt\n",
            "spark-2.4.3-bin-hadoop2.7/licenses/LICENSE-cloudpickle.txt\n",
            "spark-2.4.3-bin-hadoop2.7/licenses/LICENSE-pmml-model.txt\n",
            "spark-2.4.3-bin-hadoop2.7/licenses/LICENSE-pyrolite.txt\n",
            "spark-2.4.3-bin-hadoop2.7/licenses/LICENSE-netlib.txt\n",
            "spark-2.4.3-bin-hadoop2.7/licenses/LICENSE-AnchorJS.txt\n",
            "spark-2.4.3-bin-hadoop2.7/licenses/LICENSE-modernizr.txt\n",
            "spark-2.4.3-bin-hadoop2.7/licenses/LICENSE-machinist.txt\n",
            "spark-2.4.3-bin-hadoop2.7/licenses/LICENSE-javolution.txt\n",
            "spark-2.4.3-bin-hadoop2.7/licenses/LICENSE-xmlenc.txt\n",
            "spark-2.4.3-bin-hadoop2.7/licenses/LICENSE-join.txt\n",
            "spark-2.4.3-bin-hadoop2.7/licenses/LICENSE-jline.txt\n",
            "spark-2.4.3-bin-hadoop2.7/licenses/LICENSE-antlr.txt\n",
            "spark-2.4.3-bin-hadoop2.7/licenses/LICENSE-jtransforms.html\n",
            "spark-2.4.3-bin-hadoop2.7/licenses/LICENSE-leveldbjni.txt\n",
            "spark-2.4.3-bin-hadoop2.7/licenses/LICENSE-protobuf.txt\n",
            "spark-2.4.3-bin-hadoop2.7/licenses/LICENSE-bootstrap.txt\n",
            "spark-2.4.3-bin-hadoop2.7/licenses/LICENSE-zstd-jni.txt\n",
            "spark-2.4.3-bin-hadoop2.7/licenses/LICENSE-datatables.txt\n",
            "spark-2.4.3-bin-hadoop2.7/licenses/LICENSE-f2j.txt\n",
            "spark-2.4.3-bin-hadoop2.7/licenses/LICENSE-reflectasm.txt\n",
            "spark-2.4.3-bin-hadoop2.7/sbin/\n",
            "spark-2.4.3-bin-hadoop2.7/sbin/start-slave.sh\n",
            "spark-2.4.3-bin-hadoop2.7/sbin/stop-history-server.sh\n",
            "spark-2.4.3-bin-hadoop2.7/sbin/stop-slave.sh\n",
            "spark-2.4.3-bin-hadoop2.7/sbin/stop-mesos-dispatcher.sh\n",
            "spark-2.4.3-bin-hadoop2.7/sbin/start-all.sh\n",
            "spark-2.4.3-bin-hadoop2.7/sbin/spark-daemon.sh\n",
            "spark-2.4.3-bin-hadoop2.7/sbin/start-master.sh\n",
            "spark-2.4.3-bin-hadoop2.7/sbin/spark-daemons.sh\n",
            "spark-2.4.3-bin-hadoop2.7/sbin/spark-config.sh\n",
            "spark-2.4.3-bin-hadoop2.7/sbin/start-slaves.sh\n",
            "spark-2.4.3-bin-hadoop2.7/sbin/start-mesos-shuffle-service.sh\n",
            "spark-2.4.3-bin-hadoop2.7/sbin/start-history-server.sh\n",
            "spark-2.4.3-bin-hadoop2.7/sbin/start-shuffle-service.sh\n",
            "spark-2.4.3-bin-hadoop2.7/sbin/slaves.sh\n",
            "spark-2.4.3-bin-hadoop2.7/sbin/stop-slaves.sh\n",
            "spark-2.4.3-bin-hadoop2.7/sbin/stop-thriftserver.sh\n",
            "spark-2.4.3-bin-hadoop2.7/sbin/stop-master.sh\n",
            "spark-2.4.3-bin-hadoop2.7/sbin/stop-shuffle-service.sh\n",
            "spark-2.4.3-bin-hadoop2.7/sbin/start-mesos-dispatcher.sh\n",
            "spark-2.4.3-bin-hadoop2.7/sbin/stop-mesos-shuffle-service.sh\n",
            "spark-2.4.3-bin-hadoop2.7/sbin/start-thriftserver.sh\n",
            "spark-2.4.3-bin-hadoop2.7/sbin/stop-all.sh\n",
            "spark-2.4.3-bin-hadoop2.7/kubernetes/\n",
            "spark-2.4.3-bin-hadoop2.7/kubernetes/tests/\n",
            "spark-2.4.3-bin-hadoop2.7/kubernetes/tests/pyfiles.py\n",
            "spark-2.4.3-bin-hadoop2.7/kubernetes/tests/worker_memory_check.py\n",
            "spark-2.4.3-bin-hadoop2.7/kubernetes/tests/py_container_checks.py\n",
            "spark-2.4.3-bin-hadoop2.7/kubernetes/dockerfiles/\n",
            "spark-2.4.3-bin-hadoop2.7/kubernetes/dockerfiles/spark/\n",
            "spark-2.4.3-bin-hadoop2.7/kubernetes/dockerfiles/spark/Dockerfile\n",
            "spark-2.4.3-bin-hadoop2.7/kubernetes/dockerfiles/spark/bindings/\n",
            "spark-2.4.3-bin-hadoop2.7/kubernetes/dockerfiles/spark/bindings/python/\n",
            "spark-2.4.3-bin-hadoop2.7/kubernetes/dockerfiles/spark/bindings/python/Dockerfile\n",
            "spark-2.4.3-bin-hadoop2.7/kubernetes/dockerfiles/spark/bindings/R/\n",
            "spark-2.4.3-bin-hadoop2.7/kubernetes/dockerfiles/spark/bindings/R/Dockerfile\n",
            "spark-2.4.3-bin-hadoop2.7/kubernetes/dockerfiles/spark/entrypoint.sh\n",
            "spark-2.4.3-bin-hadoop2.7/jars/\n",
            "spark-2.4.3-bin-hadoop2.7/jars/commons-lang3-3.5.jar\n",
            "spark-2.4.3-bin-hadoop2.7/jars/spark-kubernetes_2.11-2.4.3.jar\n",
            "spark-2.4.3-bin-hadoop2.7/jars/arrow-format-0.10.0.jar\n",
            "spark-2.4.3-bin-hadoop2.7/jars/spark-streaming_2.11-2.4.3.jar\n",
            "spark-2.4.3-bin-hadoop2.7/jars/hadoop-yarn-common-2.7.3.jar\n",
            "spark-2.4.3-bin-hadoop2.7/jars/hadoop-mapreduce-client-jobclient-2.7.3.jar\n",
            "spark-2.4.3-bin-hadoop2.7/jars/json4s-jackson_2.11-3.5.3.jar\n",
            "spark-2.4.3-bin-hadoop2.7/jars/jersey-container-servlet-2.22.2.jar\n",
            "spark-2.4.3-bin-hadoop2.7/jars/hive-jdbc-1.2.1.spark2.jar\n",
            "spark-2.4.3-bin-hadoop2.7/jars/spark-network-common_2.11-2.4.3.jar\n",
            "spark-2.4.3-bin-hadoop2.7/jars/curator-framework-2.7.1.jar\n",
            "spark-2.4.3-bin-hadoop2.7/jars/pyrolite-4.13.jar\n",
            "spark-2.4.3-bin-hadoop2.7/jars/bonecp-0.8.0.RELEASE.jar\n",
            "spark-2.4.3-bin-hadoop2.7/jars/hppc-0.7.2.jar\n",
            "spark-2.4.3-bin-hadoop2.7/jars/spark-network-shuffle_2.11-2.4.3.jar\n",
            "spark-2.4.3-bin-hadoop2.7/jars/metrics-jvm-3.1.5.jar\n",
            "spark-2.4.3-bin-hadoop2.7/jars/jersey-guava-2.22.2.jar\n",
            "spark-2.4.3-bin-hadoop2.7/jars/guice-3.0.jar\n",
            "spark-2.4.3-bin-hadoop2.7/jars/super-csv-2.2.0.jar\n",
            "spark-2.4.3-bin-hadoop2.7/jars/jsp-api-2.1.jar\n",
            "spark-2.4.3-bin-hadoop2.7/jars/commons-net-3.1.jar\n",
            "spark-2.4.3-bin-hadoop2.7/jars/validation-api-1.1.0.Final.jar\n",
            "spark-2.4.3-bin-hadoop2.7/jars/json4s-ast_2.11-3.5.3.jar\n",
            "spark-2.4.3-bin-hadoop2.7/jars/spark-repl_2.11-2.4.3.jar\n",
            "spark-2.4.3-bin-hadoop2.7/jars/spark-sketch_2.11-2.4.3.jar\n",
            "spark-2.4.3-bin-hadoop2.7/jars/javax.inject-1.jar\n",
            "spark-2.4.3-bin-hadoop2.7/jars/hadoop-mapreduce-client-shuffle-2.7.3.jar\n",
            "spark-2.4.3-bin-hadoop2.7/jars/orc-mapreduce-1.5.5-nohive.jar\n",
            "spark-2.4.3-bin-hadoop2.7/jars/avro-ipc-1.8.2.jar\n",
            "spark-2.4.3-bin-hadoop2.7/jars/parquet-encoding-1.10.1.jar\n",
            "spark-2.4.3-bin-hadoop2.7/jars/jersey-container-servlet-core-2.22.2.jar\n",
            "spark-2.4.3-bin-hadoop2.7/jars/zjsonpatch-0.3.0.jar\n",
            "spark-2.4.3-bin-hadoop2.7/jars/scala-compiler-2.11.12.jar\n",
            "spark-2.4.3-bin-hadoop2.7/jars/curator-client-2.7.1.jar\n",
            "spark-2.4.3-bin-hadoop2.7/jars/jersey-media-jaxb-2.22.2.jar\n",
            "spark-2.4.3-bin-hadoop2.7/jars/avro-mapred-1.8.2-hadoop2.jar\n",
            "spark-2.4.3-bin-hadoop2.7/jars/antlr4-runtime-4.7.jar\n",
            "spark-2.4.3-bin-hadoop2.7/jars/spark-sql_2.11-2.4.3.jar\n",
            "spark-2.4.3-bin-hadoop2.7/jars/jackson-module-jaxb-annotations-2.6.7.jar\n",
            "spark-2.4.3-bin-hadoop2.7/jars/okhttp-3.8.1.jar\n",
            "spark-2.4.3-bin-hadoop2.7/jars/spark-core_2.11-2.4.3.jar\n",
            "spark-2.4.3-bin-hadoop2.7/jars/leveldbjni-all-1.8.jar\n",
            "spark-2.4.3-bin-hadoop2.7/jars/jackson-mapper-asl-1.9.13.jar\n",
            "spark-2.4.3-bin-hadoop2.7/jars/ST4-4.0.4.jar\n",
            "spark-2.4.3-bin-hadoop2.7/jars/eigenbase-properties-1.1.5.jar\n",
            "spark-2.4.3-bin-hadoop2.7/jars/jackson-jaxrs-1.9.13.jar\n",
            "spark-2.4.3-bin-hadoop2.7/jars/spark-yarn_2.11-2.4.3.jar\n",
            "spark-2.4.3-bin-hadoop2.7/jars/jackson-annotations-2.6.7.jar\n",
            "spark-2.4.3-bin-hadoop2.7/jars/jackson-module-paranamer-2.7.9.jar\n",
            "spark-2.4.3-bin-hadoop2.7/jars/jdo-api-3.0.1.jar\n",
            "spark-2.4.3-bin-hadoop2.7/jars/spark-launcher_2.11-2.4.3.jar\n",
            "spark-2.4.3-bin-hadoop2.7/jars/jersey-server-2.22.2.jar\n",
            "spark-2.4.3-bin-hadoop2.7/jars/scala-parser-combinators_2.11-1.1.0.jar\n",
            "spark-2.4.3-bin-hadoop2.7/jars/arrow-memory-0.10.0.jar\n",
            "spark-2.4.3-bin-hadoop2.7/jars/hk2-utils-2.4.0-b34.jar\n",
            "spark-2.4.3-bin-hadoop2.7/jars/joda-time-2.9.3.jar\n",
            "spark-2.4.3-bin-hadoop2.7/jars/commons-crypto-1.0.0.jar\n",
            "spark-2.4.3-bin-hadoop2.7/jars/aopalliance-1.0.jar\n",
            "spark-2.4.3-bin-hadoop2.7/jars/logging-interceptor-3.12.0.jar\n",
            "spark-2.4.3-bin-hadoop2.7/jars/parquet-common-1.10.1.jar\n",
            "spark-2.4.3-bin-hadoop2.7/jars/spark-mllib-local_2.11-2.4.3.jar\n",
            "spark-2.4.3-bin-hadoop2.7/jars/log4j-1.2.17.jar\n",
            "spark-2.4.3-bin-hadoop2.7/jars/commons-pool-1.5.4.jar\n",
            "spark-2.4.3-bin-hadoop2.7/jars/xz-1.5.jar\n",
            "spark-2.4.3-bin-hadoop2.7/jars/hk2-locator-2.4.0-b34.jar\n",
            "spark-2.4.3-bin-hadoop2.7/jars/libthrift-0.9.3.jar\n",
            "spark-2.4.3-bin-hadoop2.7/jars/chill-java-0.9.3.jar\n",
            "spark-2.4.3-bin-hadoop2.7/jars/opencsv-2.3.jar\n",
            "spark-2.4.3-bin-hadoop2.7/jars/lz4-java-1.4.0.jar\n",
            "spark-2.4.3-bin-hadoop2.7/jars/kubernetes-model-common-4.1.2.jar\n",
            "spark-2.4.3-bin-hadoop2.7/jars/slf4j-log4j12-1.7.16.jar\n",
            "spark-2.4.3-bin-hadoop2.7/jars/calcite-core-1.2.0-incubating.jar\n",
            "spark-2.4.3-bin-hadoop2.7/jars/breeze_2.11-0.13.2.jar\n",
            "spark-2.4.3-bin-hadoop2.7/jars/parquet-hadoop-bundle-1.6.0.jar\n",
            "spark-2.4.3-bin-hadoop2.7/jars/javax.inject-2.4.0-b34.jar\n",
            "spark-2.4.3-bin-hadoop2.7/jars/metrics-json-3.1.5.jar\n",
            "spark-2.4.3-bin-hadoop2.7/jars/parquet-column-1.10.1.jar\n",
            "spark-2.4.3-bin-hadoop2.7/jars/aopalliance-repackaged-2.4.0-b34.jar\n",
            "spark-2.4.3-bin-hadoop2.7/jars/jcl-over-slf4j-1.7.16.jar\n",
            "spark-2.4.3-bin-hadoop2.7/jars/antlr-runtime-3.4.jar\n",
            "spark-2.4.3-bin-hadoop2.7/jars/parquet-jackson-1.10.1.jar\n",
            "spark-2.4.3-bin-hadoop2.7/jars/httpcore-4.4.10.jar\n",
            "spark-2.4.3-bin-hadoop2.7/jars/metrics-graphite-3.1.5.jar\n",
            "spark-2.4.3-bin-hadoop2.7/jars/netty-3.9.9.Final.jar\n",
            "spark-2.4.3-bin-hadoop2.7/jars/guava-14.0.1.jar\n",
            "spark-2.4.3-bin-hadoop2.7/jars/RoaringBitmap-0.7.45.jar\n",
            "spark-2.4.3-bin-hadoop2.7/jars/jaxb-api-2.2.2.jar\n",
            "spark-2.4.3-bin-hadoop2.7/jars/datanucleus-core-3.2.10.jar\n",
            "spark-2.4.3-bin-hadoop2.7/jars/compress-lzf-1.0.3.jar\n",
            "spark-2.4.3-bin-hadoop2.7/jars/antlr-2.7.7.jar\n",
            "spark-2.4.3-bin-hadoop2.7/jars/jersey-common-2.22.2.jar\n",
            "spark-2.4.3-bin-hadoop2.7/jars/hadoop-yarn-client-2.7.3.jar\n",
            "spark-2.4.3-bin-hadoop2.7/jars/parquet-hadoop-1.10.1.jar\n",
            "spark-2.4.3-bin-hadoop2.7/jars/commons-lang-2.6.jar\n",
            "spark-2.4.3-bin-hadoop2.7/jars/datanucleus-api-jdo-3.2.6.jar\n",
            "spark-2.4.3-bin-hadoop2.7/jars/orc-shims-1.5.5.jar\n",
            "spark-2.4.3-bin-hadoop2.7/jars/commons-digester-1.8.jar\n",
            "spark-2.4.3-bin-hadoop2.7/jars/hadoop-annotations-2.7.3.jar\n",
            "spark-2.4.3-bin-hadoop2.7/jars/jtransforms-2.4.0.jar\n",
            "spark-2.4.3-bin-hadoop2.7/jars/jodd-core-3.5.2.jar\n",
            "spark-2.4.3-bin-hadoop2.7/jars/spark-hive_2.11-2.4.3.jar\n",
            "spark-2.4.3-bin-hadoop2.7/jars/snakeyaml-1.15.jar\n",
            "spark-2.4.3-bin-hadoop2.7/jars/kubernetes-client-4.1.2.jar\n",
            "spark-2.4.3-bin-hadoop2.7/jars/commons-cli-1.2.jar\n",
            "spark-2.4.3-bin-hadoop2.7/jars/snappy-java-1.1.7.3.jar\n",
            "spark-2.4.3-bin-hadoop2.7/jars/parquet-format-2.4.0.jar\n",
            "spark-2.4.3-bin-hadoop2.7/jars/commons-configuration-1.6.jar\n",
            "spark-2.4.3-bin-hadoop2.7/jars/jpam-1.1.jar\n",
            "spark-2.4.3-bin-hadoop2.7/jars/kryo-shaded-4.0.2.jar\n",
            "spark-2.4.3-bin-hadoop2.7/jars/zookeeper-3.4.6.jar\n",
            "spark-2.4.3-bin-hadoop2.7/jars/javax.ws.rs-api-2.0.1.jar\n",
            "spark-2.4.3-bin-hadoop2.7/jars/jackson-core-asl-1.9.13.jar\n",
            "spark-2.4.3-bin-hadoop2.7/jars/hadoop-mapreduce-client-core-2.7.3.jar\n",
            "spark-2.4.3-bin-hadoop2.7/jars/json4s-scalap_2.11-3.5.3.jar\n",
            "spark-2.4.3-bin-hadoop2.7/jars/avro-1.8.2.jar\n",
            "spark-2.4.3-bin-hadoop2.7/jars/hadoop-yarn-api-2.7.3.jar\n",
            "spark-2.4.3-bin-hadoop2.7/jars/api-asn1-api-1.0.0-M20.jar\n",
            "spark-2.4.3-bin-hadoop2.7/jars/paranamer-2.8.jar\n",
            "spark-2.4.3-bin-hadoop2.7/jars/janino-3.0.9.jar\n",
            "spark-2.4.3-bin-hadoop2.7/jars/stringtemplate-3.2.1.jar\n",
            "spark-2.4.3-bin-hadoop2.7/jars/apacheds-i18n-2.0.0-M15.jar\n",
            "spark-2.4.3-bin-hadoop2.7/jars/apache-log4j-extras-1.2.17.jar\n",
            "spark-2.4.3-bin-hadoop2.7/jars/xbean-asm6-shaded-4.8.jar\n",
            "spark-2.4.3-bin-hadoop2.7/jars/curator-recipes-2.7.1.jar\n",
            "spark-2.4.3-bin-hadoop2.7/jars/oro-2.0.8.jar\n",
            "spark-2.4.3-bin-hadoop2.7/jars/javax.annotation-api-1.2.jar\n",
            "spark-2.4.3-bin-hadoop2.7/jars/chill_2.11-0.9.3.jar\n",
            "spark-2.4.3-bin-hadoop2.7/jars/hive-exec-1.2.1.spark2.jar\n",
            "spark-2.4.3-bin-hadoop2.7/jars/hadoop-common-2.7.3.jar\n",
            "spark-2.4.3-bin-hadoop2.7/jars/commons-dbcp-1.4.jar\n",
            "spark-2.4.3-bin-hadoop2.7/jars/mesos-1.4.0-shaded-protobuf.jar\n",
            "spark-2.4.3-bin-hadoop2.7/jars/okio-1.13.0.jar\n",
            "spark-2.4.3-bin-hadoop2.7/jars/jackson-databind-2.6.7.1.jar\n",
            "spark-2.4.3-bin-hadoop2.7/jars/spark-mesos_2.11-2.4.3.jar\n",
            "spark-2.4.3-bin-hadoop2.7/jars/netty-all-4.1.17.Final.jar\n",
            "spark-2.4.3-bin-hadoop2.7/jars/commons-compiler-3.0.9.jar\n",
            "spark-2.4.3-bin-hadoop2.7/jars/commons-math3-3.4.1.jar\n",
            "spark-2.4.3-bin-hadoop2.7/jars/httpclient-4.5.6.jar\n",
            "spark-2.4.3-bin-hadoop2.7/jars/jul-to-slf4j-1.7.16.jar\n",
            "spark-2.4.3-bin-hadoop2.7/jars/stax-api-1.0-2.jar\n",
            "spark-2.4.3-bin-hadoop2.7/jars/core-1.1.2.jar\n",
            "spark-2.4.3-bin-hadoop2.7/jars/commons-codec-1.10.jar\n",
            "spark-2.4.3-bin-hadoop2.7/jars/spark-kvstore_2.11-2.4.3.jar\n",
            "spark-2.4.3-bin-hadoop2.7/jars/spark-catalyst_2.11-2.4.3.jar\n",
            "spark-2.4.3-bin-hadoop2.7/jars/gson-2.2.4.jar\n",
            "spark-2.4.3-bin-hadoop2.7/jars/spark-tags_2.11-2.4.3-tests.jar\n",
            "spark-2.4.3-bin-hadoop2.7/jars/zstd-jni-1.3.2-2.jar\n",
            "spark-2.4.3-bin-hadoop2.7/jars/javolution-5.5.1.jar\n",
            "spark-2.4.3-bin-hadoop2.7/jars/univocity-parsers-2.7.3.jar\n",
            "spark-2.4.3-bin-hadoop2.7/jars/apacheds-kerberos-codec-2.0.0-M15.jar\n",
            "spark-2.4.3-bin-hadoop2.7/jars/hadoop-yarn-server-common-2.7.3.jar\n",
            "spark-2.4.3-bin-hadoop2.7/jars/libfb303-0.9.3.jar\n",
            "spark-2.4.3-bin-hadoop2.7/jars/jersey-client-2.22.2.jar\n",
            "spark-2.4.3-bin-hadoop2.7/jars/xercesImpl-2.9.1.jar\n",
            "spark-2.4.3-bin-hadoop2.7/jars/commons-collections-3.2.2.jar\n",
            "spark-2.4.3-bin-hadoop2.7/jars/machinist_2.11-0.6.1.jar\n",
            "spark-2.4.3-bin-hadoop2.7/jars/shims-0.7.45.jar\n",
            "spark-2.4.3-bin-hadoop2.7/jars/htrace-core-3.1.0-incubating.jar\n",
            "spark-2.4.3-bin-hadoop2.7/jars/spark-graphx_2.11-2.4.3.jar\n",
            "spark-2.4.3-bin-hadoop2.7/jars/jta-1.1.jar\n",
            "spark-2.4.3-bin-hadoop2.7/jars/osgi-resource-locator-1.0.1.jar\n",
            "spark-2.4.3-bin-hadoop2.7/jars/datanucleus-rdbms-3.2.9.jar\n",
            "spark-2.4.3-bin-hadoop2.7/jars/spark-unsafe_2.11-2.4.3.jar\n",
            "spark-2.4.3-bin-hadoop2.7/jars/javassist-3.18.1-GA.jar\n",
            "spark-2.4.3-bin-hadoop2.7/jars/spire-macros_2.11-0.13.0.jar\n",
            "spark-2.4.3-bin-hadoop2.7/jars/spark-mllib_2.11-2.4.3.jar\n",
            "spark-2.4.3-bin-hadoop2.7/jars/calcite-linq4j-1.2.0-incubating.jar\n",
            "spark-2.4.3-bin-hadoop2.7/jars/jline-2.14.6.jar\n",
            "spark-2.4.3-bin-hadoop2.7/jars/hadoop-client-2.7.3.jar\n",
            "spark-2.4.3-bin-hadoop2.7/jars/hive-metastore-1.2.1.spark2.jar\n",
            "spark-2.4.3-bin-hadoop2.7/jars/hadoop-yarn-server-web-proxy-2.7.3.jar\n",
            "spark-2.4.3-bin-hadoop2.7/jars/spire_2.11-0.13.0.jar\n",
            "spark-2.4.3-bin-hadoop2.7/jars/jackson-core-2.6.7.jar\n",
            "spark-2.4.3-bin-hadoop2.7/jars/api-util-1.0.0-M20.jar\n",
            "spark-2.4.3-bin-hadoop2.7/jars/commons-httpclient-3.1.jar\n",
            "spark-2.4.3-bin-hadoop2.7/jars/aircompressor-0.10.jar\n",
            "spark-2.4.3-bin-hadoop2.7/jars/guice-servlet-3.0.jar\n",
            "spark-2.4.3-bin-hadoop2.7/jars/scala-xml_2.11-1.0.5.jar\n",
            "spark-2.4.3-bin-hadoop2.7/jars/hadoop-mapreduce-client-common-2.7.3.jar\n",
            "spark-2.4.3-bin-hadoop2.7/jars/commons-beanutils-1.9.3.jar\n",
            "spark-2.4.3-bin-hadoop2.7/jars/protobuf-java-2.5.0.jar\n",
            "spark-2.4.3-bin-hadoop2.7/jars/hive-beeline-1.2.1.spark2.jar\n",
            "spark-2.4.3-bin-hadoop2.7/jars/stream-2.7.0.jar\n",
            "spark-2.4.3-bin-hadoop2.7/jars/commons-compress-1.8.1.jar\n",
            "spark-2.4.3-bin-hadoop2.7/jars/macro-compat_2.11-1.1.1.jar\n",
            "spark-2.4.3-bin-hadoop2.7/jars/activation-1.1.1.jar\n",
            "spark-2.4.3-bin-hadoop2.7/jars/breeze-macros_2.11-0.13.2.jar\n",
            "spark-2.4.3-bin-hadoop2.7/jars/derby-10.12.1.1.jar\n",
            "spark-2.4.3-bin-hadoop2.7/jars/shapeless_2.11-2.3.2.jar\n",
            "spark-2.4.3-bin-hadoop2.7/jars/spark-tags_2.11-2.4.3.jar\n",
            "spark-2.4.3-bin-hadoop2.7/jars/minlog-1.3.0.jar\n",
            "spark-2.4.3-bin-hadoop2.7/jars/commons-logging-1.1.3.jar\n",
            "spark-2.4.3-bin-hadoop2.7/jars/kubernetes-model-4.1.2.jar\n",
            "spark-2.4.3-bin-hadoop2.7/jars/spark-hive-thriftserver_2.11-2.4.3.jar\n",
            "spark-2.4.3-bin-hadoop2.7/jars/hive-cli-1.2.1.spark2.jar\n",
            "spark-2.4.3-bin-hadoop2.7/jars/metrics-core-3.1.5.jar\n",
            "spark-2.4.3-bin-hadoop2.7/jars/jackson-module-scala_2.11-2.6.7.1.jar\n",
            "spark-2.4.3-bin-hadoop2.7/jars/automaton-1.11-8.jar\n",
            "spark-2.4.3-bin-hadoop2.7/jars/objenesis-2.5.1.jar\n",
            "spark-2.4.3-bin-hadoop2.7/jars/json4s-core_2.11-3.5.3.jar\n",
            "spark-2.4.3-bin-hadoop2.7/jars/py4j-0.10.7.jar\n",
            "spark-2.4.3-bin-hadoop2.7/jars/jetty-6.1.26.jar\n",
            "spark-2.4.3-bin-hadoop2.7/jars/slf4j-api-1.7.16.jar\n",
            "spark-2.4.3-bin-hadoop2.7/jars/orc-core-1.5.5-nohive.jar\n",
            "spark-2.4.3-bin-hadoop2.7/jars/commons-io-2.4.jar\n",
            "spark-2.4.3-bin-hadoop2.7/jars/jackson-xc-1.9.13.jar\n",
            "spark-2.4.3-bin-hadoop2.7/jars/scala-reflect-2.11.12.jar\n",
            "spark-2.4.3-bin-hadoop2.7/jars/xmlenc-0.52.jar\n",
            "spark-2.4.3-bin-hadoop2.7/jars/jetty-util-6.1.26.jar\n",
            "spark-2.4.3-bin-hadoop2.7/jars/ivy-2.4.0.jar\n",
            "spark-2.4.3-bin-hadoop2.7/jars/scala-library-2.11.12.jar\n",
            "spark-2.4.3-bin-hadoop2.7/jars/snappy-0.2.jar\n",
            "spark-2.4.3-bin-hadoop2.7/jars/jsr305-1.3.9.jar\n",
            "spark-2.4.3-bin-hadoop2.7/jars/arpack_combined_all-0.1.jar\n",
            "spark-2.4.3-bin-hadoop2.7/jars/stax-api-1.0.1.jar\n",
            "spark-2.4.3-bin-hadoop2.7/jars/hadoop-mapreduce-client-app-2.7.3.jar\n",
            "spark-2.4.3-bin-hadoop2.7/jars/hk2-api-2.4.0-b34.jar\n",
            "spark-2.4.3-bin-hadoop2.7/jars/jackson-dataformat-yaml-2.6.7.jar\n",
            "spark-2.4.3-bin-hadoop2.7/jars/arrow-vector-0.10.0.jar\n",
            "spark-2.4.3-bin-hadoop2.7/jars/flatbuffers-1.2.0-3f79e055.jar\n",
            "spark-2.4.3-bin-hadoop2.7/jars/calcite-avatica-1.2.0-incubating.jar\n",
            "spark-2.4.3-bin-hadoop2.7/jars/generex-1.0.1.jar\n",
            "spark-2.4.3-bin-hadoop2.7/jars/JavaEWAH-0.3.2.jar\n",
            "spark-2.4.3-bin-hadoop2.7/jars/javax.servlet-api-3.1.0.jar\n",
            "spark-2.4.3-bin-hadoop2.7/jars/hadoop-hdfs-2.7.3.jar\n",
            "spark-2.4.3-bin-hadoop2.7/jars/hadoop-auth-2.7.3.jar\n",
            "spark-2.4.3-bin-hadoop2.7/bin/\n",
            "spark-2.4.3-bin-hadoop2.7/bin/beeline\n",
            "spark-2.4.3-bin-hadoop2.7/bin/pyspark\n",
            "spark-2.4.3-bin-hadoop2.7/bin/pyspark.cmd\n",
            "spark-2.4.3-bin-hadoop2.7/bin/find-spark-home\n",
            "spark-2.4.3-bin-hadoop2.7/bin/spark-submit2.cmd\n",
            "spark-2.4.3-bin-hadoop2.7/bin/spark-class.cmd\n",
            "spark-2.4.3-bin-hadoop2.7/bin/run-example\n",
            "spark-2.4.3-bin-hadoop2.7/bin/sparkR2.cmd\n",
            "spark-2.4.3-bin-hadoop2.7/bin/spark-sql2.cmd\n",
            "spark-2.4.3-bin-hadoop2.7/bin/spark-submit.cmd\n",
            "spark-2.4.3-bin-hadoop2.7/bin/run-example.cmd\n",
            "spark-2.4.3-bin-hadoop2.7/bin/sparkR.cmd\n",
            "spark-2.4.3-bin-hadoop2.7/bin/spark-class2.cmd\n",
            "spark-2.4.3-bin-hadoop2.7/bin/spark-submit\n",
            "spark-2.4.3-bin-hadoop2.7/bin/sparkR\n",
            "spark-2.4.3-bin-hadoop2.7/bin/spark-sql.cmd\n",
            "spark-2.4.3-bin-hadoop2.7/bin/load-spark-env.cmd\n",
            "spark-2.4.3-bin-hadoop2.7/bin/pyspark2.cmd\n",
            "spark-2.4.3-bin-hadoop2.7/bin/docker-image-tool.sh\n",
            "spark-2.4.3-bin-hadoop2.7/bin/spark-shell\n",
            "spark-2.4.3-bin-hadoop2.7/bin/find-spark-home.cmd\n",
            "spark-2.4.3-bin-hadoop2.7/bin/spark-shell.cmd\n",
            "spark-2.4.3-bin-hadoop2.7/bin/load-spark-env.sh\n",
            "spark-2.4.3-bin-hadoop2.7/bin/spark-sql\n",
            "spark-2.4.3-bin-hadoop2.7/bin/spark-shell2.cmd\n",
            "spark-2.4.3-bin-hadoop2.7/bin/spark-class\n",
            "spark-2.4.3-bin-hadoop2.7/bin/beeline.cmd\n",
            "spark-2.4.3-bin-hadoop2.7/RELEASE\n",
            "spark-2.4.3-bin-hadoop2.7/R/\n",
            "spark-2.4.3-bin-hadoop2.7/R/lib/\n",
            "spark-2.4.3-bin-hadoop2.7/R/lib/SparkR/\n",
            "spark-2.4.3-bin-hadoop2.7/R/lib/SparkR/NAMESPACE\n",
            "spark-2.4.3-bin-hadoop2.7/R/lib/SparkR/DESCRIPTION\n",
            "spark-2.4.3-bin-hadoop2.7/R/lib/SparkR/R/\n",
            "spark-2.4.3-bin-hadoop2.7/R/lib/SparkR/R/SparkR.rdb\n",
            "spark-2.4.3-bin-hadoop2.7/R/lib/SparkR/R/SparkR\n",
            "spark-2.4.3-bin-hadoop2.7/R/lib/SparkR/R/SparkR.rdx\n",
            "spark-2.4.3-bin-hadoop2.7/R/lib/SparkR/html/\n",
            "spark-2.4.3-bin-hadoop2.7/R/lib/SparkR/html/R.css\n",
            "spark-2.4.3-bin-hadoop2.7/R/lib/SparkR/html/00Index.html\n",
            "spark-2.4.3-bin-hadoop2.7/R/lib/SparkR/help/\n",
            "spark-2.4.3-bin-hadoop2.7/R/lib/SparkR/help/AnIndex\n",
            "spark-2.4.3-bin-hadoop2.7/R/lib/SparkR/help/SparkR.rdb\n",
            "spark-2.4.3-bin-hadoop2.7/R/lib/SparkR/help/aliases.rds\n",
            "spark-2.4.3-bin-hadoop2.7/R/lib/SparkR/help/SparkR.rdx\n",
            "spark-2.4.3-bin-hadoop2.7/R/lib/SparkR/help/paths.rds\n",
            "spark-2.4.3-bin-hadoop2.7/R/lib/SparkR/profile/\n",
            "spark-2.4.3-bin-hadoop2.7/R/lib/SparkR/profile/general.R\n",
            "spark-2.4.3-bin-hadoop2.7/R/lib/SparkR/profile/shell.R\n",
            "spark-2.4.3-bin-hadoop2.7/R/lib/SparkR/tests/\n",
            "spark-2.4.3-bin-hadoop2.7/R/lib/SparkR/tests/testthat/\n",
            "spark-2.4.3-bin-hadoop2.7/R/lib/SparkR/tests/testthat/test_basic.R\n",
            "spark-2.4.3-bin-hadoop2.7/R/lib/SparkR/Meta/\n",
            "spark-2.4.3-bin-hadoop2.7/R/lib/SparkR/Meta/package.rds\n",
            "spark-2.4.3-bin-hadoop2.7/R/lib/SparkR/Meta/Rd.rds\n",
            "spark-2.4.3-bin-hadoop2.7/R/lib/SparkR/Meta/nsInfo.rds\n",
            "spark-2.4.3-bin-hadoop2.7/R/lib/SparkR/Meta/hsearch.rds\n",
            "spark-2.4.3-bin-hadoop2.7/R/lib/SparkR/Meta/features.rds\n",
            "spark-2.4.3-bin-hadoop2.7/R/lib/SparkR/Meta/links.rds\n",
            "spark-2.4.3-bin-hadoop2.7/R/lib/SparkR/worker/\n",
            "spark-2.4.3-bin-hadoop2.7/R/lib/SparkR/worker/daemon.R\n",
            "spark-2.4.3-bin-hadoop2.7/R/lib/SparkR/worker/worker.R\n",
            "spark-2.4.3-bin-hadoop2.7/R/lib/SparkR/INDEX\n",
            "spark-2.4.3-bin-hadoop2.7/R/lib/sparkr.zip\n",
            "spark-2.4.3-bin-hadoop2.7/yarn/\n",
            "spark-2.4.3-bin-hadoop2.7/yarn/spark-2.4.3-yarn-shuffle.jar\n",
            "spark-2.4.3-bin-hadoop2.7/examples/\n",
            "spark-2.4.3-bin-hadoop2.7/examples/jars/\n",
            "spark-2.4.3-bin-hadoop2.7/examples/jars/spark-examples_2.11-2.4.3.jar\n",
            "spark-2.4.3-bin-hadoop2.7/examples/jars/scopt_2.11-3.7.0.jar\n",
            "spark-2.4.3-bin-hadoop2.7/examples/src/\n",
            "spark-2.4.3-bin-hadoop2.7/examples/src/main/\n",
            "spark-2.4.3-bin-hadoop2.7/examples/src/main/python/\n",
            "spark-2.4.3-bin-hadoop2.7/examples/src/main/python/als.py\n",
            "spark-2.4.3-bin-hadoop2.7/examples/src/main/python/pagerank.py\n",
            "spark-2.4.3-bin-hadoop2.7/examples/src/main/python/mllib/\n",
            "spark-2.4.3-bin-hadoop2.7/examples/src/main/python/mllib/ranking_metrics_example.py\n",
            "spark-2.4.3-bin-hadoop2.7/examples/src/main/python/mllib/gradient_boosting_regression_example.py\n",
            "spark-2.4.3-bin-hadoop2.7/examples/src/main/python/mllib/decision_tree_classification_example.py\n",
            "spark-2.4.3-bin-hadoop2.7/examples/src/main/python/mllib/tf_idf_example.py\n",
            "spark-2.4.3-bin-hadoop2.7/examples/src/main/python/mllib/decision_tree_regression_example.py\n",
            "spark-2.4.3-bin-hadoop2.7/examples/src/main/python/mllib/k_means_example.py\n",
            "spark-2.4.3-bin-hadoop2.7/examples/src/main/python/mllib/streaming_linear_regression_example.py\n",
            "spark-2.4.3-bin-hadoop2.7/examples/src/main/python/mllib/random_forest_regression_example.py\n",
            "spark-2.4.3-bin-hadoop2.7/examples/src/main/python/mllib/random_forest_classification_example.py\n",
            "spark-2.4.3-bin-hadoop2.7/examples/src/main/python/mllib/pca_rowmatrix_example.py\n",
            "spark-2.4.3-bin-hadoop2.7/examples/src/main/python/mllib/elementwise_product_example.py\n",
            "spark-2.4.3-bin-hadoop2.7/examples/src/main/python/mllib/stratified_sampling_example.py\n",
            "spark-2.4.3-bin-hadoop2.7/examples/src/main/python/mllib/multi_class_metrics_example.py\n",
            "spark-2.4.3-bin-hadoop2.7/examples/src/main/python/mllib/gradient_boosting_classification_example.py\n",
            "spark-2.4.3-bin-hadoop2.7/examples/src/main/python/mllib/fpgrowth_example.py\n",
            "spark-2.4.3-bin-hadoop2.7/examples/src/main/python/mllib/binary_classification_metrics_example.py\n",
            "spark-2.4.3-bin-hadoop2.7/examples/src/main/python/mllib/sampled_rdds.py\n",
            "spark-2.4.3-bin-hadoop2.7/examples/src/main/python/mllib/logistic_regression_with_lbfgs_example.py\n",
            "spark-2.4.3-bin-hadoop2.7/examples/src/main/python/mllib/kernel_density_estimation_example.py\n",
            "spark-2.4.3-bin-hadoop2.7/examples/src/main/python/mllib/logistic_regression.py\n",
            "spark-2.4.3-bin-hadoop2.7/examples/src/main/python/mllib/hypothesis_testing_example.py\n",
            "spark-2.4.3-bin-hadoop2.7/examples/src/main/python/mllib/svm_with_sgd_example.py\n",
            "spark-2.4.3-bin-hadoop2.7/examples/src/main/python/mllib/streaming_k_means_example.py\n",
            "spark-2.4.3-bin-hadoop2.7/examples/src/main/python/mllib/correlations.py\n",
            "spark-2.4.3-bin-hadoop2.7/examples/src/main/python/mllib/correlations_example.py\n",
            "spark-2.4.3-bin-hadoop2.7/examples/src/main/python/mllib/regression_metrics_example.py\n",
            "spark-2.4.3-bin-hadoop2.7/examples/src/main/python/mllib/naive_bayes_example.py\n",
            "spark-2.4.3-bin-hadoop2.7/examples/src/main/python/mllib/gaussian_mixture_model.py\n",
            "spark-2.4.3-bin-hadoop2.7/examples/src/main/python/mllib/hypothesis_testing_kolmogorov_smirnov_test_example.py\n",
            "spark-2.4.3-bin-hadoop2.7/examples/src/main/python/mllib/word2vec.py\n",
            "spark-2.4.3-bin-hadoop2.7/examples/src/main/python/mllib/latent_dirichlet_allocation_example.py\n",
            "spark-2.4.3-bin-hadoop2.7/examples/src/main/python/mllib/recommendation_example.py\n",
            "spark-2.4.3-bin-hadoop2.7/examples/src/main/python/mllib/linear_regression_with_sgd_example.py\n",
            "spark-2.4.3-bin-hadoop2.7/examples/src/main/python/mllib/random_rdd_generation.py\n",
            "spark-2.4.3-bin-hadoop2.7/examples/src/main/python/mllib/bisecting_k_means_example.py\n",
            "spark-2.4.3-bin-hadoop2.7/examples/src/main/python/mllib/summary_statistics_example.py\n",
            "spark-2.4.3-bin-hadoop2.7/examples/src/main/python/mllib/word2vec_example.py\n",
            "spark-2.4.3-bin-hadoop2.7/examples/src/main/python/mllib/kmeans.py\n",
            "spark-2.4.3-bin-hadoop2.7/examples/src/main/python/mllib/standard_scaler_example.py\n",
            "spark-2.4.3-bin-hadoop2.7/examples/src/main/python/mllib/multi_label_metrics_example.py\n",
            "spark-2.4.3-bin-hadoop2.7/examples/src/main/python/mllib/svd_example.py\n",
            "spark-2.4.3-bin-hadoop2.7/examples/src/main/python/mllib/normalizer_example.py\n",
            "spark-2.4.3-bin-hadoop2.7/examples/src/main/python/mllib/power_iteration_clustering_example.py\n",
            "spark-2.4.3-bin-hadoop2.7/examples/src/main/python/mllib/isotonic_regression_example.py\n",
            "spark-2.4.3-bin-hadoop2.7/examples/src/main/python/mllib/gaussian_mixture_example.py\n",
            "spark-2.4.3-bin-hadoop2.7/examples/src/main/python/parquet_inputformat.py\n",
            "spark-2.4.3-bin-hadoop2.7/examples/src/main/python/logistic_regression.py\n",
            "spark-2.4.3-bin-hadoop2.7/examples/src/main/python/ml/\n",
            "spark-2.4.3-bin-hadoop2.7/examples/src/main/python/ml/rformula_example.py\n",
            "spark-2.4.3-bin-hadoop2.7/examples/src/main/python/ml/min_max_scaler_example.py\n",
            "spark-2.4.3-bin-hadoop2.7/examples/src/main/python/ml/min_hash_lsh_example.py\n",
            "spark-2.4.3-bin-hadoop2.7/examples/src/main/python/ml/gradient_boosted_tree_regressor_example.py\n",
            "spark-2.4.3-bin-hadoop2.7/examples/src/main/python/ml/decision_tree_classification_example.py\n",
            "spark-2.4.3-bin-hadoop2.7/examples/src/main/python/ml/logistic_regression_with_elastic_net.py\n",
            "spark-2.4.3-bin-hadoop2.7/examples/src/main/python/ml/tf_idf_example.py\n",
            "spark-2.4.3-bin-hadoop2.7/examples/src/main/python/ml/decision_tree_regression_example.py\n",
            "spark-2.4.3-bin-hadoop2.7/examples/src/main/python/ml/vector_slicer_example.py\n",
            "spark-2.4.3-bin-hadoop2.7/examples/src/main/python/ml/als_example.py\n",
            "spark-2.4.3-bin-hadoop2.7/examples/src/main/python/ml/cross_validator.py\n",
            "spark-2.4.3-bin-hadoop2.7/examples/src/main/python/ml/onehot_encoder_estimator_example.py\n",
            "spark-2.4.3-bin-hadoop2.7/examples/src/main/python/ml/gradient_boosted_tree_classifier_example.py\n",
            "spark-2.4.3-bin-hadoop2.7/examples/src/main/python/ml/generalized_linear_regression_example.py\n",
            "spark-2.4.3-bin-hadoop2.7/examples/src/main/python/ml/random_forest_regressor_example.py\n",
            "spark-2.4.3-bin-hadoop2.7/examples/src/main/python/ml/chisq_selector_example.py\n",
            "spark-2.4.3-bin-hadoop2.7/examples/src/main/python/ml/max_abs_scaler_example.py\n",
            "spark-2.4.3-bin-hadoop2.7/examples/src/main/python/ml/n_gram_example.py\n",
            "spark-2.4.3-bin-hadoop2.7/examples/src/main/python/ml/elementwise_product_example.py\n",
            "spark-2.4.3-bin-hadoop2.7/examples/src/main/python/ml/binarizer_example.py\n",
            "spark-2.4.3-bin-hadoop2.7/examples/src/main/python/ml/bucketed_random_projection_lsh_example.py\n",
            "spark-2.4.3-bin-hadoop2.7/examples/src/main/python/ml/imputer_example.py\n",
            "spark-2.4.3-bin-hadoop2.7/examples/src/main/python/ml/correlation_example.py\n",
            "spark-2.4.3-bin-hadoop2.7/examples/src/main/python/ml/count_vectorizer_example.py\n",
            "spark-2.4.3-bin-hadoop2.7/examples/src/main/python/ml/multilayer_perceptron_classification.py\n",
            "spark-2.4.3-bin-hadoop2.7/examples/src/main/python/ml/stopwords_remover_example.py\n",
            "spark-2.4.3-bin-hadoop2.7/examples/src/main/python/ml/fpgrowth_example.py\n",
            "spark-2.4.3-bin-hadoop2.7/examples/src/main/python/ml/kmeans_example.py\n",
            "spark-2.4.3-bin-hadoop2.7/examples/src/main/python/ml/chi_square_test_example.py\n",
            "spark-2.4.3-bin-hadoop2.7/examples/src/main/python/ml/aft_survival_regression.py\n",
            "spark-2.4.3-bin-hadoop2.7/examples/src/main/python/ml/dct_example.py\n",
            "spark-2.4.3-bin-hadoop2.7/examples/src/main/python/ml/dataframe_example.py\n",
            "spark-2.4.3-bin-hadoop2.7/examples/src/main/python/ml/pca_example.py\n",
            "spark-2.4.3-bin-hadoop2.7/examples/src/main/python/ml/pipeline_example.py\n",
            "spark-2.4.3-bin-hadoop2.7/examples/src/main/python/ml/polynomial_expansion_example.py\n",
            "spark-2.4.3-bin-hadoop2.7/examples/src/main/python/ml/tokenizer_example.py\n",
            "spark-2.4.3-bin-hadoop2.7/examples/src/main/python/ml/estimator_transformer_param_example.py\n",
            "spark-2.4.3-bin-hadoop2.7/examples/src/main/python/ml/naive_bayes_example.py\n",
            "spark-2.4.3-bin-hadoop2.7/examples/src/main/python/ml/string_indexer_example.py\n",
            "spark-2.4.3-bin-hadoop2.7/examples/src/main/python/ml/summarizer_example.py\n",
            "spark-2.4.3-bin-hadoop2.7/examples/src/main/python/ml/bucketizer_example.py\n",
            "spark-2.4.3-bin-hadoop2.7/examples/src/main/python/ml/vector_assembler_example.py\n",
            "spark-2.4.3-bin-hadoop2.7/examples/src/main/python/ml/sql_transformer.py\n",
            "spark-2.4.3-bin-hadoop2.7/examples/src/main/python/ml/feature_hasher_example.py\n",
            "spark-2.4.3-bin-hadoop2.7/examples/src/main/python/ml/vector_indexer_example.py\n",
            "spark-2.4.3-bin-hadoop2.7/examples/src/main/python/ml/train_validation_split.py\n",
            "spark-2.4.3-bin-hadoop2.7/examples/src/main/python/ml/vector_size_hint_example.py\n",
            "spark-2.4.3-bin-hadoop2.7/examples/src/main/python/ml/one_vs_rest_example.py\n",
            "spark-2.4.3-bin-hadoop2.7/examples/src/main/python/ml/logistic_regression_summary_example.py\n",
            "spark-2.4.3-bin-hadoop2.7/examples/src/main/python/ml/bisecting_k_means_example.py\n",
            "spark-2.4.3-bin-hadoop2.7/examples/src/main/python/ml/multiclass_logistic_regression_with_elastic_net.py\n",
            "spark-2.4.3-bin-hadoop2.7/examples/src/main/python/ml/index_to_string_example.py\n",
            "spark-2.4.3-bin-hadoop2.7/examples/src/main/python/ml/linear_regression_with_elastic_net.py\n",
            "spark-2.4.3-bin-hadoop2.7/examples/src/main/python/ml/linearsvc.py\n",
            "spark-2.4.3-bin-hadoop2.7/examples/src/main/python/ml/word2vec_example.py\n",
            "spark-2.4.3-bin-hadoop2.7/examples/src/main/python/ml/standard_scaler_example.py\n",
            "spark-2.4.3-bin-hadoop2.7/examples/src/main/python/ml/prefixspan_example.py\n",
            "spark-2.4.3-bin-hadoop2.7/examples/src/main/python/ml/lda_example.py\n",
            "spark-2.4.3-bin-hadoop2.7/examples/src/main/python/ml/normalizer_example.py\n",
            "spark-2.4.3-bin-hadoop2.7/examples/src/main/python/ml/quantile_discretizer_example.py\n",
            "spark-2.4.3-bin-hadoop2.7/examples/src/main/python/ml/random_forest_classifier_example.py\n",
            "spark-2.4.3-bin-hadoop2.7/examples/src/main/python/ml/isotonic_regression_example.py\n",
            "spark-2.4.3-bin-hadoop2.7/examples/src/main/python/ml/gaussian_mixture_example.py\n",
            "spark-2.4.3-bin-hadoop2.7/examples/src/main/python/transitive_closure.py\n",
            "spark-2.4.3-bin-hadoop2.7/examples/src/main/python/streaming/\n",
            "spark-2.4.3-bin-hadoop2.7/examples/src/main/python/streaming/flume_wordcount.py\n",
            "spark-2.4.3-bin-hadoop2.7/examples/src/main/python/streaming/queue_stream.py\n",
            "spark-2.4.3-bin-hadoop2.7/examples/src/main/python/streaming/recoverable_network_wordcount.py\n",
            "spark-2.4.3-bin-hadoop2.7/examples/src/main/python/streaming/kafka_wordcount.py\n",
            "spark-2.4.3-bin-hadoop2.7/examples/src/main/python/streaming/hdfs_wordcount.py\n",
            "spark-2.4.3-bin-hadoop2.7/examples/src/main/python/streaming/direct_kafka_wordcount.py\n",
            "spark-2.4.3-bin-hadoop2.7/examples/src/main/python/streaming/stateful_network_wordcount.py\n",
            "spark-2.4.3-bin-hadoop2.7/examples/src/main/python/streaming/network_wordcount.py\n",
            "spark-2.4.3-bin-hadoop2.7/examples/src/main/python/streaming/sql_network_wordcount.py\n",
            "spark-2.4.3-bin-hadoop2.7/examples/src/main/python/streaming/network_wordjoinsentiments.py\n",
            "spark-2.4.3-bin-hadoop2.7/examples/src/main/python/wordcount.py\n",
            "spark-2.4.3-bin-hadoop2.7/examples/src/main/python/status_api_demo.py\n",
            "spark-2.4.3-bin-hadoop2.7/examples/src/main/python/sql/\n",
            "spark-2.4.3-bin-hadoop2.7/examples/src/main/python/sql/basic.py\n",
            "spark-2.4.3-bin-hadoop2.7/examples/src/main/python/sql/arrow.py\n",
            "spark-2.4.3-bin-hadoop2.7/examples/src/main/python/sql/streaming/\n",
            "spark-2.4.3-bin-hadoop2.7/examples/src/main/python/sql/streaming/structured_kafka_wordcount.py\n",
            "spark-2.4.3-bin-hadoop2.7/examples/src/main/python/sql/streaming/structured_network_wordcount_windowed.py\n",
            "spark-2.4.3-bin-hadoop2.7/examples/src/main/python/sql/streaming/structured_network_wordcount.py\n",
            "spark-2.4.3-bin-hadoop2.7/examples/src/main/python/sql/datasource.py\n",
            "spark-2.4.3-bin-hadoop2.7/examples/src/main/python/sql/hive.py\n",
            "spark-2.4.3-bin-hadoop2.7/examples/src/main/python/kmeans.py\n",
            "spark-2.4.3-bin-hadoop2.7/examples/src/main/python/sort.py\n",
            "spark-2.4.3-bin-hadoop2.7/examples/src/main/python/pi.py\n",
            "spark-2.4.3-bin-hadoop2.7/examples/src/main/python/avro_inputformat.py\n",
            "spark-2.4.3-bin-hadoop2.7/examples/src/main/scala/\n",
            "spark-2.4.3-bin-hadoop2.7/examples/src/main/scala/org/\n",
            "spark-2.4.3-bin-hadoop2.7/examples/src/main/scala/org/apache/\n",
            "spark-2.4.3-bin-hadoop2.7/examples/src/main/scala/org/apache/spark/\n",
            "spark-2.4.3-bin-hadoop2.7/examples/src/main/scala/org/apache/spark/examples/\n",
            "spark-2.4.3-bin-hadoop2.7/examples/src/main/scala/org/apache/spark/examples/LocalPi.scala\n",
            "spark-2.4.3-bin-hadoop2.7/examples/src/main/scala/org/apache/spark/examples/SparkTC.scala\n",
            "spark-2.4.3-bin-hadoop2.7/examples/src/main/scala/org/apache/spark/examples/pythonconverters/\n",
            "spark-2.4.3-bin-hadoop2.7/examples/src/main/scala/org/apache/spark/examples/pythonconverters/AvroConverters.scala\n",
            "spark-2.4.3-bin-hadoop2.7/examples/src/main/scala/org/apache/spark/examples/HdfsTest.scala\n",
            "spark-2.4.3-bin-hadoop2.7/examples/src/main/scala/org/apache/spark/examples/SparkHdfsLR.scala\n",
            "spark-2.4.3-bin-hadoop2.7/examples/src/main/scala/org/apache/spark/examples/graphx/\n",
            "spark-2.4.3-bin-hadoop2.7/examples/src/main/scala/org/apache/spark/examples/graphx/LiveJournalPageRank.scala\n",
            "spark-2.4.3-bin-hadoop2.7/examples/src/main/scala/org/apache/spark/examples/graphx/Analytics.scala\n",
            "spark-2.4.3-bin-hadoop2.7/examples/src/main/scala/org/apache/spark/examples/graphx/ConnectedComponentsExample.scala\n",
            "spark-2.4.3-bin-hadoop2.7/examples/src/main/scala/org/apache/spark/examples/graphx/TriangleCountingExample.scala\n",
            "spark-2.4.3-bin-hadoop2.7/examples/src/main/scala/org/apache/spark/examples/graphx/SynthBenchmark.scala\n",
            "spark-2.4.3-bin-hadoop2.7/examples/src/main/scala/org/apache/spark/examples/graphx/ComprehensiveExample.scala\n",
            "spark-2.4.3-bin-hadoop2.7/examples/src/main/scala/org/apache/spark/examples/graphx/SSSPExample.scala\n",
            "spark-2.4.3-bin-hadoop2.7/examples/src/main/scala/org/apache/spark/examples/graphx/AggregateMessagesExample.scala\n",
            "spark-2.4.3-bin-hadoop2.7/examples/src/main/scala/org/apache/spark/examples/graphx/PageRankExample.scala\n",
            "spark-2.4.3-bin-hadoop2.7/examples/src/main/scala/org/apache/spark/examples/SparkPageRank.scala\n",
            "spark-2.4.3-bin-hadoop2.7/examples/src/main/scala/org/apache/spark/examples/LocalKMeans.scala\n",
            "spark-2.4.3-bin-hadoop2.7/examples/src/main/scala/org/apache/spark/examples/BroadcastTest.scala\n",
            "spark-2.4.3-bin-hadoop2.7/examples/src/main/scala/org/apache/spark/examples/SparkLR.scala\n",
            "spark-2.4.3-bin-hadoop2.7/examples/src/main/scala/org/apache/spark/examples/mllib/\n",
            "spark-2.4.3-bin-hadoop2.7/examples/src/main/scala/org/apache/spark/examples/mllib/StreamingTestExample.scala\n",
            "spark-2.4.3-bin-hadoop2.7/examples/src/main/scala/org/apache/spark/examples/mllib/StreamingLinearRegressionExample.scala\n",
            "spark-2.4.3-bin-hadoop2.7/examples/src/main/scala/org/apache/spark/examples/mllib/LatentDirichletAllocationExample.scala\n",
            "spark-2.4.3-bin-hadoop2.7/examples/src/main/scala/org/apache/spark/examples/mllib/StandardScalerExample.scala\n",
            "spark-2.4.3-bin-hadoop2.7/examples/src/main/scala/org/apache/spark/examples/mllib/GaussianMixtureExample.scala\n",
            "spark-2.4.3-bin-hadoop2.7/examples/src/main/scala/org/apache/spark/examples/mllib/ElementwiseProductExample.scala\n",
            "spark-2.4.3-bin-hadoop2.7/examples/src/main/scala/org/apache/spark/examples/mllib/LBFGSExample.scala\n",
            "spark-2.4.3-bin-hadoop2.7/examples/src/main/scala/org/apache/spark/examples/mllib/SampledRDDs.scala\n",
            "spark-2.4.3-bin-hadoop2.7/examples/src/main/scala/org/apache/spark/examples/mllib/GradientBoostedTreesRunner.scala\n",
            "spark-2.4.3-bin-hadoop2.7/examples/src/main/scala/org/apache/spark/examples/mllib/TallSkinnyPCA.scala\n",
            "spark-2.4.3-bin-hadoop2.7/examples/src/main/scala/org/apache/spark/examples/mllib/DecisionTreeRunner.scala\n",
            "spark-2.4.3-bin-hadoop2.7/examples/src/main/scala/org/apache/spark/examples/mllib/GradientBoostingClassificationExample.scala\n",
            "spark-2.4.3-bin-hadoop2.7/examples/src/main/scala/org/apache/spark/examples/mllib/PrefixSpanExample.scala\n",
            "spark-2.4.3-bin-hadoop2.7/examples/src/main/scala/org/apache/spark/examples/mllib/Correlations.scala\n",
            "spark-2.4.3-bin-hadoop2.7/examples/src/main/scala/org/apache/spark/examples/mllib/SimpleFPGrowth.scala\n",
            "spark-2.4.3-bin-hadoop2.7/examples/src/main/scala/org/apache/spark/examples/mllib/Word2VecExample.scala\n",
            "spark-2.4.3-bin-hadoop2.7/examples/src/main/scala/org/apache/spark/examples/mllib/RankingMetricsExample.scala\n",
            "spark-2.4.3-bin-hadoop2.7/examples/src/main/scala/org/apache/spark/examples/mllib/NaiveBayesExample.scala\n",
            "spark-2.4.3-bin-hadoop2.7/examples/src/main/scala/org/apache/spark/examples/mllib/IsotonicRegressionExample.scala\n",
            "spark-2.4.3-bin-hadoop2.7/examples/src/main/scala/org/apache/spark/examples/mllib/LinearRegression.scala\n",
            "spark-2.4.3-bin-hadoop2.7/examples/src/main/scala/org/apache/spark/examples/mllib/MultivariateSummarizer.scala\n",
            "spark-2.4.3-bin-hadoop2.7/examples/src/main/scala/org/apache/spark/examples/mllib/TallSkinnySVD.scala\n",
            "spark-2.4.3-bin-hadoop2.7/examples/src/main/scala/org/apache/spark/examples/mllib/FPGrowthExample.scala\n",
            "spark-2.4.3-bin-hadoop2.7/examples/src/main/scala/org/apache/spark/examples/mllib/SVMWithSGDExample.scala\n",
            "spark-2.4.3-bin-hadoop2.7/examples/src/main/scala/org/apache/spark/examples/mllib/RecommendationExample.scala\n",
            "spark-2.4.3-bin-hadoop2.7/examples/src/main/scala/org/apache/spark/examples/mllib/PCAOnSourceVectorExample.scala\n",
            "spark-2.4.3-bin-hadoop2.7/examples/src/main/scala/org/apache/spark/examples/mllib/MovieLensALS.scala\n",
            "spark-2.4.3-bin-hadoop2.7/examples/src/main/scala/org/apache/spark/examples/mllib/DecisionTreeClassificationExample.scala\n",
            "spark-2.4.3-bin-hadoop2.7/examples/src/main/scala/org/apache/spark/examples/mllib/KMeansExample.scala\n",
            "spark-2.4.3-bin-hadoop2.7/examples/src/main/scala/org/apache/spark/examples/mllib/PMMLModelExportExample.scala\n",
            "spark-2.4.3-bin-hadoop2.7/examples/src/main/scala/org/apache/spark/examples/mllib/LogisticRegressionWithLBFGSExample.scala\n",
            "spark-2.4.3-bin-hadoop2.7/examples/src/main/scala/org/apache/spark/examples/mllib/StratifiedSamplingExample.scala\n",
            "spark-2.4.3-bin-hadoop2.7/examples/src/main/scala/org/apache/spark/examples/mllib/CosineSimilarity.scala\n",
            "spark-2.4.3-bin-hadoop2.7/examples/src/main/scala/org/apache/spark/examples/mllib/GradientBoostingRegressionExample.scala\n",
            "spark-2.4.3-bin-hadoop2.7/examples/src/main/scala/org/apache/spark/examples/mllib/SummaryStatisticsExample.scala\n",
            "spark-2.4.3-bin-hadoop2.7/examples/src/main/scala/org/apache/spark/examples/mllib/StreamingLogisticRegression.scala\n",
            "spark-2.4.3-bin-hadoop2.7/examples/src/main/scala/org/apache/spark/examples/mllib/RegressionMetricsExample.scala\n",
            "spark-2.4.3-bin-hadoop2.7/examples/src/main/scala/org/apache/spark/examples/mllib/DenseKMeans.scala\n",
            "spark-2.4.3-bin-hadoop2.7/examples/src/main/scala/org/apache/spark/examples/mllib/HypothesisTestingKolmogorovSmirnovTestExample.scala\n",
            "spark-2.4.3-bin-hadoop2.7/examples/src/main/scala/org/apache/spark/examples/mllib/RandomForestClassificationExample.scala\n",
            "spark-2.4.3-bin-hadoop2.7/examples/src/main/scala/org/apache/spark/examples/mllib/LDAExample.scala\n",
            "spark-2.4.3-bin-hadoop2.7/examples/src/main/scala/org/apache/spark/examples/mllib/DecisionTreeRegressionExample.scala\n",
            "spark-2.4.3-bin-hadoop2.7/examples/src/main/scala/org/apache/spark/examples/mllib/PCAExample.scala\n",
            "spark-2.4.3-bin-hadoop2.7/examples/src/main/scala/org/apache/spark/examples/mllib/KernelDensityEstimationExample.scala\n",
            "spark-2.4.3-bin-hadoop2.7/examples/src/main/scala/org/apache/spark/examples/mllib/MulticlassMetricsExample.scala\n",
            "spark-2.4.3-bin-hadoop2.7/examples/src/main/scala/org/apache/spark/examples/mllib/BinaryClassification.scala\n",
            "spark-2.4.3-bin-hadoop2.7/examples/src/main/scala/org/apache/spark/examples/mllib/PowerIterationClusteringExample.scala\n",
            "spark-2.4.3-bin-hadoop2.7/examples/src/main/scala/org/apache/spark/examples/mllib/SVDExample.scala\n",
            "spark-2.4.3-bin-hadoop2.7/examples/src/main/scala/org/apache/spark/examples/mllib/StreamingKMeansExample.scala\n",
            "spark-2.4.3-bin-hadoop2.7/examples/src/main/scala/org/apache/spark/examples/mllib/BisectingKMeansExample.scala\n",
            "spark-2.4.3-bin-hadoop2.7/examples/src/main/scala/org/apache/spark/examples/mllib/MultiLabelMetricsExample.scala\n",
            "spark-2.4.3-bin-hadoop2.7/examples/src/main/scala/org/apache/spark/examples/mllib/BinaryClassificationMetricsExample.scala\n",
            "spark-2.4.3-bin-hadoop2.7/examples/src/main/scala/org/apache/spark/examples/mllib/RandomRDDGeneration.scala\n",
            "spark-2.4.3-bin-hadoop2.7/examples/src/main/scala/org/apache/spark/examples/mllib/AssociationRulesExample.scala\n",
            "spark-2.4.3-bin-hadoop2.7/examples/src/main/scala/org/apache/spark/examples/mllib/HypothesisTestingExample.scala\n",
            "spark-2.4.3-bin-hadoop2.7/examples/src/main/scala/org/apache/spark/examples/mllib/TFIDFExample.scala\n",
            "spark-2.4.3-bin-hadoop2.7/examples/src/main/scala/org/apache/spark/examples/mllib/LinearRegressionWithSGDExample.scala\n",
            "spark-2.4.3-bin-hadoop2.7/examples/src/main/scala/org/apache/spark/examples/mllib/PCAOnRowMatrixExample.scala\n",
            "spark-2.4.3-bin-hadoop2.7/examples/src/main/scala/org/apache/spark/examples/mllib/NormalizerExample.scala\n",
            "spark-2.4.3-bin-hadoop2.7/examples/src/main/scala/org/apache/spark/examples/mllib/SparseNaiveBayes.scala\n",
            "spark-2.4.3-bin-hadoop2.7/examples/src/main/scala/org/apache/spark/examples/mllib/ChiSqSelectorExample.scala\n",
            "spark-2.4.3-bin-hadoop2.7/examples/src/main/scala/org/apache/spark/examples/mllib/CorrelationsExample.scala\n",
            "spark-2.4.3-bin-hadoop2.7/examples/src/main/scala/org/apache/spark/examples/mllib/RandomForestRegressionExample.scala\n",
            "spark-2.4.3-bin-hadoop2.7/examples/src/main/scala/org/apache/spark/examples/mllib/AbstractParams.scala\n",
            "spark-2.4.3-bin-hadoop2.7/examples/src/main/scala/org/apache/spark/examples/SkewedGroupByTest.scala\n",
            "spark-2.4.3-bin-hadoop2.7/examples/src/main/scala/org/apache/spark/examples/SparkPi.scala\n",
            "spark-2.4.3-bin-hadoop2.7/examples/src/main/scala/org/apache/spark/examples/ml/\n",
            "spark-2.4.3-bin-hadoop2.7/examples/src/main/scala/org/apache/spark/examples/ml/OneVsRestExample.scala\n",
            "spark-2.4.3-bin-hadoop2.7/examples/src/main/scala/org/apache/spark/examples/ml/DecisionTreeExample.scala\n",
            "spark-2.4.3-bin-hadoop2.7/examples/src/main/scala/org/apache/spark/examples/ml/CountVectorizerExample.scala\n",
            "spark-2.4.3-bin-hadoop2.7/examples/src/main/scala/org/apache/spark/examples/ml/ImputerExample.scala\n",
            "spark-2.4.3-bin-hadoop2.7/examples/src/main/scala/org/apache/spark/examples/ml/StandardScalerExample.scala\n",
            "spark-2.4.3-bin-hadoop2.7/examples/src/main/scala/org/apache/spark/examples/ml/GaussianMixtureExample.scala\n",
            "spark-2.4.3-bin-hadoop2.7/examples/src/main/scala/org/apache/spark/examples/ml/BucketedRandomProjectionLSHExample.scala\n",
            "spark-2.4.3-bin-hadoop2.7/examples/src/main/scala/org/apache/spark/examples/ml/ElementwiseProductExample.scala\n",
            "spark-2.4.3-bin-hadoop2.7/examples/src/main/scala/org/apache/spark/examples/ml/CorrelationExample.scala\n",
            "spark-2.4.3-bin-hadoop2.7/examples/src/main/scala/org/apache/spark/examples/ml/ModelSelectionViaCrossValidationExample.scala\n",
            "spark-2.4.3-bin-hadoop2.7/examples/src/main/scala/org/apache/spark/examples/ml/ModelSelectionViaTrainValidationSplitExample.scala\n",
            "spark-2.4.3-bin-hadoop2.7/examples/src/main/scala/org/apache/spark/examples/ml/RandomForestRegressorExample.scala\n",
            "spark-2.4.3-bin-hadoop2.7/examples/src/main/scala/org/apache/spark/examples/ml/MultilayerPerceptronClassifierExample.scala\n",
            "spark-2.4.3-bin-hadoop2.7/examples/src/main/scala/org/apache/spark/examples/ml/LogisticRegressionWithElasticNetExample.scala\n",
            "spark-2.4.3-bin-hadoop2.7/examples/src/main/scala/org/apache/spark/examples/ml/LogisticRegressionExample.scala\n",
            "spark-2.4.3-bin-hadoop2.7/examples/src/main/scala/org/apache/spark/examples/ml/VectorSizeHintExample.scala\n",
            "spark-2.4.3-bin-hadoop2.7/examples/src/main/scala/org/apache/spark/examples/ml/SummarizerExample.scala\n",
            "spark-2.4.3-bin-hadoop2.7/examples/src/main/scala/org/apache/spark/examples/ml/PrefixSpanExample.scala\n",
            "spark-2.4.3-bin-hadoop2.7/examples/src/main/scala/org/apache/spark/examples/ml/ALSExample.scala\n",
            "spark-2.4.3-bin-hadoop2.7/examples/src/main/scala/org/apache/spark/examples/ml/MinMaxScalerExample.scala\n",
            "spark-2.4.3-bin-hadoop2.7/examples/src/main/scala/org/apache/spark/examples/ml/Word2VecExample.scala\n",
            "spark-2.4.3-bin-hadoop2.7/examples/src/main/scala/org/apache/spark/examples/ml/InteractionExample.scala\n",
            "spark-2.4.3-bin-hadoop2.7/examples/src/main/scala/org/apache/spark/examples/ml/NaiveBayesExample.scala\n",
            "spark-2.4.3-bin-hadoop2.7/examples/src/main/scala/org/apache/spark/examples/ml/IsotonicRegressionExample.scala\n",
            "spark-2.4.3-bin-hadoop2.7/examples/src/main/scala/org/apache/spark/examples/ml/StringIndexerExample.scala\n",
            "spark-2.4.3-bin-hadoop2.7/examples/src/main/scala/org/apache/spark/examples/ml/ChiSquareTestExample.scala\n",
            "spark-2.4.3-bin-hadoop2.7/examples/src/main/scala/org/apache/spark/examples/ml/FPGrowthExample.scala\n",
            "spark-2.4.3-bin-hadoop2.7/examples/src/main/scala/org/apache/spark/examples/ml/DecisionTreeClassificationExample.scala\n",
            "spark-2.4.3-bin-hadoop2.7/examples/src/main/scala/org/apache/spark/examples/ml/KMeansExample.scala\n",
            "spark-2.4.3-bin-hadoop2.7/examples/src/main/scala/org/apache/spark/examples/ml/StopWordsRemoverExample.scala\n",
            "spark-2.4.3-bin-hadoop2.7/examples/src/main/scala/org/apache/spark/examples/ml/FeatureHasherExample.scala\n",
            "spark-2.4.3-bin-hadoop2.7/examples/src/main/scala/org/apache/spark/examples/ml/LinearRegressionWithElasticNetExample.scala\n",
            "spark-2.4.3-bin-hadoop2.7/examples/src/main/scala/org/apache/spark/examples/ml/LogisticRegressionSummaryExample.scala\n",
            "spark-2.4.3-bin-hadoop2.7/examples/src/main/scala/org/apache/spark/examples/ml/IndexToStringExample.scala\n",
            "spark-2.4.3-bin-hadoop2.7/examples/src/main/scala/org/apache/spark/examples/ml/GradientBoostedTreeClassifierExample.scala\n",
            "spark-2.4.3-bin-hadoop2.7/examples/src/main/scala/org/apache/spark/examples/ml/GradientBoostedTreeRegressorExample.scala\n",
            "spark-2.4.3-bin-hadoop2.7/examples/src/main/scala/org/apache/spark/examples/ml/SQLTransformerExample.scala\n",
            "spark-2.4.3-bin-hadoop2.7/examples/src/main/scala/org/apache/spark/examples/ml/LDAExample.scala\n",
            "spark-2.4.3-bin-hadoop2.7/examples/src/main/scala/org/apache/spark/examples/ml/DecisionTreeRegressionExample.scala\n",
            "spark-2.4.3-bin-hadoop2.7/examples/src/main/scala/org/apache/spark/examples/ml/LinearSVCExample.scala\n",
            "spark-2.4.3-bin-hadoop2.7/examples/src/main/scala/org/apache/spark/examples/ml/TfIdfExample.scala\n",
            "spark-2.4.3-bin-hadoop2.7/examples/src/main/scala/org/apache/spark/examples/ml/PCAExample.scala\n",
            "spark-2.4.3-bin-hadoop2.7/examples/src/main/scala/org/apache/spark/examples/ml/MulticlassLogisticRegressionWithElasticNetExample.scala\n",
            "spark-2.4.3-bin-hadoop2.7/examples/src/main/scala/org/apache/spark/examples/ml/GeneralizedLinearRegressionExample.scala\n",
            "spark-2.4.3-bin-hadoop2.7/examples/src/main/scala/org/apache/spark/examples/ml/MinHashLSHExample.scala\n",
            "spark-2.4.3-bin-hadoop2.7/examples/src/main/scala/org/apache/spark/examples/ml/QuantileDiscretizerExample.scala\n",
            "spark-2.4.3-bin-hadoop2.7/examples/src/main/scala/org/apache/spark/examples/ml/DeveloperApiExample.scala\n",
            "spark-2.4.3-bin-hadoop2.7/examples/src/main/scala/org/apache/spark/examples/ml/VectorIndexerExample.scala\n",
            "spark-2.4.3-bin-hadoop2.7/examples/src/main/scala/org/apache/spark/examples/ml/LinearRegressionExample.scala\n",
            "spark-2.4.3-bin-hadoop2.7/examples/src/main/scala/org/apache/spark/examples/ml/DCTExample.scala\n",
            "spark-2.4.3-bin-hadoop2.7/examples/src/main/scala/org/apache/spark/examples/ml/PolynomialExpansionExample.scala\n",
            "spark-2.4.3-bin-hadoop2.7/examples/src/main/scala/org/apache/spark/examples/ml/OneHotEncoderEstimatorExample.scala\n",
            "spark-2.4.3-bin-hadoop2.7/examples/src/main/scala/org/apache/spark/examples/ml/BinarizerExample.scala\n",
            "spark-2.4.3-bin-hadoop2.7/examples/src/main/scala/org/apache/spark/examples/ml/PowerIterationClusteringExample.scala\n",
            "spark-2.4.3-bin-hadoop2.7/examples/src/main/scala/org/apache/spark/examples/ml/DataFrameExample.scala\n",
            "spark-2.4.3-bin-hadoop2.7/examples/src/main/scala/org/apache/spark/examples/ml/RandomForestExample.scala\n",
            "spark-2.4.3-bin-hadoop2.7/examples/src/main/scala/org/apache/spark/examples/ml/MaxAbsScalerExample.scala\n",
            "spark-2.4.3-bin-hadoop2.7/examples/src/main/scala/org/apache/spark/examples/ml/RFormulaExample.scala\n",
            "spark-2.4.3-bin-hadoop2.7/examples/src/main/scala/org/apache/spark/examples/ml/TokenizerExample.scala\n",
            "spark-2.4.3-bin-hadoop2.7/examples/src/main/scala/org/apache/spark/examples/ml/VectorSlicerExample.scala\n",
            "spark-2.4.3-bin-hadoop2.7/examples/src/main/scala/org/apache/spark/examples/ml/RandomForestClassifierExample.scala\n",
            "spark-2.4.3-bin-hadoop2.7/examples/src/main/scala/org/apache/spark/examples/ml/NGramExample.scala\n",
            "spark-2.4.3-bin-hadoop2.7/examples/src/main/scala/org/apache/spark/examples/ml/BisectingKMeansExample.scala\n",
            "spark-2.4.3-bin-hadoop2.7/examples/src/main/scala/org/apache/spark/examples/ml/PipelineExample.scala\n",
            "spark-2.4.3-bin-hadoop2.7/examples/src/main/scala/org/apache/spark/examples/ml/VectorAssemblerExample.scala\n",
            "spark-2.4.3-bin-hadoop2.7/examples/src/main/scala/org/apache/spark/examples/ml/AFTSurvivalRegressionExample.scala\n",
            "spark-2.4.3-bin-hadoop2.7/examples/src/main/scala/org/apache/spark/examples/ml/BucketizerExample.scala\n",
            "spark-2.4.3-bin-hadoop2.7/examples/src/main/scala/org/apache/spark/examples/ml/UnaryTransformerExample.scala\n",
            "spark-2.4.3-bin-hadoop2.7/examples/src/main/scala/org/apache/spark/examples/ml/GBTExample.scala\n",
            "spark-2.4.3-bin-hadoop2.7/examples/src/main/scala/org/apache/spark/examples/ml/NormalizerExample.scala\n",
            "spark-2.4.3-bin-hadoop2.7/examples/src/main/scala/org/apache/spark/examples/ml/EstimatorTransformerParamExample.scala\n",
            "spark-2.4.3-bin-hadoop2.7/examples/src/main/scala/org/apache/spark/examples/ml/ChiSqSelectorExample.scala\n",
            "spark-2.4.3-bin-hadoop2.7/examples/src/main/scala/org/apache/spark/examples/streaming/\n",
            "spark-2.4.3-bin-hadoop2.7/examples/src/main/scala/org/apache/spark/examples/streaming/CustomReceiver.scala\n",
            "spark-2.4.3-bin-hadoop2.7/examples/src/main/scala/org/apache/spark/examples/streaming/SqlNetworkWordCount.scala\n",
            "spark-2.4.3-bin-hadoop2.7/examples/src/main/scala/org/apache/spark/examples/streaming/RawNetworkGrep.scala\n",
            "spark-2.4.3-bin-hadoop2.7/examples/src/main/scala/org/apache/spark/examples/streaming/StatefulNetworkWordCount.scala\n",
            "spark-2.4.3-bin-hadoop2.7/examples/src/main/scala/org/apache/spark/examples/streaming/RecoverableNetworkWordCount.scala\n",
            "spark-2.4.3-bin-hadoop2.7/examples/src/main/scala/org/apache/spark/examples/streaming/clickstream/\n",
            "spark-2.4.3-bin-hadoop2.7/examples/src/main/scala/org/apache/spark/examples/streaming/clickstream/PageViewGenerator.scala\n",
            "spark-2.4.3-bin-hadoop2.7/examples/src/main/scala/org/apache/spark/examples/streaming/clickstream/PageViewStream.scala\n",
            "spark-2.4.3-bin-hadoop2.7/examples/src/main/scala/org/apache/spark/examples/streaming/DirectKafkaWordCount.scala\n",
            "spark-2.4.3-bin-hadoop2.7/examples/src/main/scala/org/apache/spark/examples/streaming/HdfsWordCount.scala\n",
            "spark-2.4.3-bin-hadoop2.7/examples/src/main/scala/org/apache/spark/examples/streaming/QueueStream.scala\n",
            "spark-2.4.3-bin-hadoop2.7/examples/src/main/scala/org/apache/spark/examples/streaming/StreamingExamples.scala\n",
            "spark-2.4.3-bin-hadoop2.7/examples/src/main/scala/org/apache/spark/examples/streaming/NetworkWordCount.scala\n",
            "spark-2.4.3-bin-hadoop2.7/examples/src/main/scala/org/apache/spark/examples/SparkKMeans.scala\n",
            "spark-2.4.3-bin-hadoop2.7/examples/src/main/scala/org/apache/spark/examples/DFSReadWriteTest.scala\n",
            "spark-2.4.3-bin-hadoop2.7/examples/src/main/scala/org/apache/spark/examples/ExceptionHandlingTest.scala\n",
            "spark-2.4.3-bin-hadoop2.7/examples/src/main/scala/org/apache/spark/examples/SparkALS.scala\n",
            "spark-2.4.3-bin-hadoop2.7/examples/src/main/scala/org/apache/spark/examples/LogQuery.scala\n",
            "spark-2.4.3-bin-hadoop2.7/examples/src/main/scala/org/apache/spark/examples/LocalLR.scala\n",
            "spark-2.4.3-bin-hadoop2.7/examples/src/main/scala/org/apache/spark/examples/sql/\n",
            "spark-2.4.3-bin-hadoop2.7/examples/src/main/scala/org/apache/spark/examples/sql/SparkSQLExample.scala\n",
            "spark-2.4.3-bin-hadoop2.7/examples/src/main/scala/org/apache/spark/examples/sql/hive/\n",
            "spark-2.4.3-bin-hadoop2.7/examples/src/main/scala/org/apache/spark/examples/sql/hive/SparkHiveExample.scala\n",
            "spark-2.4.3-bin-hadoop2.7/examples/src/main/scala/org/apache/spark/examples/sql/RDDRelation.scala\n",
            "spark-2.4.3-bin-hadoop2.7/examples/src/main/scala/org/apache/spark/examples/sql/streaming/\n",
            "spark-2.4.3-bin-hadoop2.7/examples/src/main/scala/org/apache/spark/examples/sql/streaming/StructuredNetworkWordCount.scala\n",
            "spark-2.4.3-bin-hadoop2.7/examples/src/main/scala/org/apache/spark/examples/sql/streaming/StructuredNetworkWordCountWindowed.scala\n",
            "spark-2.4.3-bin-hadoop2.7/examples/src/main/scala/org/apache/spark/examples/sql/streaming/StructuredKafkaWordCount.scala\n",
            "spark-2.4.3-bin-hadoop2.7/examples/src/main/scala/org/apache/spark/examples/sql/streaming/StructuredSessionization.scala\n",
            "spark-2.4.3-bin-hadoop2.7/examples/src/main/scala/org/apache/spark/examples/sql/UserDefinedUntypedAggregation.scala\n",
            "spark-2.4.3-bin-hadoop2.7/examples/src/main/scala/org/apache/spark/examples/sql/UserDefinedTypedAggregation.scala\n",
            "spark-2.4.3-bin-hadoop2.7/examples/src/main/scala/org/apache/spark/examples/sql/SQLDataSourceExample.scala\n",
            "spark-2.4.3-bin-hadoop2.7/examples/src/main/scala/org/apache/spark/examples/MultiBroadcastTest.scala\n",
            "spark-2.4.3-bin-hadoop2.7/examples/src/main/scala/org/apache/spark/examples/LocalALS.scala\n",
            "spark-2.4.3-bin-hadoop2.7/examples/src/main/scala/org/apache/spark/examples/DriverSubmissionTest.scala\n",
            "spark-2.4.3-bin-hadoop2.7/examples/src/main/scala/org/apache/spark/examples/LocalFileLR.scala\n",
            "spark-2.4.3-bin-hadoop2.7/examples/src/main/scala/org/apache/spark/examples/SimpleSkewedGroupByTest.scala\n",
            "spark-2.4.3-bin-hadoop2.7/examples/src/main/scala/org/apache/spark/examples/GroupByTest.scala\n",
            "spark-2.4.3-bin-hadoop2.7/examples/src/main/scala/org/apache/spark/examples/SparkRemoteFileTest.scala\n",
            "spark-2.4.3-bin-hadoop2.7/examples/src/main/java/\n",
            "spark-2.4.3-bin-hadoop2.7/examples/src/main/java/org/\n",
            "spark-2.4.3-bin-hadoop2.7/examples/src/main/java/org/apache/\n",
            "spark-2.4.3-bin-hadoop2.7/examples/src/main/java/org/apache/spark/\n",
            "spark-2.4.3-bin-hadoop2.7/examples/src/main/java/org/apache/spark/examples/\n",
            "spark-2.4.3-bin-hadoop2.7/examples/src/main/java/org/apache/spark/examples/JavaSparkPi.java\n",
            "spark-2.4.3-bin-hadoop2.7/examples/src/main/java/org/apache/spark/examples/JavaTC.java\n",
            "spark-2.4.3-bin-hadoop2.7/examples/src/main/java/org/apache/spark/examples/JavaHdfsLR.java\n",
            "spark-2.4.3-bin-hadoop2.7/examples/src/main/java/org/apache/spark/examples/JavaStatusTrackerDemo.java\n",
            "spark-2.4.3-bin-hadoop2.7/examples/src/main/java/org/apache/spark/examples/mllib/\n",
            "spark-2.4.3-bin-hadoop2.7/examples/src/main/java/org/apache/spark/examples/mllib/JavaGradientBoostingClassificationExample.java\n",
            "spark-2.4.3-bin-hadoop2.7/examples/src/main/java/org/apache/spark/examples/mllib/JavaHypothesisTestingExample.java\n",
            "spark-2.4.3-bin-hadoop2.7/examples/src/main/java/org/apache/spark/examples/mllib/JavaElementwiseProductExample.java\n",
            "spark-2.4.3-bin-hadoop2.7/examples/src/main/java/org/apache/spark/examples/mllib/JavaGaussianMixtureExample.java\n",
            "spark-2.4.3-bin-hadoop2.7/examples/src/main/java/org/apache/spark/examples/mllib/JavaAssociationRulesExample.java\n",
            "spark-2.4.3-bin-hadoop2.7/examples/src/main/java/org/apache/spark/examples/mllib/JavaDecisionTreeRegressionExample.java\n",
            "spark-2.4.3-bin-hadoop2.7/examples/src/main/java/org/apache/spark/examples/mllib/JavaBinaryClassificationMetricsExample.java\n",
            "spark-2.4.3-bin-hadoop2.7/examples/src/main/java/org/apache/spark/examples/mllib/JavaLBFGSExample.java\n",
            "spark-2.4.3-bin-hadoop2.7/examples/src/main/java/org/apache/spark/examples/mllib/JavaPowerIterationClusteringExample.java\n",
            "spark-2.4.3-bin-hadoop2.7/examples/src/main/java/org/apache/spark/examples/mllib/JavaMulticlassClassificationMetricsExample.java\n",
            "spark-2.4.3-bin-hadoop2.7/examples/src/main/java/org/apache/spark/examples/mllib/JavaRankingMetricsExample.java\n",
            "spark-2.4.3-bin-hadoop2.7/examples/src/main/java/org/apache/spark/examples/mllib/JavaRecommendationExample.java\n",
            "spark-2.4.3-bin-hadoop2.7/examples/src/main/java/org/apache/spark/examples/mllib/JavaHypothesisTestingKolmogorovSmirnovTestExample.java\n",
            "spark-2.4.3-bin-hadoop2.7/examples/src/main/java/org/apache/spark/examples/mllib/JavaRegressionMetricsExample.java\n",
            "spark-2.4.3-bin-hadoop2.7/examples/src/main/java/org/apache/spark/examples/mllib/JavaSVDExample.java\n",
            "spark-2.4.3-bin-hadoop2.7/examples/src/main/java/org/apache/spark/examples/mllib/JavaRandomForestClassificationExample.java\n",
            "spark-2.4.3-bin-hadoop2.7/examples/src/main/java/org/apache/spark/examples/mllib/JavaRandomForestRegressionExample.java\n",
            "spark-2.4.3-bin-hadoop2.7/examples/src/main/java/org/apache/spark/examples/mllib/JavaSummaryStatisticsExample.java\n",
            "spark-2.4.3-bin-hadoop2.7/examples/src/main/java/org/apache/spark/examples/mllib/JavaGradientBoostingRegressionExample.java\n",
            "spark-2.4.3-bin-hadoop2.7/examples/src/main/java/org/apache/spark/examples/mllib/JavaIsotonicRegressionExample.java\n",
            "spark-2.4.3-bin-hadoop2.7/examples/src/main/java/org/apache/spark/examples/mllib/JavaDecisionTreeClassificationExample.java\n",
            "spark-2.4.3-bin-hadoop2.7/examples/src/main/java/org/apache/spark/examples/mllib/JavaALS.java\n",
            "spark-2.4.3-bin-hadoop2.7/examples/src/main/java/org/apache/spark/examples/mllib/JavaKMeansExample.java\n",
            "spark-2.4.3-bin-hadoop2.7/examples/src/main/java/org/apache/spark/examples/mllib/JavaSVMWithSGDExample.java\n",
            "spark-2.4.3-bin-hadoop2.7/examples/src/main/java/org/apache/spark/examples/mllib/JavaLinearRegressionWithSGDExample.java\n",
            "spark-2.4.3-bin-hadoop2.7/examples/src/main/java/org/apache/spark/examples/mllib/JavaLatentDirichletAllocationExample.java\n",
            "spark-2.4.3-bin-hadoop2.7/examples/src/main/java/org/apache/spark/examples/mllib/JavaMultiLabelClassificationMetricsExample.java\n",
            "spark-2.4.3-bin-hadoop2.7/examples/src/main/java/org/apache/spark/examples/mllib/JavaBisectingKMeansExample.java\n",
            "spark-2.4.3-bin-hadoop2.7/examples/src/main/java/org/apache/spark/examples/mllib/JavaStratifiedSamplingExample.java\n",
            "spark-2.4.3-bin-hadoop2.7/examples/src/main/java/org/apache/spark/examples/mllib/JavaSimpleFPGrowth.java\n",
            "spark-2.4.3-bin-hadoop2.7/examples/src/main/java/org/apache/spark/examples/mllib/JavaLogisticRegressionWithLBFGSExample.java\n",
            "spark-2.4.3-bin-hadoop2.7/examples/src/main/java/org/apache/spark/examples/mllib/JavaPrefixSpanExample.java\n",
            "spark-2.4.3-bin-hadoop2.7/examples/src/main/java/org/apache/spark/examples/mllib/JavaPCAExample.java\n",
            "spark-2.4.3-bin-hadoop2.7/examples/src/main/java/org/apache/spark/examples/mllib/JavaCorrelationsExample.java\n",
            "spark-2.4.3-bin-hadoop2.7/examples/src/main/java/org/apache/spark/examples/mllib/JavaStreamingTestExample.java\n",
            "spark-2.4.3-bin-hadoop2.7/examples/src/main/java/org/apache/spark/examples/mllib/JavaNaiveBayesExample.java\n",
            "spark-2.4.3-bin-hadoop2.7/examples/src/main/java/org/apache/spark/examples/mllib/JavaChiSqSelectorExample.java\n",
            "spark-2.4.3-bin-hadoop2.7/examples/src/main/java/org/apache/spark/examples/mllib/JavaKernelDensityEstimationExample.java\n",
            "spark-2.4.3-bin-hadoop2.7/examples/src/main/java/org/apache/spark/examples/ml/\n",
            "spark-2.4.3-bin-hadoop2.7/examples/src/main/java/org/apache/spark/examples/ml/JavaBinarizerExample.java\n",
            "spark-2.4.3-bin-hadoop2.7/examples/src/main/java/org/apache/spark/examples/ml/JavaElementwiseProductExample.java\n",
            "spark-2.4.3-bin-hadoop2.7/examples/src/main/java/org/apache/spark/examples/ml/JavaInteractionExample.java\n",
            "spark-2.4.3-bin-hadoop2.7/examples/src/main/java/org/apache/spark/examples/ml/JavaGaussianMixtureExample.java\n",
            "spark-2.4.3-bin-hadoop2.7/examples/src/main/java/org/apache/spark/examples/ml/JavaBucketedRandomProjectionLSHExample.java\n",
            "spark-2.4.3-bin-hadoop2.7/examples/src/main/java/org/apache/spark/examples/ml/JavaLogisticRegressionWithElasticNetExample.java\n",
            "spark-2.4.3-bin-hadoop2.7/examples/src/main/java/org/apache/spark/examples/ml/JavaBucketizerExample.java\n",
            "spark-2.4.3-bin-hadoop2.7/examples/src/main/java/org/apache/spark/examples/ml/JavaDecisionTreeRegressionExample.java\n",
            "spark-2.4.3-bin-hadoop2.7/examples/src/main/java/org/apache/spark/examples/ml/JavaIndexToStringExample.java\n",
            "spark-2.4.3-bin-hadoop2.7/examples/src/main/java/org/apache/spark/examples/ml/JavaCorrelationExample.java\n",
            "spark-2.4.3-bin-hadoop2.7/examples/src/main/java/org/apache/spark/examples/ml/JavaMaxAbsScalerExample.java\n",
            "spark-2.4.3-bin-hadoop2.7/examples/src/main/java/org/apache/spark/examples/ml/JavaGradientBoostedTreeClassifierExample.java\n",
            "spark-2.4.3-bin-hadoop2.7/examples/src/main/java/org/apache/spark/examples/ml/JavaPowerIterationClusteringExample.java\n",
            "spark-2.4.3-bin-hadoop2.7/examples/src/main/java/org/apache/spark/examples/ml/JavaDocument.java\n",
            "spark-2.4.3-bin-hadoop2.7/examples/src/main/java/org/apache/spark/examples/ml/JavaLogisticRegressionSummaryExample.java\n",
            "spark-2.4.3-bin-hadoop2.7/examples/src/main/java/org/apache/spark/examples/ml/JavaStandardScalerExample.java\n",
            "spark-2.4.3-bin-hadoop2.7/examples/src/main/java/org/apache/spark/examples/ml/JavaMulticlassLogisticRegressionWithElasticNetExample.java\n",
            "spark-2.4.3-bin-hadoop2.7/examples/src/main/java/org/apache/spark/examples/ml/JavaChiSquareTestExample.java\n",
            "spark-2.4.3-bin-hadoop2.7/examples/src/main/java/org/apache/spark/examples/ml/JavaFPGrowthExample.java\n",
            "spark-2.4.3-bin-hadoop2.7/examples/src/main/java/org/apache/spark/examples/ml/JavaQuantileDiscretizerExample.java\n",
            "spark-2.4.3-bin-hadoop2.7/examples/src/main/java/org/apache/spark/examples/ml/JavaPolynomialExpansionExample.java\n",
            "spark-2.4.3-bin-hadoop2.7/examples/src/main/java/org/apache/spark/examples/ml/JavaTokenizerExample.java\n",
            "spark-2.4.3-bin-hadoop2.7/examples/src/main/java/org/apache/spark/examples/ml/JavaFeatureHasherExample.java\n",
            "spark-2.4.3-bin-hadoop2.7/examples/src/main/java/org/apache/spark/examples/ml/JavaVectorIndexerExample.java\n",
            "spark-2.4.3-bin-hadoop2.7/examples/src/main/java/org/apache/spark/examples/ml/JavaVectorSlicerExample.java\n",
            "spark-2.4.3-bin-hadoop2.7/examples/src/main/java/org/apache/spark/examples/ml/JavaStringIndexerExample.java\n",
            "spark-2.4.3-bin-hadoop2.7/examples/src/main/java/org/apache/spark/examples/ml/JavaIsotonicRegressionExample.java\n",
            "spark-2.4.3-bin-hadoop2.7/examples/src/main/java/org/apache/spark/examples/ml/JavaMultilayerPerceptronClassifierExample.java\n",
            "spark-2.4.3-bin-hadoop2.7/examples/src/main/java/org/apache/spark/examples/ml/JavaOneVsRestExample.java\n",
            "spark-2.4.3-bin-hadoop2.7/examples/src/main/java/org/apache/spark/examples/ml/JavaRFormulaExample.java\n",
            "spark-2.4.3-bin-hadoop2.7/examples/src/main/java/org/apache/spark/examples/ml/JavaDecisionTreeClassificationExample.java\n",
            "spark-2.4.3-bin-hadoop2.7/examples/src/main/java/org/apache/spark/examples/ml/JavaLDAExample.java\n",
            "spark-2.4.3-bin-hadoop2.7/examples/src/main/java/org/apache/spark/examples/ml/JavaDCTExample.java\n",
            "spark-2.4.3-bin-hadoop2.7/examples/src/main/java/org/apache/spark/examples/ml/JavaKMeansExample.java\n",
            "spark-2.4.3-bin-hadoop2.7/examples/src/main/java/org/apache/spark/examples/ml/JavaModelSelectionViaCrossValidationExample.java\n",
            "spark-2.4.3-bin-hadoop2.7/examples/src/main/java/org/apache/spark/examples/ml/JavaSummarizerExample.java\n",
            "spark-2.4.3-bin-hadoop2.7/examples/src/main/java/org/apache/spark/examples/ml/JavaRandomForestClassifierExample.java\n",
            "spark-2.4.3-bin-hadoop2.7/examples/src/main/java/org/apache/spark/examples/ml/JavaImputerExample.java\n",
            "spark-2.4.3-bin-hadoop2.7/examples/src/main/java/org/apache/spark/examples/ml/JavaMinMaxScalerExample.java\n",
            "spark-2.4.3-bin-hadoop2.7/examples/src/main/java/org/apache/spark/examples/ml/JavaEstimatorTransformerParamExample.java\n",
            "spark-2.4.3-bin-hadoop2.7/examples/src/main/java/org/apache/spark/examples/ml/JavaOneHotEncoderEstimatorExample.java\n",
            "spark-2.4.3-bin-hadoop2.7/examples/src/main/java/org/apache/spark/examples/ml/JavaSQLTransformerExample.java\n",
            "spark-2.4.3-bin-hadoop2.7/examples/src/main/java/org/apache/spark/examples/ml/JavaLabeledDocument.java\n",
            "spark-2.4.3-bin-hadoop2.7/examples/src/main/java/org/apache/spark/examples/ml/JavaStopWordsRemoverExample.java\n",
            "spark-2.4.3-bin-hadoop2.7/examples/src/main/java/org/apache/spark/examples/ml/JavaTfIdfExample.java\n",
            "spark-2.4.3-bin-hadoop2.7/examples/src/main/java/org/apache/spark/examples/ml/JavaMinHashLSHExample.java\n",
            "spark-2.4.3-bin-hadoop2.7/examples/src/main/java/org/apache/spark/examples/ml/JavaBisectingKMeansExample.java\n",
            "spark-2.4.3-bin-hadoop2.7/examples/src/main/java/org/apache/spark/examples/ml/JavaLinearRegressionWithElasticNetExample.java\n",
            "spark-2.4.3-bin-hadoop2.7/examples/src/main/java/org/apache/spark/examples/ml/JavaNGramExample.java\n",
            "spark-2.4.3-bin-hadoop2.7/examples/src/main/java/org/apache/spark/examples/ml/JavaModelSelectionViaTrainValidationSplitExample.java\n",
            "spark-2.4.3-bin-hadoop2.7/examples/src/main/java/org/apache/spark/examples/ml/JavaPrefixSpanExample.java\n",
            "spark-2.4.3-bin-hadoop2.7/examples/src/main/java/org/apache/spark/examples/ml/JavaWord2VecExample.java\n",
            "spark-2.4.3-bin-hadoop2.7/examples/src/main/java/org/apache/spark/examples/ml/JavaGradientBoostedTreeRegressorExample.java\n",
            "spark-2.4.3-bin-hadoop2.7/examples/src/main/java/org/apache/spark/examples/ml/JavaAFTSurvivalRegressionExample.java\n",
            "spark-2.4.3-bin-hadoop2.7/examples/src/main/java/org/apache/spark/examples/ml/JavaPCAExample.java\n",
            "spark-2.4.3-bin-hadoop2.7/examples/src/main/java/org/apache/spark/examples/ml/JavaCountVectorizerExample.java\n",
            "spark-2.4.3-bin-hadoop2.7/examples/src/main/java/org/apache/spark/examples/ml/JavaGeneralizedLinearRegressionExample.java\n",
            "spark-2.4.3-bin-hadoop2.7/examples/src/main/java/org/apache/spark/examples/ml/JavaVectorSizeHintExample.java\n",
            "spark-2.4.3-bin-hadoop2.7/examples/src/main/java/org/apache/spark/examples/ml/JavaNaiveBayesExample.java\n",
            "spark-2.4.3-bin-hadoop2.7/examples/src/main/java/org/apache/spark/examples/ml/JavaNormalizerExample.java\n",
            "spark-2.4.3-bin-hadoop2.7/examples/src/main/java/org/apache/spark/examples/ml/JavaChiSqSelectorExample.java\n",
            "spark-2.4.3-bin-hadoop2.7/examples/src/main/java/org/apache/spark/examples/ml/JavaVectorAssemblerExample.java\n",
            "spark-2.4.3-bin-hadoop2.7/examples/src/main/java/org/apache/spark/examples/ml/JavaRandomForestRegressorExample.java\n",
            "spark-2.4.3-bin-hadoop2.7/examples/src/main/java/org/apache/spark/examples/ml/JavaLinearSVCExample.java\n",
            "spark-2.4.3-bin-hadoop2.7/examples/src/main/java/org/apache/spark/examples/ml/JavaPipelineExample.java\n",
            "spark-2.4.3-bin-hadoop2.7/examples/src/main/java/org/apache/spark/examples/ml/JavaALSExample.java\n",
            "spark-2.4.3-bin-hadoop2.7/examples/src/main/java/org/apache/spark/examples/streaming/\n",
            "spark-2.4.3-bin-hadoop2.7/examples/src/main/java/org/apache/spark/examples/streaming/JavaStatefulNetworkWordCount.java\n",
            "spark-2.4.3-bin-hadoop2.7/examples/src/main/java/org/apache/spark/examples/streaming/JavaNetworkWordCount.java\n",
            "spark-2.4.3-bin-hadoop2.7/examples/src/main/java/org/apache/spark/examples/streaming/JavaCustomReceiver.java\n",
            "spark-2.4.3-bin-hadoop2.7/examples/src/main/java/org/apache/spark/examples/streaming/JavaRecoverableNetworkWordCount.java\n",
            "spark-2.4.3-bin-hadoop2.7/examples/src/main/java/org/apache/spark/examples/streaming/JavaDirectKafkaWordCount.java\n",
            "spark-2.4.3-bin-hadoop2.7/examples/src/main/java/org/apache/spark/examples/streaming/JavaQueueStream.java\n",
            "spark-2.4.3-bin-hadoop2.7/examples/src/main/java/org/apache/spark/examples/streaming/JavaSqlNetworkWordCount.java\n",
            "spark-2.4.3-bin-hadoop2.7/examples/src/main/java/org/apache/spark/examples/streaming/JavaRecord.java\n",
            "spark-2.4.3-bin-hadoop2.7/examples/src/main/java/org/apache/spark/examples/sql/\n",
            "spark-2.4.3-bin-hadoop2.7/examples/src/main/java/org/apache/spark/examples/sql/JavaSparkSQLExample.java\n",
            "spark-2.4.3-bin-hadoop2.7/examples/src/main/java/org/apache/spark/examples/sql/hive/\n",
            "spark-2.4.3-bin-hadoop2.7/examples/src/main/java/org/apache/spark/examples/sql/hive/JavaSparkHiveExample.java\n",
            "spark-2.4.3-bin-hadoop2.7/examples/src/main/java/org/apache/spark/examples/sql/JavaUserDefinedTypedAggregation.java\n",
            "spark-2.4.3-bin-hadoop2.7/examples/src/main/java/org/apache/spark/examples/sql/JavaUserDefinedUntypedAggregation.java\n",
            "spark-2.4.3-bin-hadoop2.7/examples/src/main/java/org/apache/spark/examples/sql/streaming/\n",
            "spark-2.4.3-bin-hadoop2.7/examples/src/main/java/org/apache/spark/examples/sql/streaming/JavaStructuredKafkaWordCount.java\n",
            "spark-2.4.3-bin-hadoop2.7/examples/src/main/java/org/apache/spark/examples/sql/streaming/JavaStructuredNetworkWordCount.java\n",
            "spark-2.4.3-bin-hadoop2.7/examples/src/main/java/org/apache/spark/examples/sql/streaming/JavaStructuredNetworkWordCountWindowed.java\n",
            "spark-2.4.3-bin-hadoop2.7/examples/src/main/java/org/apache/spark/examples/sql/streaming/JavaStructuredSessionization.java\n",
            "spark-2.4.3-bin-hadoop2.7/examples/src/main/java/org/apache/spark/examples/sql/JavaSQLDataSourceExample.java\n",
            "spark-2.4.3-bin-hadoop2.7/examples/src/main/java/org/apache/spark/examples/JavaWordCount.java\n",
            "spark-2.4.3-bin-hadoop2.7/examples/src/main/java/org/apache/spark/examples/JavaLogQuery.java\n",
            "spark-2.4.3-bin-hadoop2.7/examples/src/main/java/org/apache/spark/examples/JavaPageRank.java\n",
            "spark-2.4.3-bin-hadoop2.7/examples/src/main/r/\n",
            "spark-2.4.3-bin-hadoop2.7/examples/src/main/r/RSparkSQLExample.R\n",
            "spark-2.4.3-bin-hadoop2.7/examples/src/main/r/ml/\n",
            "spark-2.4.3-bin-hadoop2.7/examples/src/main/r/ml/glm.R\n",
            "spark-2.4.3-bin-hadoop2.7/examples/src/main/r/ml/als.R\n",
            "spark-2.4.3-bin-hadoop2.7/examples/src/main/r/ml/kmeans.R\n",
            "spark-2.4.3-bin-hadoop2.7/examples/src/main/r/ml/mlp.R\n",
            "spark-2.4.3-bin-hadoop2.7/examples/src/main/r/ml/lda.R\n",
            "spark-2.4.3-bin-hadoop2.7/examples/src/main/r/ml/ml.R\n",
            "spark-2.4.3-bin-hadoop2.7/examples/src/main/r/ml/naiveBayes.R\n",
            "spark-2.4.3-bin-hadoop2.7/examples/src/main/r/ml/kstest.R\n",
            "spark-2.4.3-bin-hadoop2.7/examples/src/main/r/ml/gbt.R\n",
            "spark-2.4.3-bin-hadoop2.7/examples/src/main/r/ml/survreg.R\n",
            "spark-2.4.3-bin-hadoop2.7/examples/src/main/r/ml/svmLinear.R\n",
            "spark-2.4.3-bin-hadoop2.7/examples/src/main/r/ml/bisectingKmeans.R\n",
            "spark-2.4.3-bin-hadoop2.7/examples/src/main/r/ml/gaussianMixture.R\n",
            "spark-2.4.3-bin-hadoop2.7/examples/src/main/r/ml/isoreg.R\n",
            "spark-2.4.3-bin-hadoop2.7/examples/src/main/r/ml/randomForest.R\n",
            "spark-2.4.3-bin-hadoop2.7/examples/src/main/r/ml/decisionTree.R\n",
            "spark-2.4.3-bin-hadoop2.7/examples/src/main/r/ml/logit.R\n",
            "spark-2.4.3-bin-hadoop2.7/examples/src/main/r/ml/fpm.R\n",
            "spark-2.4.3-bin-hadoop2.7/examples/src/main/r/data-manipulation.R\n",
            "spark-2.4.3-bin-hadoop2.7/examples/src/main/r/streaming/\n",
            "spark-2.4.3-bin-hadoop2.7/examples/src/main/r/streaming/structured_network_wordcount.R\n",
            "spark-2.4.3-bin-hadoop2.7/examples/src/main/r/dataframe.R\n",
            "spark-2.4.3-bin-hadoop2.7/examples/src/main/resources/\n",
            "spark-2.4.3-bin-hadoop2.7/examples/src/main/resources/people.csv\n",
            "spark-2.4.3-bin-hadoop2.7/examples/src/main/resources/users.avro\n",
            "spark-2.4.3-bin-hadoop2.7/examples/src/main/resources/employees.json\n",
            "spark-2.4.3-bin-hadoop2.7/examples/src/main/resources/full_user.avsc\n",
            "spark-2.4.3-bin-hadoop2.7/examples/src/main/resources/people.json\n",
            "spark-2.4.3-bin-hadoop2.7/examples/src/main/resources/people.txt\n",
            "spark-2.4.3-bin-hadoop2.7/examples/src/main/resources/kv1.txt\n",
            "spark-2.4.3-bin-hadoop2.7/examples/src/main/resources/users.parquet\n",
            "spark-2.4.3-bin-hadoop2.7/examples/src/main/resources/users.orc\n",
            "spark-2.4.3-bin-hadoop2.7/examples/src/main/resources/user.avsc\n",
            "spark-2.4.3-bin-hadoop2.7/NOTICE\n",
            "spark-2.4.3-bin-hadoop2.7/data/\n",
            "spark-2.4.3-bin-hadoop2.7/data/graphx/\n",
            "spark-2.4.3-bin-hadoop2.7/data/graphx/users.txt\n",
            "spark-2.4.3-bin-hadoop2.7/data/graphx/followers.txt\n",
            "spark-2.4.3-bin-hadoop2.7/data/mllib/\n",
            "spark-2.4.3-bin-hadoop2.7/data/mllib/gmm_data.txt\n",
            "spark-2.4.3-bin-hadoop2.7/data/mllib/images/\n",
            "spark-2.4.3-bin-hadoop2.7/data/mllib/images/origin/\n",
            "spark-2.4.3-bin-hadoop2.7/data/mllib/images/origin/multi-channel/\n",
            "spark-2.4.3-bin-hadoop2.7/data/mllib/images/origin/multi-channel/chr30.4.184.jpg\n",
            "spark-2.4.3-bin-hadoop2.7/data/mllib/images/origin/multi-channel/grayscale.jpg\n",
            "spark-2.4.3-bin-hadoop2.7/data/mllib/images/origin/multi-channel/BGRA_alpha_60.png\n",
            "spark-2.4.3-bin-hadoop2.7/data/mllib/images/origin/multi-channel/BGRA.png\n",
            "spark-2.4.3-bin-hadoop2.7/data/mllib/images/origin/kittens/\n",
            "spark-2.4.3-bin-hadoop2.7/data/mllib/images/origin/kittens/DP153539.jpg\n",
            "spark-2.4.3-bin-hadoop2.7/data/mllib/images/origin/kittens/54893.jpg\n",
            "spark-2.4.3-bin-hadoop2.7/data/mllib/images/origin/kittens/not-image.txt\n",
            "spark-2.4.3-bin-hadoop2.7/data/mllib/images/origin/kittens/DP802813.jpg\n",
            "spark-2.4.3-bin-hadoop2.7/data/mllib/images/origin/kittens/29.5.a_b_EGDP022204.jpg\n",
            "spark-2.4.3-bin-hadoop2.7/data/mllib/images/origin/license.txt\n",
            "spark-2.4.3-bin-hadoop2.7/data/mllib/images/license.txt\n",
            "spark-2.4.3-bin-hadoop2.7/data/mllib/images/partitioned/\n",
            "spark-2.4.3-bin-hadoop2.7/data/mllib/images/partitioned/cls=multichannel/\n",
            "spark-2.4.3-bin-hadoop2.7/data/mllib/images/partitioned/cls=multichannel/date=2018-02/\n",
            "spark-2.4.3-bin-hadoop2.7/data/mllib/images/partitioned/cls=multichannel/date=2018-02/chr30.4.184.jpg\n",
            "spark-2.4.3-bin-hadoop2.7/data/mllib/images/partitioned/cls=multichannel/date=2018-02/grayscale.jpg\n",
            "spark-2.4.3-bin-hadoop2.7/data/mllib/images/partitioned/cls=multichannel/date=2018-01/\n",
            "spark-2.4.3-bin-hadoop2.7/data/mllib/images/partitioned/cls=multichannel/date=2018-01/BGRA_alpha_60.png\n",
            "spark-2.4.3-bin-hadoop2.7/data/mllib/images/partitioned/cls=multichannel/date=2018-01/BGRA.png\n",
            "spark-2.4.3-bin-hadoop2.7/data/mllib/images/partitioned/cls=kittens/\n",
            "spark-2.4.3-bin-hadoop2.7/data/mllib/images/partitioned/cls=kittens/date=2018-02/\n",
            "spark-2.4.3-bin-hadoop2.7/data/mllib/images/partitioned/cls=kittens/date=2018-02/DP153539.jpg\n",
            "spark-2.4.3-bin-hadoop2.7/data/mllib/images/partitioned/cls=kittens/date=2018-02/54893.jpg\n",
            "spark-2.4.3-bin-hadoop2.7/data/mllib/images/partitioned/cls=kittens/date=2018-02/DP802813.jpg\n",
            "spark-2.4.3-bin-hadoop2.7/data/mllib/images/partitioned/cls=kittens/date=2018-01/\n",
            "spark-2.4.3-bin-hadoop2.7/data/mllib/images/partitioned/cls=kittens/date=2018-01/not-image.txt\n",
            "spark-2.4.3-bin-hadoop2.7/data/mllib/images/partitioned/cls=kittens/date=2018-01/29.5.a_b_EGDP022204.jpg\n",
            "spark-2.4.3-bin-hadoop2.7/data/mllib/sample_linear_regression_data.txt\n",
            "spark-2.4.3-bin-hadoop2.7/data/mllib/sample_lda_data.txt\n",
            "spark-2.4.3-bin-hadoop2.7/data/mllib/kmeans_data.txt\n",
            "spark-2.4.3-bin-hadoop2.7/data/mllib/sample_svm_data.txt\n",
            "spark-2.4.3-bin-hadoop2.7/data/mllib/streaming_kmeans_data_test.txt\n",
            "spark-2.4.3-bin-hadoop2.7/data/mllib/sample_kmeans_data.txt\n",
            "spark-2.4.3-bin-hadoop2.7/data/mllib/sample_multiclass_classification_data.txt\n",
            "spark-2.4.3-bin-hadoop2.7/data/mllib/sample_fpgrowth.txt\n",
            "spark-2.4.3-bin-hadoop2.7/data/mllib/pic_data.txt\n",
            "spark-2.4.3-bin-hadoop2.7/data/mllib/pagerank_data.txt\n",
            "spark-2.4.3-bin-hadoop2.7/data/mllib/sample_isotonic_regression_libsvm_data.txt\n",
            "spark-2.4.3-bin-hadoop2.7/data/mllib/als/\n",
            "spark-2.4.3-bin-hadoop2.7/data/mllib/als/test.data\n",
            "spark-2.4.3-bin-hadoop2.7/data/mllib/als/sample_movielens_ratings.txt\n",
            "spark-2.4.3-bin-hadoop2.7/data/mllib/sample_lda_libsvm_data.txt\n",
            "spark-2.4.3-bin-hadoop2.7/data/mllib/sample_binary_classification_data.txt\n",
            "spark-2.4.3-bin-hadoop2.7/data/mllib/ridge-data/\n",
            "spark-2.4.3-bin-hadoop2.7/data/mllib/ridge-data/lpsa.data\n",
            "spark-2.4.3-bin-hadoop2.7/data/mllib/sample_movielens_data.txt\n",
            "spark-2.4.3-bin-hadoop2.7/data/mllib/iris_libsvm.txt\n",
            "spark-2.4.3-bin-hadoop2.7/data/mllib/sample_libsvm_data.txt\n",
            "spark-2.4.3-bin-hadoop2.7/data/streaming/\n",
            "spark-2.4.3-bin-hadoop2.7/data/streaming/AFINN-111.txt\n",
            "spark-2.4.3-bin-hadoop2.7/README.md\n",
            "spark-2.4.3-bin-hadoop2.7/LICENSE\n"
          ],
          "name": "stdout"
        }
      ]
    },
    {
      "cell_type": "code",
      "metadata": {
        "id": "5L_rKPaJU54x",
        "colab_type": "code",
        "colab": {}
      },
      "source": [
        "!pip install -q findspark #устанавливаем спец пакеты на машину"
      ],
      "execution_count": 0,
      "outputs": []
    },
    {
      "cell_type": "code",
      "metadata": {
        "id": "Rhdq6bJkU8qz",
        "colab_type": "code",
        "colab": {}
      },
      "source": [
        "import os\n",
        "os.environ[\"JAVA_HOME\"] = \"/usr/lib/jvm/java-8-openjdk-amd64\"\n",
        "os.environ[\"SPARK_HOME\"] = \"/content/spark-2.4.3-bin-hadoop2.7\" #добавляем переменные окружения"
      ],
      "execution_count": 0,
      "outputs": []
    },
    {
      "cell_type": "code",
      "metadata": {
        "id": "yTDf1jA9U-9T",
        "colab_type": "code",
        "colab": {}
      },
      "source": [
        "import findspark\n",
        "findspark.init()\n",
        "from pyspark.sql import SparkSession\n",
        "\n",
        "spark = SparkSession.builder.master(\"local[*]\").getOrCreate() #иницииализируем спарк"
      ],
      "execution_count": 0,
      "outputs": []
    },
    {
      "cell_type": "markdown",
      "metadata": {
        "id": "BB6NPNLwVO9C",
        "colab_type": "text"
      },
      "source": [
        "# Загрузка данных из CSV"
      ]
    },
    {
      "cell_type": "code",
      "metadata": {
        "id": "UEXYizP0VApq",
        "colab_type": "code",
        "colab": {}
      },
      "source": [
        "df = spark.read.csv('power.csv', inferSchema=True, header=True)"
      ],
      "execution_count": 0,
      "outputs": []
    },
    {
      "cell_type": "markdown",
      "metadata": {
        "id": "R9QdB_FsVuja",
        "colab_type": "text"
      },
      "source": [
        "# Базовый обзор данных"
      ]
    },
    {
      "cell_type": "code",
      "metadata": {
        "id": "oKhAwRXvVPbb",
        "colab_type": "code",
        "outputId": "e3624d91-4708-43e7-b83b-277ed6f086b1",
        "colab": {
          "base_uri": "https://localhost:8080/",
          "height": 34
        }
      },
      "source": [
        "df.count()"
      ],
      "execution_count": 8,
      "outputs": [
        {
          "output_type": "execute_result",
          "data": {
            "text/plain": [
              "1189482"
            ]
          },
          "metadata": {
            "tags": []
          },
          "execution_count": 8
        }
      ]
    },
    {
      "cell_type": "code",
      "metadata": {
        "id": "tWCSTbZrVvxc",
        "colab_type": "code",
        "outputId": "4b0ef8fd-da79-4cd5-94d3-6224d0c194ef",
        "colab": {
          "base_uri": "https://localhost:8080/",
          "height": 85
        }
      },
      "source": [
        "df.dtypes"
      ],
      "execution_count": 9,
      "outputs": [
        {
          "output_type": "execute_result",
          "data": {
            "text/plain": [
              "[('country', 'string'),\n",
              " ('year', 'int'),\n",
              " ('quantity', 'double'),\n",
              " ('category', 'int')]"
            ]
          },
          "metadata": {
            "tags": []
          },
          "execution_count": 9
        }
      ]
    },
    {
      "cell_type": "code",
      "metadata": {
        "id": "W7XN-C1_V1JB",
        "colab_type": "code",
        "outputId": "9cdc3981-2d09-4f74-d930-34107745ceb5",
        "colab": {
          "base_uri": "https://localhost:8080/",
          "height": 51
        }
      },
      "source": [
        "df.take(2)"
      ],
      "execution_count": 10,
      "outputs": [
        {
          "output_type": "execute_result",
          "data": {
            "text/plain": [
              "[Row(country='Austria', year=1996, quantity=5.0, category=1),\n",
              " Row(country='Austria', year=1995, quantity=17.0, category=1)]"
            ]
          },
          "metadata": {
            "tags": []
          },
          "execution_count": 10
        }
      ]
    },
    {
      "cell_type": "markdown",
      "metadata": {
        "id": "K2aLmXigf_ow",
        "colab_type": "text"
      },
      "source": [
        "# Практика 1. Загрузите данные из файла transactions.csv. Выведите 10 первых строчек"
      ]
    },
    {
      "cell_type": "code",
      "metadata": {
        "id": "X9GFYH-PgILz",
        "colab_type": "code",
        "outputId": "782a6638-dc77-4202-ef4e-2531f0945021",
        "colab": {
          "base_uri": "https://localhost:8080/",
          "height": 187
        }
      },
      "source": [
        "dt = spark.read.csv('transactions.csv', inferSchema=True, header=True)\n",
        "dt.take(10)"
      ],
      "execution_count": 11,
      "outputs": [
        {
          "output_type": "execute_result",
          "data": {
            "text/plain": [
              "[Row(Year=2017, Month=1, ID='t001', Product='A1', Amount=7, Price=2904, Total=20328, Cost=1200),\n",
              " Row(Year=2017, Month=1, ID='t002', Product='A2', Amount=2, Price=1896, Total=3792, Cost=1100),\n",
              " Row(Year=2017, Month=2, ID='t003', Product='A1', Amount=5, Price=2904, Total=14520, Cost=1200),\n",
              " Row(Year=2017, Month=2, ID='t004', Product='A4', Amount=1, Price=8618, Total=8618, Cost=4200),\n",
              " Row(Year=2017, Month=2, ID='t005', Product='A5', Amount=3, Price=5175, Total=15525, Cost=500),\n",
              " Row(Year=2017, Month=2, ID='t006', Product='_6', Amount=4, Price=3500, Total=14000, Cost=200),\n",
              " Row(Year=2017, Month=3, ID='t007', Product='_3', Amount=6, Price=1265, Total=7590, Cost=200),\n",
              " Row(Year=2017, Month=3, ID='t008', Product='_5', Amount=2, Price=5175, Total=10350, Cost=1200),\n",
              " Row(Year=2017, Month=4, ID='t009', Product='_8', Amount=3, Price=3760, Total=11280, Cost=1000),\n",
              " Row(Year=2017, Month=4, ID='t010', Product='_4', Amount=2, Price=8618, Total=17236, Cost=3400)]"
            ]
          },
          "metadata": {
            "tags": []
          },
          "execution_count": 11
        }
      ]
    },
    {
      "cell_type": "code",
      "metadata": {
        "id": "SbhkYBhwgV8R",
        "colab_type": "code",
        "outputId": "b231ee26-4132-424a-f59d-bf91aac6eeaf",
        "colab": {
          "base_uri": "https://localhost:8080/",
          "height": 289
        }
      },
      "source": [
        "dt.show(10)"
      ],
      "execution_count": 12,
      "outputs": [
        {
          "output_type": "stream",
          "text": [
            "+----+-----+----+-------+------+-----+-----+----+\n",
            "|Year|Month|  ID|Product|Amount|Price|Total|Cost|\n",
            "+----+-----+----+-------+------+-----+-----+----+\n",
            "|2017|    1|t001|     A1|     7| 2904|20328|1200|\n",
            "|2017|    1|t002|     A2|     2| 1896| 3792|1100|\n",
            "|2017|    2|t003|     A1|     5| 2904|14520|1200|\n",
            "|2017|    2|t004|     A4|     1| 8618| 8618|4200|\n",
            "|2017|    2|t005|     A5|     3| 5175|15525| 500|\n",
            "|2017|    2|t006|     _6|     4| 3500|14000| 200|\n",
            "|2017|    3|t007|     _3|     6| 1265| 7590| 200|\n",
            "|2017|    3|t008|     _5|     2| 5175|10350|1200|\n",
            "|2017|    4|t009|     _8|     3| 3760|11280|1000|\n",
            "|2017|    4|t010|     _4|     2| 8618|17236|3400|\n",
            "+----+-----+----+-------+------+-----+-----+----+\n",
            "only showing top 10 rows\n",
            "\n"
          ],
          "name": "stdout"
        }
      ]
    },
    {
      "cell_type": "markdown",
      "metadata": {
        "id": "NpIFRrqnW91c",
        "colab_type": "text"
      },
      "source": [
        "# Выборки"
      ]
    },
    {
      "cell_type": "code",
      "metadata": {
        "id": "ZGKVXwOyV2nB",
        "colab_type": "code",
        "outputId": "cf5da442-3f21-4cb2-c24c-4420e9bc038b",
        "colab": {
          "base_uri": "https://localhost:8080/",
          "height": 34
        }
      },
      "source": [
        "df_lim = df.select('country', 'year', 'quantity')\n",
        "df_lim.take(1)"
      ],
      "execution_count": 13,
      "outputs": [
        {
          "output_type": "execute_result",
          "data": {
            "text/plain": [
              "[Row(country='Austria', year=1996, quantity=5.0)]"
            ]
          },
          "metadata": {
            "tags": []
          },
          "execution_count": 13
        }
      ]
    },
    {
      "cell_type": "code",
      "metadata": {
        "id": "CrXVKk4IW-pr",
        "colab_type": "code",
        "outputId": "40daec70-4670-498b-a5d5-edb44237ed42",
        "colab": {
          "base_uri": "https://localhost:8080/",
          "height": 34
        }
      },
      "source": [
        "df_lim = df_lim.withColumnRenamed('year', 'y')\n",
        "df_lim"
      ],
      "execution_count": 14,
      "outputs": [
        {
          "output_type": "execute_result",
          "data": {
            "text/plain": [
              "DataFrame[country: string, y: int, quantity: double]"
            ]
          },
          "metadata": {
            "tags": []
          },
          "execution_count": 14
        }
      ]
    },
    {
      "cell_type": "code",
      "metadata": {
        "id": "pIt_UO-uXLgk",
        "colab_type": "code",
        "outputId": "eb67d21d-fc0f-4e02-cbd7-a9192fdda04e",
        "colab": {
          "base_uri": "https://localhost:8080/",
          "height": 34
        }
      },
      "source": [
        "df_lim.columns"
      ],
      "execution_count": 15,
      "outputs": [
        {
          "output_type": "execute_result",
          "data": {
            "text/plain": [
              "['country', 'y', 'quantity']"
            ]
          },
          "metadata": {
            "tags": []
          },
          "execution_count": 15
        }
      ]
    },
    {
      "cell_type": "markdown",
      "metadata": {
        "id": "ek9Ul49yXP_2",
        "colab_type": "text"
      },
      "source": [
        "# Описание и статистики"
      ]
    },
    {
      "cell_type": "code",
      "metadata": {
        "id": "wz-d4POKXRkZ",
        "colab_type": "code",
        "outputId": "3f21b868-626e-4edc-a17c-4e3d2c379d65",
        "colab": {
          "base_uri": "https://localhost:8080/",
          "height": 459
        }
      },
      "source": [
        "df_lim.show()"
      ],
      "execution_count": 16,
      "outputs": [
        {
          "output_type": "stream",
          "text": [
            "+-------+----+--------+\n",
            "|country|   y|quantity|\n",
            "+-------+----+--------+\n",
            "|Austria|1996|     5.0|\n",
            "|Austria|1995|    17.0|\n",
            "|Belgium|2014|     0.0|\n",
            "|Belgium|2013|     0.0|\n",
            "|Belgium|2012|    35.0|\n",
            "|Belgium|2011|    25.0|\n",
            "|Belgium|2010|    22.0|\n",
            "|Belgium|2009|    45.0|\n",
            "|Czechia|1998|     1.0|\n",
            "|Czechia|1995|     7.0|\n",
            "|Finland|2010|     9.0|\n",
            "|Finland|2009|    13.0|\n",
            "|Finland|2008|    39.0|\n",
            "|Finland|2007|    21.0|\n",
            "|Finland|2006|     0.0|\n",
            "|Finland|2005|     0.0|\n",
            "|Finland|2004|     0.0|\n",
            "|Finland|2003|     0.0|\n",
            "|Finland|2002|     0.0|\n",
            "|Finland|2001|     0.0|\n",
            "+-------+----+--------+\n",
            "only showing top 20 rows\n",
            "\n"
          ],
          "name": "stdout"
        }
      ]
    },
    {
      "cell_type": "code",
      "metadata": {
        "id": "kr-CTD8vXWUY",
        "colab_type": "code",
        "outputId": "a1da8598-dd33-4995-e987-965689cfe03f",
        "colab": {
          "base_uri": "https://localhost:8080/",
          "height": 187
        }
      },
      "source": [
        "df_lim.describe().show()"
      ],
      "execution_count": 17,
      "outputs": [
        {
          "output_type": "stream",
          "text": [
            "+-------+-----------+------------------+--------------------+\n",
            "|summary|    country|                 y|            quantity|\n",
            "+-------+-----------+------------------+--------------------+\n",
            "|  count|    1189482|           1189482|             1189482|\n",
            "|   mean|       null|2002.8515538696677|  184264.77005012735|\n",
            "| stddev|       null| 7.167344581291499|1.5856628141359948E7|\n",
            "|    min|Afghanistan|              1990|           -864348.0|\n",
            "|    max|   Zimbabwe|              2014|          6.680329E9|\n",
            "+-------+-----------+------------------+--------------------+\n",
            "\n"
          ],
          "name": "stdout"
        }
      ]
    },
    {
      "cell_type": "markdown",
      "metadata": {
        "id": "V-DWBD52Xpmb",
        "colab_type": "text"
      },
      "source": [
        "# Сохранение"
      ]
    },
    {
      "cell_type": "code",
      "metadata": {
        "id": "Y839kNLUXY6e",
        "colab_type": "code",
        "colab": {}
      },
      "source": [
        "df_lim.write.format('com.databricks.spark.csv').option('header', 'true').save('df_lim.csv')"
      ],
      "execution_count": 0,
      "outputs": []
    },
    {
      "cell_type": "markdown",
      "metadata": {
        "id": "R85OYUEwYB4y",
        "colab_type": "text"
      },
      "source": [
        "Сохраняет каждую партицию dataframe в отдельный csv файл"
      ]
    },
    {
      "cell_type": "markdown",
      "metadata": {
        "id": "W5rojQxBYQUv",
        "colab_type": "text"
      },
      "source": [
        "# Отложенные вычисления"
      ]
    },
    {
      "cell_type": "code",
      "metadata": {
        "id": "-ZPEvMdCXqUB",
        "colab_type": "code",
        "colab": {}
      },
      "source": [
        "df_lim = df_lim.withColumn('quantity x 2', df_lim['quantity'] * 2)"
      ],
      "execution_count": 0,
      "outputs": []
    },
    {
      "cell_type": "code",
      "metadata": {
        "id": "nT5uPsLVYR4m",
        "colab_type": "code",
        "colab": {}
      },
      "source": [
        "df_grp = df_lim.groupBy('country')"
      ],
      "execution_count": 0,
      "outputs": []
    },
    {
      "cell_type": "code",
      "metadata": {
        "id": "yabmjAV6YeOZ",
        "colab_type": "code",
        "colab": {}
      },
      "source": [
        "df_sum = df_grp.sum('quantity', 'quantity x 2')"
      ],
      "execution_count": 0,
      "outputs": []
    },
    {
      "cell_type": "code",
      "metadata": {
        "id": "BIGeE-9vYkuF",
        "colab_type": "code",
        "outputId": "21819d4a-037b-4dd5-bf61-8bba3af3edd3",
        "colab": {
          "base_uri": "https://localhost:8080/",
          "height": 459
        }
      },
      "source": [
        "# Здесь произойдут основные вычисления\n",
        "df_sum.show()"
      ],
      "execution_count": 22,
      "outputs": [
        {
          "output_type": "stream",
          "text": [
            "+------------------+--------------------+--------------------+\n",
            "|           country|       sum(quantity)|   sum(quantity x 2)|\n",
            "+------------------+--------------------+--------------------+\n",
            "|     Côte d'Ivoire| 2.815485732456253E7| 5.630971464912506E7|\n",
            "|              Chad|  3796498.7491319943|   7592997.498263989|\n",
            "|          Paraguay|     1.23209483765E7|      2.4641896753E7|\n",
            "|          Anguilla|   20529.34999999997|   41058.69999999994|\n",
            "|             Yemen|1.8178937740390217E8|3.6357875480780435E8|\n",
            "|State of Palestine|  1318668.0123446316|   2637336.024689263|\n",
            "|           Senegal|   6944395.348079733|1.3888790696159465E7|\n",
            "|            Sweden|1.3456236759933385E8| 2.691247351986677E8|\n",
            "|        Cabo Verde|   88130.27080000004|  176260.54160000008|\n",
            "|          Kiribati|   6450.091429000002|  12900.182858000004|\n",
            "|            Guyana|   772150.6722661877|  1544301.3445323755|\n",
            "|       Philippines|  8.45277094530091E7| 1.690554189060182E8|\n",
            "|           Eritrea|   918454.1476713057|  1836908.2953426114|\n",
            "|            Jersey|  142744.73085845588|  285489.46171691176|\n",
            "|             Tonga|  16350.450516472933|  32700.901032945865|\n",
            "|          Djibouti|  130946.11799999996|  261892.23599999992|\n",
            "|         Singapore| 4.701454062703839E7| 9.402908125407678E7|\n",
            "|          Malaysia| 8.356959770425016E8|1.6713919540850031E9|\n",
            "|              Fiji|  400739.80509911076|   801479.6101982215|\n",
            "|            Turkey| 3.500108256564667E8| 7.000216513129334E8|\n",
            "+------------------+--------------------+--------------------+\n",
            "only showing top 20 rows\n",
            "\n"
          ],
          "name": "stdout"
        }
      ]
    },
    {
      "cell_type": "markdown",
      "metadata": {
        "id": "xtngglyigxIm",
        "colab_type": "text"
      },
      "source": [
        "# Практика 2. Выведите максимальную и минимальную (2 датафрейма) количество (Amount) по продукту"
      ]
    },
    {
      "cell_type": "code",
      "metadata": {
        "id": "Bu0LlOtxgwLN",
        "colab_type": "code",
        "outputId": "b6891fc3-57da-41a3-c237-42e3a0ce1509",
        "colab": {
          "base_uri": "https://localhost:8080/",
          "height": 272
        }
      },
      "source": [
        "dt_grp = dt.groupBy('Product')\n",
        "dt_formax = dt_grp.max('Amount')\n",
        "dt_formax.show(10)"
      ],
      "execution_count": 23,
      "outputs": [
        {
          "output_type": "stream",
          "text": [
            "+-------+-----------+\n",
            "|Product|max(Amount)|\n",
            "+-------+-----------+\n",
            "|     _5|          6|\n",
            "|     _2|          8|\n",
            "|     A2|          2|\n",
            "|     _8|         10|\n",
            "|     _3|          7|\n",
            "|     _4|          3|\n",
            "|     _6|          4|\n",
            "|     A4|          3|\n",
            "|     A5|          7|\n",
            "|     A1|          9|\n",
            "+-------+-----------+\n",
            "\n"
          ],
          "name": "stdout"
        }
      ]
    },
    {
      "cell_type": "code",
      "metadata": {
        "id": "AdW8d2S8hLJm",
        "colab_type": "code",
        "outputId": "de265539-40fd-47de-cb0c-01a75404d593",
        "colab": {
          "base_uri": "https://localhost:8080/",
          "height": 272
        }
      },
      "source": [
        "dt_formin = dt.groupBy('Product').min('Amount')\n",
        "dt_formin.show(10)"
      ],
      "execution_count": 24,
      "outputs": [
        {
          "output_type": "stream",
          "text": [
            "+-------+-----------+\n",
            "|Product|min(Amount)|\n",
            "+-------+-----------+\n",
            "|     _5|          1|\n",
            "|     _2|          1|\n",
            "|     A2|          2|\n",
            "|     _8|          1|\n",
            "|     _3|          2|\n",
            "|     _4|          1|\n",
            "|     _6|          4|\n",
            "|     A4|          1|\n",
            "|     A5|          2|\n",
            "|     A1|          2|\n",
            "+-------+-----------+\n",
            "\n"
          ],
          "name": "stdout"
        }
      ]
    },
    {
      "cell_type": "markdown",
      "metadata": {
        "id": "bU53QasbZTYe",
        "colab_type": "text"
      },
      "source": [
        "# Соединения"
      ]
    },
    {
      "cell_type": "code",
      "metadata": {
        "id": "YiHhMab7ZVkl",
        "colab_type": "code",
        "colab": {}
      },
      "source": [
        "from pyspark.sql import Row\n",
        "\n",
        "row = Row(\"name\", \"pet\", \"count\")"
      ],
      "execution_count": 0,
      "outputs": []
    },
    {
      "cell_type": "code",
      "metadata": {
        "id": "pFGlk9T5Zjck",
        "colab_type": "code",
        "colab": {}
      },
      "source": [
        "sc = spark.sparkContext"
      ],
      "execution_count": 0,
      "outputs": []
    },
    {
      "cell_type": "code",
      "metadata": {
        "id": "mYFvDLDOZbSC",
        "colab_type": "code",
        "colab": {}
      },
      "source": [
        "df1 = sc.parallelize([\n",
        "    row(\"Sue\", \"cat\", 16),\n",
        "    row(\"Kim\", \"dog\", 1),    \n",
        "    row(\"Bob\", \"fish\", 5)\n",
        "    ]).toDF()\n",
        "\n",
        "df2 = sc.parallelize([\n",
        "    row(\"Fred\", \"cat\", 2),\n",
        "    row(\"Kate\", \"ant\", 179),    \n",
        "    row(\"Marc\", \"lizard\", 5)\n",
        "    ]).toDF()\n",
        "\n",
        "df3 = sc.parallelize([\n",
        "    row(\"Sarah\", \"shark\", 3),\n",
        "    row(\"Jason\", \"kids\", 2),    \n",
        "    row(\"Scott\", \"squirrel\", 1)\n",
        "    ]).toDF()"
      ],
      "execution_count": 0,
      "outputs": []
    },
    {
      "cell_type": "code",
      "metadata": {
        "id": "sMVCuXdjZdcR",
        "colab_type": "code",
        "outputId": "5573e4cc-2f3f-4697-eee9-b61f823c6cbb",
        "colab": {
          "base_uri": "https://localhost:8080/",
          "height": 255
        }
      },
      "source": [
        "df_union = df1.unionAll(df2).unionAll(df3)\n",
        "df_union.show()"
      ],
      "execution_count": 28,
      "outputs": [
        {
          "output_type": "stream",
          "text": [
            "+-----+--------+-----+\n",
            "| name|     pet|count|\n",
            "+-----+--------+-----+\n",
            "|  Sue|     cat|   16|\n",
            "|  Kim|     dog|    1|\n",
            "|  Bob|    fish|    5|\n",
            "| Fred|     cat|    2|\n",
            "| Kate|     ant|  179|\n",
            "| Marc|  lizard|    5|\n",
            "|Sarah|   shark|    3|\n",
            "|Jason|    kids|    2|\n",
            "|Scott|squirrel|    1|\n",
            "+-----+--------+-----+\n",
            "\n"
          ],
          "name": "stdout"
        }
      ]
    },
    {
      "cell_type": "code",
      "metadata": {
        "id": "aWhf8tz3Zq3R",
        "colab_type": "code",
        "colab": {}
      },
      "source": [
        "row1 = Row(\"name\", \"pet\", \"count\")\n",
        "row2 = Row(\"name\", \"pet2\", \"count2\")"
      ],
      "execution_count": 0,
      "outputs": []
    },
    {
      "cell_type": "code",
      "metadata": {
        "id": "6mbb0ha3Z0iG",
        "colab_type": "code",
        "colab": {}
      },
      "source": [
        "df1 = sc.parallelize([\n",
        "    row1(\"Sue\", \"cat\", 16),\n",
        "    row1(\"Kim\", \"dog\", 1),    \n",
        "    row1(\"Bob\", \"fish\", 5),\n",
        "    row1(\"Libuse\", \"horse\", 1)\n",
        "    ]).toDF()\n",
        "\n",
        "df2 = sc.parallelize([\n",
        "    row2(\"Sue\", \"eagle\", 2),\n",
        "    row2(\"Kim\", \"ant\", 179),    \n",
        "    row2(\"Bob\", \"lizard\", 5),\n",
        "    row2(\"Ferdinand\", \"bees\", 23)\n",
        "    ]).toDF()"
      ],
      "execution_count": 0,
      "outputs": []
    },
    {
      "cell_type": "code",
      "metadata": {
        "id": "4u7pQYpDZ2F9",
        "colab_type": "code",
        "outputId": "019af69f-0a77-4eb1-e953-502c07d6c549",
        "colab": {
          "base_uri": "https://localhost:8080/",
          "height": 153
        }
      },
      "source": [
        "df1.join(df2, 'name', how='inner').show()"
      ],
      "execution_count": 31,
      "outputs": [
        {
          "output_type": "stream",
          "text": [
            "+----+----+-----+------+------+\n",
            "|name| pet|count|  pet2|count2|\n",
            "+----+----+-----+------+------+\n",
            "| Sue| cat|   16| eagle|     2|\n",
            "| Bob|fish|    5|lizard|     5|\n",
            "| Kim| dog|    1|   ant|   179|\n",
            "+----+----+-----+------+------+\n",
            "\n"
          ],
          "name": "stdout"
        }
      ]
    },
    {
      "cell_type": "code",
      "metadata": {
        "id": "zxQli91FZ4L4",
        "colab_type": "code",
        "outputId": "23aa19fd-2d0f-4ae1-db6e-7c0906f9c479",
        "colab": {
          "base_uri": "https://localhost:8080/",
          "height": 187
        }
      },
      "source": [
        "df1.join(df2, 'name', how='outer').show()"
      ],
      "execution_count": 32,
      "outputs": [
        {
          "output_type": "stream",
          "text": [
            "+---------+-----+-----+------+------+\n",
            "|     name|  pet|count|  pet2|count2|\n",
            "+---------+-----+-----+------+------+\n",
            "|      Sue|  cat|   16| eagle|     2|\n",
            "|Ferdinand| null| null|  bees|    23|\n",
            "|      Bob| fish|    5|lizard|     5|\n",
            "|      Kim|  dog|    1|   ant|   179|\n",
            "|   Libuse|horse|    1|  null|  null|\n",
            "+---------+-----+-----+------+------+\n",
            "\n"
          ],
          "name": "stdout"
        }
      ]
    },
    {
      "cell_type": "code",
      "metadata": {
        "id": "i2EgJT0LZ6Xj",
        "colab_type": "code",
        "outputId": "2b277253-beb3-4ba2-9a73-b1b65c7e13f2",
        "colab": {
          "base_uri": "https://localhost:8080/",
          "height": 170
        }
      },
      "source": [
        "df1.join(df2, 'name', how='left').show()"
      ],
      "execution_count": 33,
      "outputs": [
        {
          "output_type": "stream",
          "text": [
            "+------+-----+-----+------+------+\n",
            "|  name|  pet|count|  pet2|count2|\n",
            "+------+-----+-----+------+------+\n",
            "|   Sue|  cat|   16| eagle|     2|\n",
            "|   Bob| fish|    5|lizard|     5|\n",
            "|   Kim|  dog|    1|   ant|   179|\n",
            "|Libuse|horse|    1|  null|  null|\n",
            "+------+-----+-----+------+------+\n",
            "\n"
          ],
          "name": "stdout"
        }
      ]
    },
    {
      "cell_type": "code",
      "metadata": {
        "id": "IisM3yfKZ79_",
        "colab_type": "code",
        "outputId": "583ad36b-af54-4585-ebc3-82de1223d922",
        "colab": {
          "base_uri": "https://localhost:8080/",
          "height": 170
        }
      },
      "source": [
        "df1.join(df2, 'name', how='right').show()"
      ],
      "execution_count": 34,
      "outputs": [
        {
          "output_type": "stream",
          "text": [
            "+---------+----+-----+------+------+\n",
            "|     name| pet|count|  pet2|count2|\n",
            "+---------+----+-----+------+------+\n",
            "|      Sue| cat|   16| eagle|     2|\n",
            "|Ferdinand|null| null|  bees|    23|\n",
            "|      Bob|fish|    5|lizard|     5|\n",
            "|      Kim| dog|    1|   ant|   179|\n",
            "+---------+----+-----+------+------+\n",
            "\n"
          ],
          "name": "stdout"
        }
      ]
    },
    {
      "cell_type": "markdown",
      "metadata": {
        "id": "KP9Cvi4Fhaxc",
        "colab_type": "text"
      },
      "source": [
        "# Практика 3. При помощи операции соединения выведите максимальное, минимальное и среднее (avg) количество (Amount) по продукту"
      ]
    },
    {
      "cell_type": "code",
      "metadata": {
        "id": "n5MiPleohn-2",
        "colab_type": "code",
        "outputId": "18bedef3-e065-432c-cc24-9f0382719277",
        "colab": {
          "base_uri": "https://localhost:8080/",
          "height": 272
        }
      },
      "source": [
        "dt1 = dt_formin.join(dt_formax, 'Product', how='outer')\n",
        "dt1.show()"
      ],
      "execution_count": 35,
      "outputs": [
        {
          "output_type": "stream",
          "text": [
            "+-------+-----------+-----------+\n",
            "|Product|min(Amount)|max(Amount)|\n",
            "+-------+-----------+-----------+\n",
            "|     _5|          1|          6|\n",
            "|     _2|          1|          8|\n",
            "|     A2|          2|          2|\n",
            "|     _8|          1|         10|\n",
            "|     _3|          2|          7|\n",
            "|     _4|          1|          3|\n",
            "|     _6|          4|          4|\n",
            "|     A4|          1|          3|\n",
            "|     A5|          2|          7|\n",
            "|     A1|          2|          9|\n",
            "+-------+-----------+-----------+\n",
            "\n"
          ],
          "name": "stdout"
        }
      ]
    },
    {
      "cell_type": "code",
      "metadata": {
        "id": "oQXhwpFDh6kn",
        "colab_type": "code",
        "outputId": "07b6c037-75a9-4ef8-8e8d-13fe153c1627",
        "colab": {
          "base_uri": "https://localhost:8080/",
          "height": 272
        }
      },
      "source": [
        "dt_res = dt1.join(dt.groupBy('Product').avg('Amount'), 'Product', how='outer')\n",
        "dt_res.show()"
      ],
      "execution_count": 36,
      "outputs": [
        {
          "output_type": "stream",
          "text": [
            "+-------+-----------+-----------+------------------+\n",
            "|Product|min(Amount)|max(Amount)|       avg(Amount)|\n",
            "+-------+-----------+-----------+------------------+\n",
            "|     _5|          1|          6|3.5454545454545454|\n",
            "|     _2|          1|          8|              4.75|\n",
            "|     A2|          2|          2|               2.0|\n",
            "|     _8|          1|         10|               3.5|\n",
            "|     _3|          2|          7| 4.285714285714286|\n",
            "|     _4|          1|          3|               2.0|\n",
            "|     _6|          4|          4|               4.0|\n",
            "|     A4|          1|          3|               2.0|\n",
            "|     A5|          2|          7|               4.0|\n",
            "|     A1|          2|          9|               5.6|\n",
            "+-------+-----------+-----------+------------------+\n",
            "\n"
          ],
          "name": "stdout"
        }
      ]
    },
    {
      "cell_type": "markdown",
      "metadata": {
        "id": "OlRMIVrQauZb",
        "colab_type": "text"
      },
      "source": [
        "# Сводники"
      ]
    },
    {
      "cell_type": "code",
      "metadata": {
        "id": "rqEraqkCavbY",
        "colab_type": "code",
        "outputId": "41f49e52-e3ba-4372-e5ed-62d6a4ce3dca",
        "colab": {
          "base_uri": "https://localhost:8080/",
          "height": 459
        }
      },
      "source": [
        "df_lim.show()"
      ],
      "execution_count": 37,
      "outputs": [
        {
          "output_type": "stream",
          "text": [
            "+-------+----+--------+------------+\n",
            "|country|   y|quantity|quantity x 2|\n",
            "+-------+----+--------+------------+\n",
            "|Austria|1996|     5.0|        10.0|\n",
            "|Austria|1995|    17.0|        34.0|\n",
            "|Belgium|2014|     0.0|         0.0|\n",
            "|Belgium|2013|     0.0|         0.0|\n",
            "|Belgium|2012|    35.0|        70.0|\n",
            "|Belgium|2011|    25.0|        50.0|\n",
            "|Belgium|2010|    22.0|        44.0|\n",
            "|Belgium|2009|    45.0|        90.0|\n",
            "|Czechia|1998|     1.0|         2.0|\n",
            "|Czechia|1995|     7.0|        14.0|\n",
            "|Finland|2010|     9.0|        18.0|\n",
            "|Finland|2009|    13.0|        26.0|\n",
            "|Finland|2008|    39.0|        78.0|\n",
            "|Finland|2007|    21.0|        42.0|\n",
            "|Finland|2006|     0.0|         0.0|\n",
            "|Finland|2005|     0.0|         0.0|\n",
            "|Finland|2004|     0.0|         0.0|\n",
            "|Finland|2003|     0.0|         0.0|\n",
            "|Finland|2002|     0.0|         0.0|\n",
            "|Finland|2001|     0.0|         0.0|\n",
            "+-------+----+--------+------------+\n",
            "only showing top 20 rows\n",
            "\n"
          ],
          "name": "stdout"
        }
      ]
    },
    {
      "cell_type": "code",
      "metadata": {
        "id": "3VzcQuMCayeQ",
        "colab_type": "code",
        "outputId": "3a3417df-d486-4a23-8246-276c1c4889f5",
        "colab": {
          "base_uri": "https://localhost:8080/",
          "height": 479
        }
      },
      "source": [
        "df_lim.groupby('country').pivot('y').sum('quantity').show()"
      ],
      "execution_count": 38,
      "outputs": [
        {
          "output_type": "stream",
          "text": [
            "+------------------+--------------------+------------------+------------------+--------------------+------------------+--------------------+------------------+--------------------+------------------+------------------+------------------+------------------+------------------+--------------------+--------------------+--------------------+--------------------+--------------------+--------------------+--------------------+--------------------+-------------------+--------------------+--------------------+--------------------+\n",
            "|           country|                1990|              1991|              1992|                1993|              1994|                1995|              1996|                1997|              1998|              1999|              2000|              2001|              2002|                2003|                2004|                2005|                2006|                2007|                2008|                2009|                2010|               2011|                2012|                2013|                2014|\n",
            "+------------------+--------------------+------------------+------------------+--------------------+------------------+--------------------+------------------+--------------------+------------------+------------------+------------------+------------------+------------------+--------------------+--------------------+--------------------+--------------------+--------------------+--------------------+--------------------+--------------------+-------------------+--------------------+--------------------+--------------------+\n",
            "|     Côte d'Ivoire|  179200.61401456923|138425.21851129067|141628.24086391355|   738118.7649614385| 692451.0545034658|   763166.1221894001| 864136.4834033169|   1578442.983095539|1573981.5852612671| 1724300.573725152|1724840.6538661383|1759341.9700965367| 1763079.381005324|   500333.9493423132|   624320.2734387387|  2368558.8370472165|   693997.7379584936|  2349933.3393531702|  2364487.6081012883|       644995.821018|       687863.824306|  705218.1368339178|   760218.1598216596|        846869.07006|  1966946.9217843462|\n",
            "|              Chad|  27866.899999999994|           28199.1| 28952.38000000001|            30198.92|          30674.78|            31387.54|          31940.18|            32873.64|33596.880000000005|          34443.98|35316.380000000005|183996.10000000006|184713.19999999992|  174366.33993199997|  188480.67299999995|  278986.89139999996|   277915.6906000001|  277236.75599999994|         276468.0642|            276685.5|            277818.3| 260806.39999999994|  260313.91999999993|  260596.83400000003|  272663.39999999997|\n",
            "|          Anguilla|               266.5|246.50000000000003|300.30000000000007|               394.4|             385.5|               353.0|             378.4|               460.8|491.90000000000003|             546.0|             616.8| 710.2000000000002| 723.9000000000001|  1794.2000000000003|               815.8|   927.3000000000001|             1054.65|              1230.8|              1237.1|  1268.6000000000004|              1346.0| 1293.6000000000001|              1235.5|              1219.9|              1231.7|\n",
            "|          Paraguay|           277601.68|          242465.7|         231803.94|  309039.33999999997|         292873.68|           369978.36|         360675.18|           902691.56|421855.94000000006| 421369.9700000001| 429832.0800000001|         382817.85|         396682.73|           418668.49|           559373.97|   688977.4699999997|           572468.45|   583707.6599999999|          721195.322|   604260.3099999999|           607219.97|  623368.6008000001|         640138.8237|            641732.3|   620149.0000000001|\n",
            "|             Yemen|                null| 640494.5592000001| 644715.9592000002|     1.73762749592E7| 645474.4392000001|   650430.4392119998| 650613.4392119998|1.9403496439211998E7| 1.9563675479212E7| 1.9573466719212E7| 1.9581821719212E7| 658144.0689639999| 659213.1702239998|       667595.022988|   661977.8272560001|   1.9219612345156E7|   530316.7766839999|   1.8962018087136E7|    2.216455216716E7|   642203.9229320001|      1402382.716584|     1751663.348112|      1549227.017516|       1940676.68692| 1.224933009419814E7|\n",
            "|State of Palestine|   36202.91818670148| 36735.14011881636|37312.768490931245|  37881.471711122715| 38456.84073123759|   39049.98781550566| 39908.45267315928|   42063.28321867711| 44298.13972170757| 44950.58758757528| 46695.02208919756|          47766.66| 54975.32000000001|             54930.8|            57833.12|   57659.04000000001|            55562.36|            65958.54|   63597.45999999999|            65861.14|   63871.26000000001|  69582.19999999998|   71063.09999999999|             69636.4|   76815.99999999999|\n",
            "|           Senegal|  125088.45957738382|45839.163237266235|46258.870200696154|  130864.01226457857| 50085.58512846098|  138426.17539708567| 56695.91888861533|   658458.4279195975| 659571.0492964847| 636792.9921598244|  646902.149222259| 649629.6406886296| 655990.9308528196|   78081.34111924001|   81030.25609971245|  519916.68781935866|   71411.08081135864|       509907.240035|        488011.81008|   103616.2324517584|   110843.5289815176| 118107.69182853911|  121377.62969861804|   118831.0876862042|  122657.38663472484|\n",
            "|            Sweden|   5444557.743840976| 3847982.392992314| 4340571.316368345|   6226557.230980654| 4526221.094142872|   4945046.669404178| 4999657.703339272|   6635639.381501611| 5057647.462508898| 5156978.943618929| 4977924.518337257| 5147677.715927103| 5023504.381497217|   5074266.463601675|   5262612.280787054|   7333826.178431609|    5132509.02791234|   5185654.859879831|   7101914.838531472|   5133700.621783844|   6021501.168581883|  5391268.680895225|    5667540.50574921|   5507651.882320744|  5419954.5363994595|\n",
            "|        Cabo Verde|  1155.1999999999998|1280.0000000000002|1393.2160000000003|  1514.9999999999995|1642.2999999999997|  1727.7999999999997|            1846.1|              1933.5|           2063.56|           2292.74|2641.2378000000003| 2874.050600000001|         3201.4612|  3531.7888000000003|           3786.0174|   4309.248999999998|            4505.295|  4952.4400000000005|  5196.9180000000015|   5446.598000000002|   5745.156000000003|           6076.348|  6106.8219999999965|   6393.830000000002|   6513.643000000002|\n",
            "|          Kiribati|             129.696|131.02599999999998|132.60199999999998|             142.704|           116.634|  151.77200000000002|            153.99|  165.41600000000003|           174.438|193.08298400000004|213.45962600000001|        192.414714|225.66574000000006|          261.400156|          289.432604|          335.203666|          369.381934|          374.746267|  367.38217599999996|  334.69450500000005|  398.99610699999994| 396.00447499999996|  397.25047499999994|             399.166|  403.53200000000004|\n",
            "|            Guyana|             79031.0| 8946.919999999998|10416.039999999999|   78445.99655000001|14251.029662509094|    81784.8712613098| 16063.80125350755|  25410.138297415207|17637.435956491423|18736.248139824824|18605.760172832117|18997.189373416055|19979.239823416054|   18507.14436162045|  19517.438132218973|   79992.95791261314|  15956.129582423357|  17661.854817620435|   98072.68420902187|   17351.99675821898|  18313.910481021885|  19923.62620065427|   19559.20845680192|  19447.527069413787|  19540.523793834363|\n",
            "|            Jersey|                null|          3766.826| 4580.893999999999|   4502.718000000001|          4636.554|   4707.274000000001|4697.3859999999995|            4530.232|          4741.026| 4893.022000000001|          4330.844| 4175.629999999999| 5141.223999999999|   5107.246000000001|   5314.898000000001|             5238.44|   6347.340000000001|  6250.3499999999985|             6686.82|   7372.401711223476|   7697.520665878101|  8561.341923693002|   8624.581850573362|  11801.192984424379|   9038.967722663658|\n",
            "|       Philippines|      4872442.668964| 886222.7193100001|     910510.667172|      8144067.944278| 996440.8453820001|  1381127.5184840001|    1097312.419034|      5433349.110208| 4220268.261240001|    4212736.103036| 4221427.107450001|1095741.9812460002|1378160.7776539999|      1565435.729287|      1536699.024523|      6823174.611754|  1565125.7899599997|   6030005.417306552|   6062647.436429797|  2074114.9258400681|  2118374.7117280695| 2204632.6941635874|   2331797.456862689|  2316620.1734896204|1.1049273358206894E7|\n",
            "|           Eritrea|                null|              null|              null|                null| 56283.38916400001|        56919.833608| 59071.24849200001|  58436.426928000015|      41378.319648| 41954.86206800001|      42999.131364|      46426.732898|       47837.77285|        49415.203064|        33702.878486|        34576.860424|  35017.888342469625|   36101.50191400001|        36743.081338|        37719.459008|        38817.535086| 39851.182268000004|   40863.97865406021|   41717.22495675972|   42619.63711001641|\n",
            "|          Djibouti|             3751.31|          3802.084|3838.8900000000003|  3912.0020000000004|          3942.562|  4019.8379999999997|           4084.91|            4177.072|          4197.624|4190.5779999999995|4322.9259999999995|          4488.502|          4662.278|            4732.714|  4886.8099999999995|             5601.59|            6006.386|  6352.5019999999995|   6645.541999999999|   6731.942000000001|   7133.442000000001|  7093.641999999999|   7338.941999999999|   7494.635999999999|            7537.394|\n",
            "|             Tonga|             424.706|           458.676| 477.8280000000001|  476.20000000000005| 490.1579999999999|             546.342| 506.3419999999999|   532.1579999999999| 532.8140000000001| 587.3419999999999| 660.3979999999999|           608.164| 632.4959999999999|            731.6682|   740.8119999999999|             745.036|              786.72|   775.0440000000001|   809.9179999999999|             846.156|   784.8720000000001|  782.6699999999998|          783.072382|   805.4329344729344|   825.4250000000002|\n",
            "|          Malaysia|       7.539379154E7|        3630348.76|        4053379.58|       9.066662618E7|        5444714.86|          7372787.72|        7548536.04|       9.697107688E7|        8356655.52|        8816969.94|        9832695.56|      9862562.7215|    1.0156410161E7|1.1290337499499999E7|1.1483888279999997E7|1.1017984589449991E8|1.3568230869999992E7|1.1027958319100001E8|     1.05665704693E8|1.3742594939000003E7|1.4225420097000005E7|     1.4237323005E7|1.3701881655000005E7|1.4927126947999999E7|6.4287484507999994E7|\n",
            "|         Singapore|            666431.8|          702029.8|          809230.4|          1013431.78|        1095529.96|           1097779.0|         1137694.0|  1158149.4000000001|         1181809.2|         1091945.0|1100679.4000000001|         1223220.8|1458131.4000000001|  1781154.7059999995|  2010115.8560000006|  2140600.7800000003|         2248999.072|         2690496.958|  2731579.6926680002|  2909853.4518000004|  3084709.7436260004| 3169217.9893360008|   3307946.704075997|    3547558.79533485|   3656244.938197594|\n",
            "|              Fiji|             12803.0|           15295.0|        15350.1452|  16460.985199999996|17609.305199999995|  17369.047200000005|17070.372999999992|          16186.3492|13529.386199999997|16135.352400000002|        15769.9394|15902.744200000001|16099.855399999997|        16979.423464|  17807.267040000002|  19865.564732000006|  17636.471595999992|        16760.773876|   18721.49689589472|   13247.01256256472|  14443.013048973891| 14371.890012820713|  13561.387769888599|  15474.000906582249|   16290.02059438566|\n",
            "|            Turkey|2.9569912387522005E7|3425278.9956223853| 3624057.548987308|2.8824612418720607E7| 3913937.284074207|1.1756813264992718E7|  4820581.35558611| 2.270850510269465E7| 6079967.987948154| 6539792.504395979| 7325142.089620853| 6897046.789065901| 7300363.438214261|   8209866.647855243|   8591377.562469844| 1.849678879070945E7|1.1345372716818921E7|1.5192788125141894E7|1.6278560425633818E7|1.2287713199032567E7|1.3239476527438216E7|1.494571464621237E7|1.5423897148126835E7|1.5405077044678276E7| 5.780818165490422E7|\n",
            "+------------------+--------------------+------------------+------------------+--------------------+------------------+--------------------+------------------+--------------------+------------------+------------------+------------------+------------------+------------------+--------------------+--------------------+--------------------+--------------------+--------------------+--------------------+--------------------+--------------------+-------------------+--------------------+--------------------+--------------------+\n",
            "only showing top 20 rows\n",
            "\n"
          ],
          "name": "stdout"
        }
      ]
    },
    {
      "cell_type": "markdown",
      "metadata": {
        "id": "Bk5-0QpriFj-",
        "colab_type": "text"
      },
      "source": [
        "# Практика 4. Постройте разбивку по количеству продуктов по месяцам"
      ]
    },
    {
      "cell_type": "code",
      "metadata": {
        "id": "Zv_NYPeEa6Jn",
        "colab_type": "code",
        "outputId": "8204f1b7-8b0f-4844-84f5-287a3885ab84",
        "colab": {
          "base_uri": "https://localhost:8080/",
          "height": 272
        }
      },
      "source": [
        "dt.groupby('Product').pivot('Month').sum('Amount').show()"
      ],
      "execution_count": 39,
      "outputs": [
        {
          "output_type": "stream",
          "text": [
            "+-------+----+----+----+----+----+----+----+----+----+----+----+----+\n",
            "|Product|   1|   2|   3|   4|   5|   6|   7|   8|   9|  10|  11|  12|\n",
            "+-------+----+----+----+----+----+----+----+----+----+----+----+----+\n",
            "|     _5|null|null|   2|   5|  10|   2|null|   1|   6|   6|   5|   2|\n",
            "|     _2|null|null|null|   4|   2|   1|  10|null|   8|null|   5|   8|\n",
            "|     A2|   2|null|null|null|null|null|null|null|null|null|   2|null|\n",
            "|     _8|null|null|null|   6|null|  13|null|null|   1|   3|null|   5|\n",
            "|     _3|null|null|   6|null|  12|null|null|   2|   3|   3|null|   4|\n",
            "|     _4|null|null|null|   3|null|   3|   2|null|   2|   2|null|   2|\n",
            "|     _6|null|   4|null|null|   4|null|null|null|null|null|null|null|\n",
            "|     A4|null|   1|null|null|   3|null|   3|null|null|null|   3|null|\n",
            "|     A5|null|   3|null|null|   2|null|null|   2|null|null|  13|null|\n",
            "|     A1|   7|   5|null|null|null|null|null|null|null|null|   7|   9|\n",
            "+-------+----+----+----+----+----+----+----+----+----+----+----+----+\n",
            "\n"
          ],
          "name": "stdout"
        }
      ]
    },
    {
      "cell_type": "markdown",
      "metadata": {
        "id": "bauJpCmVbXU6",
        "colab_type": "text"
      },
      "source": [
        "# Подвыборки"
      ]
    },
    {
      "cell_type": "code",
      "metadata": {
        "id": "mZqch5pNbYVz",
        "colab_type": "code",
        "outputId": "ed7de63f-e942-47b4-98f5-220dce43920a",
        "colab": {
          "base_uri": "https://localhost:8080/",
          "height": 204
        }
      },
      "source": [
        "df.show(5)"
      ],
      "execution_count": 40,
      "outputs": [
        {
          "output_type": "stream",
          "text": [
            "+-------+----+--------+--------+\n",
            "|country|year|quantity|category|\n",
            "+-------+----+--------+--------+\n",
            "|Austria|1996|     5.0|       1|\n",
            "|Austria|1995|    17.0|       1|\n",
            "|Belgium|2014|     0.0|       1|\n",
            "|Belgium|2013|     0.0|       1|\n",
            "|Belgium|2012|    35.0|       1|\n",
            "+-------+----+--------+--------+\n",
            "only showing top 5 rows\n",
            "\n"
          ],
          "name": "stdout"
        }
      ]
    },
    {
      "cell_type": "code",
      "metadata": {
        "id": "kW_sF75ObawN",
        "colab_type": "code",
        "outputId": "a542fa77-4d83-42ad-d643-5a448d052075",
        "colab": {
          "base_uri": "https://localhost:8080/",
          "height": 459
        }
      },
      "source": [
        "df_lim = df.select('country', 'year', 'quantity')\n",
        "df_lim.show()"
      ],
      "execution_count": 41,
      "outputs": [
        {
          "output_type": "stream",
          "text": [
            "+-------+----+--------+\n",
            "|country|year|quantity|\n",
            "+-------+----+--------+\n",
            "|Austria|1996|     5.0|\n",
            "|Austria|1995|    17.0|\n",
            "|Belgium|2014|     0.0|\n",
            "|Belgium|2013|     0.0|\n",
            "|Belgium|2012|    35.0|\n",
            "|Belgium|2011|    25.0|\n",
            "|Belgium|2010|    22.0|\n",
            "|Belgium|2009|    45.0|\n",
            "|Czechia|1998|     1.0|\n",
            "|Czechia|1995|     7.0|\n",
            "|Finland|2010|     9.0|\n",
            "|Finland|2009|    13.0|\n",
            "|Finland|2008|    39.0|\n",
            "|Finland|2007|    21.0|\n",
            "|Finland|2006|     0.0|\n",
            "|Finland|2005|     0.0|\n",
            "|Finland|2004|     0.0|\n",
            "|Finland|2003|     0.0|\n",
            "|Finland|2002|     0.0|\n",
            "|Finland|2001|     0.0|\n",
            "+-------+----+--------+\n",
            "only showing top 20 rows\n",
            "\n"
          ],
          "name": "stdout"
        }
      ]
    },
    {
      "cell_type": "code",
      "metadata": {
        "id": "gt0jolgvbgiu",
        "colab_type": "code",
        "outputId": "bf638b53-e389-48f6-c750-2a1a336ed7bf",
        "colab": {
          "base_uri": "https://localhost:8080/",
          "height": 187
        }
      },
      "source": [
        "df.describe('quantity').show()"
      ],
      "execution_count": 42,
      "outputs": [
        {
          "output_type": "stream",
          "text": [
            "+-------+--------------------+\n",
            "|summary|            quantity|\n",
            "+-------+--------------------+\n",
            "|  count|             1189482|\n",
            "|   mean|  184264.77005012735|\n",
            "| stddev|1.5856628141359948E7|\n",
            "|    min|           -864348.0|\n",
            "|    max|          6.680329E9|\n",
            "+-------+--------------------+\n",
            "\n"
          ],
          "name": "stdout"
        }
      ]
    },
    {
      "cell_type": "code",
      "metadata": {
        "id": "Al1CkNN1JF4N",
        "colab_type": "code",
        "outputId": "ee994933-94ec-4da2-8cd0-b18d84f9d8d2",
        "colab": {
          "base_uri": "https://localhost:8080/",
          "height": 34
        }
      },
      "source": [
        "df['quantity'] > 184264"
      ],
      "execution_count": 43,
      "outputs": [
        {
          "output_type": "execute_result",
          "data": {
            "text/plain": [
              "Column<b'(quantity > 184264)'>"
            ]
          },
          "metadata": {
            "tags": []
          },
          "execution_count": 43
        }
      ]
    },
    {
      "cell_type": "code",
      "metadata": {
        "id": "sHAMOAcNJTnj",
        "colab_type": "code",
        "outputId": "c5d31b01-db3d-43ab-ff59-7dec9dd1f92c",
        "colab": {
          "base_uri": "https://localhost:8080/",
          "height": 459
        }
      },
      "source": [
        "df.withColumn('bool', df['quantity'] > 184264).show()"
      ],
      "execution_count": 44,
      "outputs": [
        {
          "output_type": "stream",
          "text": [
            "+-------+----+--------+--------+-----+\n",
            "|country|year|quantity|category| bool|\n",
            "+-------+----+--------+--------+-----+\n",
            "|Austria|1996|     5.0|       1|false|\n",
            "|Austria|1995|    17.0|       1|false|\n",
            "|Belgium|2014|     0.0|       1|false|\n",
            "|Belgium|2013|     0.0|       1|false|\n",
            "|Belgium|2012|    35.0|       1|false|\n",
            "|Belgium|2011|    25.0|       1|false|\n",
            "|Belgium|2010|    22.0|       1|false|\n",
            "|Belgium|2009|    45.0|       1|false|\n",
            "|Czechia|1998|     1.0|       1|false|\n",
            "|Czechia|1995|     7.0|       1|false|\n",
            "|Finland|2010|     9.0|       1|false|\n",
            "|Finland|2009|    13.0|       1|false|\n",
            "|Finland|2008|    39.0|       1|false|\n",
            "|Finland|2007|    21.0|       1|false|\n",
            "|Finland|2006|     0.0|       1|false|\n",
            "|Finland|2005|     0.0|       1|false|\n",
            "|Finland|2004|     0.0|       1|false|\n",
            "|Finland|2003|     0.0|       1|false|\n",
            "|Finland|2002|     0.0|       1|false|\n",
            "|Finland|2001|     0.0|       1|false|\n",
            "+-------+----+--------+--------+-----+\n",
            "only showing top 20 rows\n",
            "\n"
          ],
          "name": "stdout"
        }
      ]
    },
    {
      "cell_type": "code",
      "metadata": {
        "id": "HIgfHvCObn1m",
        "colab_type": "code",
        "outputId": "cf2e8d55-57ce-478a-b729-74716e899774",
        "colab": {
          "base_uri": "https://localhost:8080/",
          "height": 459
        }
      },
      "source": [
        "df_filter = df.where((df['quantity'] > 184264) & (df['country'] != 'United States'))\n",
        "df_filter.show()"
      ],
      "execution_count": 45,
      "outputs": [
        {
          "output_type": "stream",
          "text": [
            "+-------+----+--------+--------+\n",
            "|country|year|quantity|category|\n",
            "+-------+----+--------+--------+\n",
            "|Germany|2014|311259.0|       7|\n",
            "|Germany|2013|287845.0|       7|\n",
            "|Germany|2012|268856.0|       7|\n",
            "|Germany|2011|216897.0|       7|\n",
            "|Germany|2014|311259.0|       7|\n",
            "|Germany|2013|287845.0|       7|\n",
            "|Germany|2012|268856.0|       7|\n",
            "|Germany|2011|216897.0|       7|\n",
            "|Germany|2014|232451.0|       7|\n",
            "|Germany|2013|217991.0|       7|\n",
            "|Germany|2012|192441.0|       7|\n",
            "|Germany|2014|232451.0|       7|\n",
            "|Germany|2013|217991.0|       7|\n",
            "|Germany|2012|192441.0|       7|\n",
            "| Canada|2013|191861.0|      10|\n",
            "| Canada|2007|202060.0|      10|\n",
            "| Canada|2006|203142.0|      10|\n",
            "| Canada|2005|224001.0|      10|\n",
            "| Canada|2004|236803.0|      10|\n",
            "| Canada|2003|226291.0|      10|\n",
            "+-------+----+--------+--------+\n",
            "only showing top 20 rows\n",
            "\n"
          ],
          "name": "stdout"
        }
      ]
    },
    {
      "cell_type": "code",
      "metadata": {
        "id": "ruTYSXeiC2Qb",
        "colab_type": "code",
        "outputId": "dddb4d1f-705c-4df5-a0c8-d69291697401",
        "colab": {
          "base_uri": "https://localhost:8080/",
          "height": 459
        }
      },
      "source": [
        "df.withColumn('bool 1', df['quantity'] > 184264).withColumn('bool 2', df['country'] != 'United States').show()\n"
      ],
      "execution_count": 46,
      "outputs": [
        {
          "output_type": "stream",
          "text": [
            "+-------+----+--------+--------+------+------+\n",
            "|country|year|quantity|category|bool 1|bool 2|\n",
            "+-------+----+--------+--------+------+------+\n",
            "|Austria|1996|     5.0|       1| false|  true|\n",
            "|Austria|1995|    17.0|       1| false|  true|\n",
            "|Belgium|2014|     0.0|       1| false|  true|\n",
            "|Belgium|2013|     0.0|       1| false|  true|\n",
            "|Belgium|2012|    35.0|       1| false|  true|\n",
            "|Belgium|2011|    25.0|       1| false|  true|\n",
            "|Belgium|2010|    22.0|       1| false|  true|\n",
            "|Belgium|2009|    45.0|       1| false|  true|\n",
            "|Czechia|1998|     1.0|       1| false|  true|\n",
            "|Czechia|1995|     7.0|       1| false|  true|\n",
            "|Finland|2010|     9.0|       1| false|  true|\n",
            "|Finland|2009|    13.0|       1| false|  true|\n",
            "|Finland|2008|    39.0|       1| false|  true|\n",
            "|Finland|2007|    21.0|       1| false|  true|\n",
            "|Finland|2006|     0.0|       1| false|  true|\n",
            "|Finland|2005|     0.0|       1| false|  true|\n",
            "|Finland|2004|     0.0|       1| false|  true|\n",
            "|Finland|2003|     0.0|       1| false|  true|\n",
            "|Finland|2002|     0.0|       1| false|  true|\n",
            "|Finland|2001|     0.0|       1| false|  true|\n",
            "+-------+----+--------+--------+------+------+\n",
            "only showing top 20 rows\n",
            "\n"
          ],
          "name": "stdout"
        }
      ]
    },
    {
      "cell_type": "code",
      "metadata": {
        "id": "Jef1o9yzFoX7",
        "colab_type": "code",
        "outputId": "c12ea623-2672-43a7-c270-61b9324ce55f",
        "colab": {
          "base_uri": "https://localhost:8080/",
          "height": 459
        }
      },
      "source": [
        "df.withColumn('bool 1', df['quantity'] > 184264).withColumn('bool 2', df['country'] != 'United States').withColumn('bool res', (df['quantity'] > 184264) & (df['country'] != 'United States')).show()\n"
      ],
      "execution_count": 47,
      "outputs": [
        {
          "output_type": "stream",
          "text": [
            "+-------+----+--------+--------+------+------+--------+\n",
            "|country|year|quantity|category|bool 1|bool 2|bool res|\n",
            "+-------+----+--------+--------+------+------+--------+\n",
            "|Austria|1996|     5.0|       1| false|  true|   false|\n",
            "|Austria|1995|    17.0|       1| false|  true|   false|\n",
            "|Belgium|2014|     0.0|       1| false|  true|   false|\n",
            "|Belgium|2013|     0.0|       1| false|  true|   false|\n",
            "|Belgium|2012|    35.0|       1| false|  true|   false|\n",
            "|Belgium|2011|    25.0|       1| false|  true|   false|\n",
            "|Belgium|2010|    22.0|       1| false|  true|   false|\n",
            "|Belgium|2009|    45.0|       1| false|  true|   false|\n",
            "|Czechia|1998|     1.0|       1| false|  true|   false|\n",
            "|Czechia|1995|     7.0|       1| false|  true|   false|\n",
            "|Finland|2010|     9.0|       1| false|  true|   false|\n",
            "|Finland|2009|    13.0|       1| false|  true|   false|\n",
            "|Finland|2008|    39.0|       1| false|  true|   false|\n",
            "|Finland|2007|    21.0|       1| false|  true|   false|\n",
            "|Finland|2006|     0.0|       1| false|  true|   false|\n",
            "|Finland|2005|     0.0|       1| false|  true|   false|\n",
            "|Finland|2004|     0.0|       1| false|  true|   false|\n",
            "|Finland|2003|     0.0|       1| false|  true|   false|\n",
            "|Finland|2002|     0.0|       1| false|  true|   false|\n",
            "|Finland|2001|     0.0|       1| false|  true|   false|\n",
            "+-------+----+--------+--------+------+------+--------+\n",
            "only showing top 20 rows\n",
            "\n"
          ],
          "name": "stdout"
        }
      ]
    },
    {
      "cell_type": "code",
      "metadata": {
        "id": "8uDV3BWjbwPe",
        "colab_type": "code",
        "outputId": "8d91e198-5a5b-427a-f1bd-ea9b1a03fe61",
        "colab": {
          "base_uri": "https://localhost:8080/",
          "height": 187
        }
      },
      "source": [
        "# Параметры - с повторением или без, какую долю dataset'а взять\n",
        "df_sample = df.sample(False, 0.05)\n",
        "df_sample.describe('quantity').show()"
      ],
      "execution_count": 48,
      "outputs": [
        {
          "output_type": "stream",
          "text": [
            "+-------+------------------+\n",
            "|summary|          quantity|\n",
            "+-------+------------------+\n",
            "|  count|             59278|\n",
            "|   mean|105952.82644764608|\n",
            "| stddev| 7548927.542176744|\n",
            "|    min|         -562414.0|\n",
            "|    max|      1.74618975E9|\n",
            "+-------+------------------+\n",
            "\n"
          ],
          "name": "stdout"
        }
      ]
    },
    {
      "cell_type": "markdown",
      "metadata": {
        "id": "s9ctvjCCisi5",
        "colab_type": "text"
      },
      "source": [
        "# Практика 5. Выведите список всех, товаров, которых хоть когда-то было больше 5-ти штук"
      ]
    },
    {
      "cell_type": "code",
      "metadata": {
        "id": "9G2dd-XRi2Fi",
        "colab_type": "code",
        "outputId": "dd09deb6-bef9-4746-9e9c-317b7ae4f490",
        "colab": {
          "base_uri": "https://localhost:8080/",
          "height": 204
        }
      },
      "source": [
        "dt_filt = dt_formax.where(dt_formax['max(Amount)'] > 5).show()"
      ],
      "execution_count": 49,
      "outputs": [
        {
          "output_type": "stream",
          "text": [
            "+-------+-----------+\n",
            "|Product|max(Amount)|\n",
            "+-------+-----------+\n",
            "|     _5|          6|\n",
            "|     _2|          8|\n",
            "|     _8|         10|\n",
            "|     _3|          7|\n",
            "|     A5|          7|\n",
            "|     A1|          9|\n",
            "+-------+-----------+\n",
            "\n"
          ],
          "name": "stdout"
        }
      ]
    },
    {
      "cell_type": "markdown",
      "metadata": {
        "id": "1vTEVq6MccvD",
        "colab_type": "text"
      },
      "source": [
        "# Визуализация"
      ]
    },
    {
      "cell_type": "code",
      "metadata": {
        "id": "8iriU_NEcFQ2",
        "colab_type": "code",
        "colab": {}
      },
      "source": [
        "import pandas as pd\n",
        "import matplotlib.pyplot as plt\n",
        "%matplotlib inline"
      ],
      "execution_count": 0,
      "outputs": []
    },
    {
      "cell_type": "code",
      "metadata": {
        "id": "RfG88FI6ceQ7",
        "colab_type": "code",
        "outputId": "e1349516-380e-45b4-b3b7-fda69a45f7cd",
        "colab": {
          "base_uri": "https://localhost:8080/",
          "height": 459
        }
      },
      "source": [
        "to_show = df.groupby('year').sum('quantity').orderBy('year')\n",
        "to_show.show()"
      ],
      "execution_count": 51,
      "outputs": [
        {
          "output_type": "stream",
          "text": [
            "+----+--------------------+\n",
            "|year|       sum(quantity)|\n",
            "+----+--------------------+\n",
            "|1990|2.781426135733307E10|\n",
            "|1991| 2.466541930678139E9|\n",
            "|1992|2.1419483655120907E9|\n",
            "|1993|1.818040678302332...|\n",
            "|1994| 2.286637409479232E9|\n",
            "|1995|1.8993733981039996E9|\n",
            "|1996| 1.276732195368936E9|\n",
            "|1997|2.368193080700125...|\n",
            "|1998| 8.729463830731297E9|\n",
            "|1999| 7.766232101772736E9|\n",
            "|2000| 7.004882006062636E9|\n",
            "|2001|4.0475256363267155E9|\n",
            "|2002| 3.812004491308077E9|\n",
            "|2003| 1.407111379702272E9|\n",
            "|2004|1.4498832309942997E9|\n",
            "|2005|1.623457574857694...|\n",
            "|2006|1.5714035023136258E9|\n",
            "|2007| 9.477595462966421E9|\n",
            "|2008|1.288885727194202...|\n",
            "|2009|1.6234129606657305E9|\n",
            "+----+--------------------+\n",
            "only showing top 20 rows\n",
            "\n"
          ],
          "name": "stdout"
        }
      ]
    },
    {
      "cell_type": "code",
      "metadata": {
        "id": "IdBgb380csvM",
        "colab_type": "code",
        "colab": {}
      },
      "source": [
        "years = to_show[['year']].collect()\n",
        "sums = to_show[['sum(quantity)']].collect()"
      ],
      "execution_count": 0,
      "outputs": []
    },
    {
      "cell_type": "code",
      "metadata": {
        "id": "Kn0cjp2Qc3oT",
        "colab_type": "code",
        "outputId": "67637f68-e158-4965-af26-9aee2054814d",
        "colab": {
          "base_uri": "https://localhost:8080/",
          "height": 276
        }
      },
      "source": [
        "plt.figure()\n",
        "plt.plot(years, sums)\n",
        "plt.show()"
      ],
      "execution_count": 53,
      "outputs": [
        {
          "output_type": "display_data",
          "data": {
            "image/png": "[encoded data removed]",
            "text/plain": [
              "<Figure size 432x288 with 1 Axes>"
            ]
          },
          "metadata": {
            "tags": []
          }
        }
      ]
    },
    {
      "cell_type": "code",
      "metadata": {
        "id": "8_jlzV9Ec4pB",
        "colab_type": "code",
        "colab": {}
      },
      "source": [
        "pd_df = to_show.toPandas() #группируется в оперативной памяти"
      ],
      "execution_count": 0,
      "outputs": []
    },
    {
      "cell_type": "code",
      "metadata": {
        "id": "zpBUR0jldVNh",
        "colab_type": "code",
        "outputId": "5be99c08-9790-4cba-9171-1aef1f065a93",
        "colab": {
          "base_uri": "https://localhost:8080/",
          "height": 293
        }
      },
      "source": [
        "pd_df['sum(quantity)'].plot()"
      ],
      "execution_count": 55,
      "outputs": [
        {
          "output_type": "execute_result",
          "data": {
            "text/plain": [
              "<matplotlib.axes._subplots.AxesSubplot at 0x7f0cceaf33c8>"
            ]
          },
          "metadata": {
            "tags": []
          },
          "execution_count": 55
        },
        {
          "output_type": "display_data",
          "data": {
            "image/png": "[encoded data removed]",
            "text/plain": [
              "<Figure size 432x288 with 1 Axes>"
            ]
          },
          "metadata": {
            "tags": []
          }
        }
      ]
    },
    {
      "cell_type": "markdown",
      "metadata": {
        "id": "bYB2_Q79jPdW",
        "colab_type": "text"
      },
      "source": [
        "# Домашнее задание\n",
        "- Скачайте dataset iris https://gist.github.com/netj/8836201\n",
        "- Для каждого типа цветка определите максимальное, минимальное и среднее значение 4-х параметров\n",
        "- Визуализируйте точечный график (plt.scatter) по каждой паре параметров\n",
        "- Попробуйте отделить какой-нить тип цветка от всех остальных (сформулируйте правило на основе диаграммы - ЕСЛИ ЗНАЧЕНИЕ ПАРАМЕТРА X БОЛЬШЕ/МЕНЬШЕ Y, ТО ЦВЕТОК СКОРЕЕ ВСЕГО ОТНОСИТСЯ/НЕ ОТНОСИТСЯ К ТИПУ Z)\n",
        "- Сделайте отдельную колонку для своего предсказания\n",
        "- Оцените качество (сколько раз Вы угадали с ответом и сколько раз не угадали)"
      ]
    },
    {
      "cell_type": "code",
      "metadata": {
        "id": "fR-uazH9kah0",
        "colab_type": "code",
        "outputId": "af0f9c6b-ff19-4d2c-f31f-92ec9bd44c58",
        "colab": {
          "base_uri": "https://localhost:8080/",
          "height": 187
        }
      },
      "source": [
        "hw = spark.read.csv('iris.csv', inferSchema=True, header=True)\n",
        "hw.take(10)"
      ],
      "execution_count": 56,
      "outputs": [
        {
          "output_type": "execute_result",
          "data": {
            "text/plain": [
              "[Row(sepal.length=5.1, sepal.width=3.5, petal.length=1.4, petal.width=0.2, variety='Setosa'),\n",
              " Row(sepal.length=4.9, sepal.width=3.0, petal.length=1.4, petal.width=0.2, variety='Setosa'),\n",
              " Row(sepal.length=4.7, sepal.width=3.2, petal.length=1.3, petal.width=0.2, variety='Setosa'),\n",
              " Row(sepal.length=4.6, sepal.width=3.1, petal.length=1.5, petal.width=0.2, variety='Setosa'),\n",
              " Row(sepal.length=5.0, sepal.width=3.6, petal.length=1.4, petal.width=0.2, variety='Setosa'),\n",
              " Row(sepal.length=5.4, sepal.width=3.9, petal.length=1.7, petal.width=0.4, variety='Setosa'),\n",
              " Row(sepal.length=4.6, sepal.width=3.4, petal.length=1.4, petal.width=0.3, variety='Setosa'),\n",
              " Row(sepal.length=5.0, sepal.width=3.4, petal.length=1.5, petal.width=0.2, variety='Setosa'),\n",
              " Row(sepal.length=4.4, sepal.width=2.9, petal.length=1.4, petal.width=0.2, variety='Setosa'),\n",
              " Row(sepal.length=4.9, sepal.width=3.1, petal.length=1.5, petal.width=0.1, variety='Setosa')]"
            ]
          },
          "metadata": {
            "tags": []
          },
          "execution_count": 56
        }
      ]
    },
    {
      "cell_type": "code",
      "metadata": {
        "id": "n9kGVjF3n4pj",
        "colab_type": "code",
        "outputId": "0744fc2c-e7d3-41d4-ce89-47badca36d53",
        "colab": {
          "base_uri": "https://localhost:8080/",
          "height": 34
        }
      },
      "source": [
        "hw.count()"
      ],
      "execution_count": 57,
      "outputs": [
        {
          "output_type": "execute_result",
          "data": {
            "text/plain": [
              "150"
            ]
          },
          "metadata": {
            "tags": []
          },
          "execution_count": 57
        }
      ]
    },
    {
      "cell_type": "code",
      "metadata": {
        "id": "X1ispKVyTSZf",
        "colab_type": "code",
        "outputId": "741e395c-4708-4599-fd11-9decc40172d5",
        "colab": {
          "base_uri": "https://localhost:8080/",
          "height": 102
        }
      },
      "source": [
        "hw.dtypes"
      ],
      "execution_count": 58,
      "outputs": [
        {
          "output_type": "execute_result",
          "data": {
            "text/plain": [
              "[('sepal.length', 'double'),\n",
              " ('sepal.width', 'double'),\n",
              " ('petal.length', 'double'),\n",
              " ('petal.width', 'double'),\n",
              " ('variety', 'string')]"
            ]
          },
          "metadata": {
            "tags": []
          },
          "execution_count": 58
        }
      ]
    },
    {
      "cell_type": "code",
      "metadata": {
        "id": "tr65oGqyAXab",
        "colab_type": "code",
        "outputId": "7fa39cda-0004-4586-a0ee-77d134cae5df",
        "colab": {
          "base_uri": "https://localhost:8080/",
          "height": 459
        }
      },
      "source": [
        "import re\n",
        "hww = hw.toDF(*(re.sub(r'[\\.\\s]+', '_', c) for c in hw.columns)) \n",
        "hww.show()"
      ],
      "execution_count": 59,
      "outputs": [
        {
          "output_type": "stream",
          "text": [
            "+------------+-----------+------------+-----------+-------+\n",
            "|sepal_length|sepal_width|petal_length|petal_width|variety|\n",
            "+------------+-----------+------------+-----------+-------+\n",
            "|         5.1|        3.5|         1.4|        0.2| Setosa|\n",
            "|         4.9|        3.0|         1.4|        0.2| Setosa|\n",
            "|         4.7|        3.2|         1.3|        0.2| Setosa|\n",
            "|         4.6|        3.1|         1.5|        0.2| Setosa|\n",
            "|         5.0|        3.6|         1.4|        0.2| Setosa|\n",
            "|         5.4|        3.9|         1.7|        0.4| Setosa|\n",
            "|         4.6|        3.4|         1.4|        0.3| Setosa|\n",
            "|         5.0|        3.4|         1.5|        0.2| Setosa|\n",
            "|         4.4|        2.9|         1.4|        0.2| Setosa|\n",
            "|         4.9|        3.1|         1.5|        0.1| Setosa|\n",
            "|         5.4|        3.7|         1.5|        0.2| Setosa|\n",
            "|         4.8|        3.4|         1.6|        0.2| Setosa|\n",
            "|         4.8|        3.0|         1.4|        0.1| Setosa|\n",
            "|         4.3|        3.0|         1.1|        0.1| Setosa|\n",
            "|         5.8|        4.0|         1.2|        0.2| Setosa|\n",
            "|         5.7|        4.4|         1.5|        0.4| Setosa|\n",
            "|         5.4|        3.9|         1.3|        0.4| Setosa|\n",
            "|         5.1|        3.5|         1.4|        0.3| Setosa|\n",
            "|         5.7|        3.8|         1.7|        0.3| Setosa|\n",
            "|         5.1|        3.8|         1.5|        0.3| Setosa|\n",
            "+------------+-----------+------------+-----------+-------+\n",
            "only showing top 20 rows\n",
            "\n"
          ],
          "name": "stdout"
        }
      ]
    },
    {
      "cell_type": "code",
      "metadata": {
        "id": "AX__Btq5I-fz",
        "colab_type": "code",
        "outputId": "b2ae125e-c304-424f-bae3-4d4e309e0b79",
        "colab": {
          "base_uri": "https://localhost:8080/",
          "height": 34
        }
      },
      "source": [
        "hww.toPandas()['variety'].unique()"
      ],
      "execution_count": 60,
      "outputs": [
        {
          "output_type": "execute_result",
          "data": {
            "text/plain": [
              "array(['Setosa', 'Versicolor', 'Virginica'], dtype=object)"
            ]
          },
          "metadata": {
            "tags": []
          },
          "execution_count": 60
        }
      ]
    },
    {
      "cell_type": "code",
      "metadata": {
        "id": "lhBCtyCjOJ9c",
        "colab_type": "code",
        "outputId": "b45be0d6-a61b-49c7-d213-e8b9608af1bd",
        "colab": {
          "base_uri": "https://localhost:8080/",
          "height": 297
        }
      },
      "source": [
        "hww.toPandas().describe()"
      ],
      "execution_count": 61,
      "outputs": [
        {
          "output_type": "execute_result",
          "data": {
            "text/html": [
              "<div>\n",
              "<style scoped>\n",
              "    .dataframe tbody tr th:only-of-type {\n",
              "        vertical-align: middle;\n",
              "    }\n",
              "\n",
              "    .dataframe tbody tr th {\n",
              "        vertical-align: top;\n",
              "    }\n",
              "\n",
              "    .dataframe thead th {\n",
              "        text-align: right;\n",
              "    }\n",
              "</style>\n",
              "<table border=\"1\" class=\"dataframe\">\n",
              "  <thead>\n",
              "    <tr style=\"text-align: right;\">\n",
              "      <th></th>\n",
              "      <th>sepal_length</th>\n",
              "      <th>sepal_width</th>\n",
              "      <th>petal_length</th>\n",
              "      <th>petal_width</th>\n",
              "    </tr>\n",
              "  </thead>\n",
              "  <tbody>\n",
              "    <tr>\n",
              "      <th>count</th>\n",
              "      <td>150.000000</td>\n",
              "      <td>150.000000</td>\n",
              "      <td>150.000000</td>\n",
              "      <td>150.000000</td>\n",
              "    </tr>\n",
              "    <tr>\n",
              "      <th>mean</th>\n",
              "      <td>5.843333</td>\n",
              "      <td>3.057333</td>\n",
              "      <td>3.758000</td>\n",
              "      <td>1.199333</td>\n",
              "    </tr>\n",
              "    <tr>\n",
              "      <th>std</th>\n",
              "      <td>0.828066</td>\n",
              "      <td>0.435866</td>\n",
              "      <td>1.765298</td>\n",
              "      <td>0.762238</td>\n",
              "    </tr>\n",
              "    <tr>\n",
              "      <th>min</th>\n",
              "      <td>4.300000</td>\n",
              "      <td>2.000000</td>\n",
              "      <td>1.000000</td>\n",
              "      <td>0.100000</td>\n",
              "    </tr>\n",
              "    <tr>\n",
              "      <th>25%</th>\n",
              "      <td>5.100000</td>\n",
              "      <td>2.800000</td>\n",
              "      <td>1.600000</td>\n",
              "      <td>0.300000</td>\n",
              "    </tr>\n",
              "    <tr>\n",
              "      <th>50%</th>\n",
              "      <td>5.800000</td>\n",
              "      <td>3.000000</td>\n",
              "      <td>4.350000</td>\n",
              "      <td>1.300000</td>\n",
              "    </tr>\n",
              "    <tr>\n",
              "      <th>75%</th>\n",
              "      <td>6.400000</td>\n",
              "      <td>3.300000</td>\n",
              "      <td>5.100000</td>\n",
              "      <td>1.800000</td>\n",
              "    </tr>\n",
              "    <tr>\n",
              "      <th>max</th>\n",
              "      <td>7.900000</td>\n",
              "      <td>4.400000</td>\n",
              "      <td>6.900000</td>\n",
              "      <td>2.500000</td>\n",
              "    </tr>\n",
              "  </tbody>\n",
              "</table>\n",
              "</div>"
            ],
            "text/plain": [
              "       sepal_length  sepal_width  petal_length  petal_width\n",
              "count    150.000000   150.000000    150.000000   150.000000\n",
              "mean       5.843333     3.057333      3.758000     1.199333\n",
              "std        0.828066     0.435866      1.765298     0.762238\n",
              "min        4.300000     2.000000      1.000000     0.100000\n",
              "25%        5.100000     2.800000      1.600000     0.300000\n",
              "50%        5.800000     3.000000      4.350000     1.300000\n",
              "75%        6.400000     3.300000      5.100000     1.800000\n",
              "max        7.900000     4.400000      6.900000     2.500000"
            ]
          },
          "metadata": {
            "tags": []
          },
          "execution_count": 61
        }
      ]
    },
    {
      "cell_type": "code",
      "metadata": {
        "id": "3QwihUL2qYJf",
        "colab_type": "code",
        "outputId": "cc0b99f3-31fb-4acf-8183-7eaefd9e8f91",
        "colab": {
          "base_uri": "https://localhost:8080/",
          "height": 142
        }
      },
      "source": [
        "hw_filter1 = hww.where(hww['variety'] == 'Setosa')\n",
        "hw_filter_1 = hw_filter1.drop('variety')\n",
        "Setosa = hw_filter_1.toPandas().agg(['min', 'max', 'mean'])\n",
        "Setosa"
      ],
      "execution_count": 62,
      "outputs": [
        {
          "output_type": "execute_result",
          "data": {
            "text/html": [
              "<div>\n",
              "<style scoped>\n",
              "    .dataframe tbody tr th:only-of-type {\n",
              "        vertical-align: middle;\n",
              "    }\n",
              "\n",
              "    .dataframe tbody tr th {\n",
              "        vertical-align: top;\n",
              "    }\n",
              "\n",
              "    .dataframe thead th {\n",
              "        text-align: right;\n",
              "    }\n",
              "</style>\n",
              "<table border=\"1\" class=\"dataframe\">\n",
              "  <thead>\n",
              "    <tr style=\"text-align: right;\">\n",
              "      <th></th>\n",
              "      <th>sepal_length</th>\n",
              "      <th>sepal_width</th>\n",
              "      <th>petal_length</th>\n",
              "      <th>petal_width</th>\n",
              "    </tr>\n",
              "  </thead>\n",
              "  <tbody>\n",
              "    <tr>\n",
              "      <th>min</th>\n",
              "      <td>4.300</td>\n",
              "      <td>2.300</td>\n",
              "      <td>1.000</td>\n",
              "      <td>0.100</td>\n",
              "    </tr>\n",
              "    <tr>\n",
              "      <th>max</th>\n",
              "      <td>5.800</td>\n",
              "      <td>4.400</td>\n",
              "      <td>1.900</td>\n",
              "      <td>0.600</td>\n",
              "    </tr>\n",
              "    <tr>\n",
              "      <th>mean</th>\n",
              "      <td>5.006</td>\n",
              "      <td>3.428</td>\n",
              "      <td>1.462</td>\n",
              "      <td>0.246</td>\n",
              "    </tr>\n",
              "  </tbody>\n",
              "</table>\n",
              "</div>"
            ],
            "text/plain": [
              "      sepal_length  sepal_width  petal_length  petal_width\n",
              "min          4.300        2.300         1.000        0.100\n",
              "max          5.800        4.400         1.900        0.600\n",
              "mean         5.006        3.428         1.462        0.246"
            ]
          },
          "metadata": {
            "tags": []
          },
          "execution_count": 62
        }
      ]
    },
    {
      "cell_type": "code",
      "metadata": {
        "id": "HJuQDOSGvE3V",
        "colab_type": "code",
        "outputId": "1cf498f6-4701-48ee-af29-f5f3ec5f11a0",
        "colab": {
          "base_uri": "https://localhost:8080/",
          "height": 142
        }
      },
      "source": [
        "hw_filter2 = hww.where(hww['variety'] == 'Versicolor')\n",
        "hw_filter_2 = hw_filter2.drop('variety')\n",
        "Versicolor = hw_filter_2.toPandas().agg(['min', 'max', 'mean'])\n",
        "Versicolor"
      ],
      "execution_count": 63,
      "outputs": [
        {
          "output_type": "execute_result",
          "data": {
            "text/html": [
              "<div>\n",
              "<style scoped>\n",
              "    .dataframe tbody tr th:only-of-type {\n",
              "        vertical-align: middle;\n",
              "    }\n",
              "\n",
              "    .dataframe tbody tr th {\n",
              "        vertical-align: top;\n",
              "    }\n",
              "\n",
              "    .dataframe thead th {\n",
              "        text-align: right;\n",
              "    }\n",
              "</style>\n",
              "<table border=\"1\" class=\"dataframe\">\n",
              "  <thead>\n",
              "    <tr style=\"text-align: right;\">\n",
              "      <th></th>\n",
              "      <th>sepal_length</th>\n",
              "      <th>sepal_width</th>\n",
              "      <th>petal_length</th>\n",
              "      <th>petal_width</th>\n",
              "    </tr>\n",
              "  </thead>\n",
              "  <tbody>\n",
              "    <tr>\n",
              "      <th>min</th>\n",
              "      <td>4.900</td>\n",
              "      <td>2.00</td>\n",
              "      <td>3.00</td>\n",
              "      <td>1.000</td>\n",
              "    </tr>\n",
              "    <tr>\n",
              "      <th>max</th>\n",
              "      <td>7.000</td>\n",
              "      <td>3.40</td>\n",
              "      <td>5.10</td>\n",
              "      <td>1.800</td>\n",
              "    </tr>\n",
              "    <tr>\n",
              "      <th>mean</th>\n",
              "      <td>5.936</td>\n",
              "      <td>2.77</td>\n",
              "      <td>4.26</td>\n",
              "      <td>1.326</td>\n",
              "    </tr>\n",
              "  </tbody>\n",
              "</table>\n",
              "</div>"
            ],
            "text/plain": [
              "      sepal_length  sepal_width  petal_length  petal_width\n",
              "min          4.900         2.00          3.00        1.000\n",
              "max          7.000         3.40          5.10        1.800\n",
              "mean         5.936         2.77          4.26        1.326"
            ]
          },
          "metadata": {
            "tags": []
          },
          "execution_count": 63
        }
      ]
    },
    {
      "cell_type": "code",
      "metadata": {
        "id": "ZmfVlIWHvEnI",
        "colab_type": "code",
        "outputId": "278b3fe5-a751-4e9a-9874-8b8ef1eff7b8",
        "colab": {
          "base_uri": "https://localhost:8080/",
          "height": 142
        }
      },
      "source": [
        "hw_filter3 = hww.where(hww['variety'] == 'Virginica')\n",
        "hw_filter_3 = hw_filter3.drop('variety')\n",
        "Virginica = hw_filter_3.toPandas().agg(['min', 'max', 'mean'])\n",
        "Virginica"
      ],
      "execution_count": 64,
      "outputs": [
        {
          "output_type": "execute_result",
          "data": {
            "text/html": [
              "<div>\n",
              "<style scoped>\n",
              "    .dataframe tbody tr th:only-of-type {\n",
              "        vertical-align: middle;\n",
              "    }\n",
              "\n",
              "    .dataframe tbody tr th {\n",
              "        vertical-align: top;\n",
              "    }\n",
              "\n",
              "    .dataframe thead th {\n",
              "        text-align: right;\n",
              "    }\n",
              "</style>\n",
              "<table border=\"1\" class=\"dataframe\">\n",
              "  <thead>\n",
              "    <tr style=\"text-align: right;\">\n",
              "      <th></th>\n",
              "      <th>sepal_length</th>\n",
              "      <th>sepal_width</th>\n",
              "      <th>petal_length</th>\n",
              "      <th>petal_width</th>\n",
              "    </tr>\n",
              "  </thead>\n",
              "  <tbody>\n",
              "    <tr>\n",
              "      <th>min</th>\n",
              "      <td>4.900</td>\n",
              "      <td>2.200</td>\n",
              "      <td>4.500</td>\n",
              "      <td>1.400</td>\n",
              "    </tr>\n",
              "    <tr>\n",
              "      <th>max</th>\n",
              "      <td>7.900</td>\n",
              "      <td>3.800</td>\n",
              "      <td>6.900</td>\n",
              "      <td>2.500</td>\n",
              "    </tr>\n",
              "    <tr>\n",
              "      <th>mean</th>\n",
              "      <td>6.588</td>\n",
              "      <td>2.974</td>\n",
              "      <td>5.552</td>\n",
              "      <td>2.026</td>\n",
              "    </tr>\n",
              "  </tbody>\n",
              "</table>\n",
              "</div>"
            ],
            "text/plain": [
              "      sepal_length  sepal_width  petal_length  petal_width\n",
              "min          4.900        2.200         4.500        1.400\n",
              "max          7.900        3.800         6.900        2.500\n",
              "mean         6.588        2.974         5.552        2.026"
            ]
          },
          "metadata": {
            "tags": []
          },
          "execution_count": 64
        }
      ]
    },
    {
      "cell_type": "code",
      "metadata": {
        "id": "OxUxQYtGEIMN",
        "colab_type": "code",
        "outputId": "3632f445-6bdd-40cb-d04a-c65e2688f602",
        "colab": {
          "base_uri": "https://localhost:8080/",
          "height": 404
        }
      },
      "source": [
        "import numpy as np\n",
        "import seaborn as sns\n",
        "import matplotlib.pyplot as plt\n",
        "\n",
        "hww1 = hww.toPandas()\n",
        "fig = hww1[hww1.variety=='Setosa'].plot.scatter(x='petal_length',y='petal_width',color='blue', label='Setosa')\n",
        "hww1[hww1.variety=='Versicolor'].plot.scatter(x='petal_length',y='petal_width',color='orange', label='Versicolor',ax=fig)\n",
        "hww1[hww1.variety=='Virginica'].plot.scatter(x='petal_length',y='petal_width',color='green', label='Virginica', ax=fig)\n",
        "fig.set_xlabel(\"Petal Length\")\n",
        "fig.set_ylabel(\"Petal Width\")\n",
        "fig.set_title(\" Petal Length VS Width\")\n",
        "fig=plt.gcf()\n",
        "fig.set_size_inches(10,6)\n",
        "plt.show()\n"
      ],
      "execution_count": 65,
      "outputs": [
        {
          "output_type": "display_data",
          "data": {
            "image/png": "[encoded data removed]",
            "text/plain": [
              "<Figure size 720x432 with 1 Axes>"
            ]
          },
          "metadata": {
            "tags": []
          }
        }
      ]
    },
    {
      "cell_type": "code",
      "metadata": {
        "id": "Ur508VdYEHxa",
        "colab_type": "code",
        "outputId": "00c78847-a8bf-4e45-8ece-afb2a3d956af",
        "colab": {
          "base_uri": "https://localhost:8080/",
          "height": 404
        }
      },
      "source": [
        "fig = hww1[hww1.variety=='Setosa'].plot.scatter(x='sepal_length',y='sepal_width',color='blue', label='Setosa')\n",
        "hww1[hww1.variety=='Versicolor'].plot.scatter(x='sepal_length',y='sepal_width',color='orange', label='Versicolor',ax=fig)\n",
        "hww1[hww1.variety=='Virginica'].plot.scatter(x='sepal_length',y='sepal_width',color='green', label='Virginica', ax=fig)\n",
        "fig.set_xlabel(\"Sepal Length\")\n",
        "fig.set_ylabel(\"Sepal Width\")\n",
        "fig.set_title(\" Sepal Length VS Width\")\n",
        "fig=plt.gcf()\n",
        "fig.set_size_inches(10,6)\n",
        "plt.show()"
      ],
      "execution_count": 66,
      "outputs": [
        {
          "output_type": "display_data",
          "data": {
            "image/png": "[encoded data removed]",
            "text/plain": [
              "<Figure size 720x432 with 1 Axes>"
            ]
          },
          "metadata": {
            "tags": []
          }
        }
      ]
    },
    {
      "cell_type": "code",
      "metadata": {
        "id": "PNsFCd6ElWiw",
        "colab_type": "code",
        "outputId": "bf4ba87c-7aa6-4bbe-e2ec-a19325933f5e",
        "colab": {
          "base_uri": "https://localhost:8080/",
          "height": 746
        }
      },
      "source": [
        "sns.pairplot(hww1[['sepal_length','sepal_width','petal_length','petal_width','variety']], hue = 'variety')"
      ],
      "execution_count": 67,
      "outputs": [
        {
          "output_type": "execute_result",
          "data": {
            "text/plain": [
              "<seaborn.axisgrid.PairGrid at 0x7f0ccc1f1630>"
            ]
          },
          "metadata": {
            "tags": []
          },
          "execution_count": 67
        },
        {
          "output_type": "display_data",
          "data": {
            "image/png": "[encoded data removed]",
            "text/plain": [
              "<Figure size 805.75x720 with 20 Axes>"
            ]
          },
          "metadata": {
            "tags": []
          }
        }
      ]
    },
    {
      "cell_type": "markdown",
      "metadata": {
        "id": "hNrfGVJjK3Kp",
        "colab_type": "text"
      },
      "source": [
        "Судя по графикам Setosa сильно выделяется от двух других видов цветков"
      ]
    },
    {
      "cell_type": "code",
      "metadata": {
        "id": "o8v8lnuZaVg1",
        "colab_type": "code",
        "outputId": "0cf2b681-45d0-4420-ad66-655f785201af",
        "colab": {
          "base_uri": "https://localhost:8080/",
          "height": 173
        }
      },
      "source": [
        "corr = hww1[['sepal_length','sepal_width','petal_length','petal_width']].corr()\n",
        "corr"
      ],
      "execution_count": 68,
      "outputs": [
        {
          "output_type": "execute_result",
          "data": {
            "text/html": [
              "<div>\n",
              "<style scoped>\n",
              "    .dataframe tbody tr th:only-of-type {\n",
              "        vertical-align: middle;\n",
              "    }\n",
              "\n",
              "    .dataframe tbody tr th {\n",
              "        vertical-align: top;\n",
              "    }\n",
              "\n",
              "    .dataframe thead th {\n",
              "        text-align: right;\n",
              "    }\n",
              "</style>\n",
              "<table border=\"1\" class=\"dataframe\">\n",
              "  <thead>\n",
              "    <tr style=\"text-align: right;\">\n",
              "      <th></th>\n",
              "      <th>sepal_length</th>\n",
              "      <th>sepal_width</th>\n",
              "      <th>petal_length</th>\n",
              "      <th>petal_width</th>\n",
              "    </tr>\n",
              "  </thead>\n",
              "  <tbody>\n",
              "    <tr>\n",
              "      <th>sepal_length</th>\n",
              "      <td>1.000000</td>\n",
              "      <td>-0.117570</td>\n",
              "      <td>0.871754</td>\n",
              "      <td>0.817941</td>\n",
              "    </tr>\n",
              "    <tr>\n",
              "      <th>sepal_width</th>\n",
              "      <td>-0.117570</td>\n",
              "      <td>1.000000</td>\n",
              "      <td>-0.428440</td>\n",
              "      <td>-0.366126</td>\n",
              "    </tr>\n",
              "    <tr>\n",
              "      <th>petal_length</th>\n",
              "      <td>0.871754</td>\n",
              "      <td>-0.428440</td>\n",
              "      <td>1.000000</td>\n",
              "      <td>0.962865</td>\n",
              "    </tr>\n",
              "    <tr>\n",
              "      <th>petal_width</th>\n",
              "      <td>0.817941</td>\n",
              "      <td>-0.366126</td>\n",
              "      <td>0.962865</td>\n",
              "      <td>1.000000</td>\n",
              "    </tr>\n",
              "  </tbody>\n",
              "</table>\n",
              "</div>"
            ],
            "text/plain": [
              "              sepal_length  sepal_width  petal_length  petal_width\n",
              "sepal_length      1.000000    -0.117570      0.871754     0.817941\n",
              "sepal_width      -0.117570     1.000000     -0.428440    -0.366126\n",
              "petal_length      0.871754    -0.428440      1.000000     0.962865\n",
              "petal_width       0.817941    -0.366126      0.962865     1.000000"
            ]
          },
          "metadata": {
            "tags": []
          },
          "execution_count": 68
        }
      ]
    },
    {
      "cell_type": "markdown",
      "metadata": {
        "id": "uo_pXK9ZO8H8",
        "colab_type": "text"
      },
      "source": [
        "Sepal Width и Sepal Length не коррелируются\n",
        "\n",
        "\n",
        "---\n",
        "\n",
        "\n",
        "Petal Width и Petal Length коррелируются достаточно высоко"
      ]
    },
    {
      "cell_type": "code",
      "metadata": {
        "id": "YN2I65eUa2c9",
        "colab_type": "code",
        "outputId": "29a90b48-7508-4d70-b0e2-deb5ed231693",
        "colab": {
          "base_uri": "https://localhost:8080/",
          "height": 270
        }
      },
      "source": [
        "plt.figure(figsize=(7,4)) \n",
        "sns.heatmap(corr,annot=True,cmap='cubehelix_r')\n",
        "plt.show()"
      ],
      "execution_count": 69,
      "outputs": [
        {
          "output_type": "display_data",
          "data": {
            "image/png": "[encoded data removed]",
            "text/plain": [
              "<Figure size 504x288 with 2 Axes>"
            ]
          },
          "metadata": {
            "tags": []
          }
        }
      ]
    },
    {
      "cell_type": "markdown",
      "metadata": {
        "id": "MLTGaebte-uG",
        "colab_type": "text"
      },
      "source": [
        "\n",
        "Для определения вида цветков берем 2 параметра Petal Width и Petal Length. \n",
        "Проверяем: верно ли, что у ирисов не с типом Setosa - Petal Width >=1, а Length >=3"
      ]
    },
    {
      "cell_type": "code",
      "metadata": {
        "id": "fNW9SyiJRjF-",
        "colab_type": "code",
        "colab": {
          "base_uri": "https://localhost:8080/",
          "height": 459
        },
        "outputId": "d00a8bfc-1f0c-41d3-f35d-d16966ceec43"
      },
      "source": [
        "from pyspark.sql.functions import *\n",
        "hww.withColumn('bool 1', hww['petal_width'] >= 1).withColumn('bool 2', hww['petal_length'] >= 3).withColumn('bool res', (hww['petal_width'] >= 1) & (hww['petal_length'] >= 3)).sort(desc('bool res')).show()\n"
      ],
      "execution_count": 88,
      "outputs": [
        {
          "output_type": "stream",
          "text": [
            "+------------+-----------+------------+-----------+----------+------+------+--------+\n",
            "|sepal_length|sepal_width|petal_length|petal_width|   variety|bool 1|bool 2|bool res|\n",
            "+------------+-----------+------------+-----------+----------+------+------+--------+\n",
            "|         7.0|        3.2|         4.7|        1.4|Versicolor|  true|  true|    true|\n",
            "|         5.9|        3.2|         4.8|        1.8|Versicolor|  true|  true|    true|\n",
            "|         6.4|        3.2|         4.5|        1.5|Versicolor|  true|  true|    true|\n",
            "|         6.9|        3.1|         4.9|        1.5|Versicolor|  true|  true|    true|\n",
            "|         5.5|        2.3|         4.0|        1.3|Versicolor|  true|  true|    true|\n",
            "|         6.5|        2.8|         4.6|        1.5|Versicolor|  true|  true|    true|\n",
            "|         5.7|        2.8|         4.5|        1.3|Versicolor|  true|  true|    true|\n",
            "|         6.3|        3.3|         4.7|        1.6|Versicolor|  true|  true|    true|\n",
            "|         4.9|        2.4|         3.3|        1.0|Versicolor|  true|  true|    true|\n",
            "|         6.6|        2.9|         4.6|        1.3|Versicolor|  true|  true|    true|\n",
            "|         5.2|        2.7|         3.9|        1.4|Versicolor|  true|  true|    true|\n",
            "|         5.0|        2.0|         3.5|        1.0|Versicolor|  true|  true|    true|\n",
            "|         5.9|        3.0|         4.2|        1.5|Versicolor|  true|  true|    true|\n",
            "|         6.0|        2.2|         4.0|        1.0|Versicolor|  true|  true|    true|\n",
            "|         6.1|        2.9|         4.7|        1.4|Versicolor|  true|  true|    true|\n",
            "|         5.6|        2.9|         3.6|        1.3|Versicolor|  true|  true|    true|\n",
            "|         6.7|        3.1|         4.4|        1.4|Versicolor|  true|  true|    true|\n",
            "|         5.6|        3.0|         4.5|        1.5|Versicolor|  true|  true|    true|\n",
            "|         5.8|        2.7|         4.1|        1.0|Versicolor|  true|  true|    true|\n",
            "|         6.2|        2.2|         4.5|        1.5|Versicolor|  true|  true|    true|\n",
            "+------------+-----------+------------+-----------+----------+------+------+--------+\n",
            "only showing top 20 rows\n",
            "\n"
          ],
          "name": "stdout"
        }
      ]
    },
    {
      "cell_type": "markdown",
      "metadata": {
        "id": "ohVMkGbCQGfg",
        "colab_type": "text"
      },
      "source": [
        "Подсчитываем результаты сформированного правила"
      ]
    },
    {
      "cell_type": "code",
      "metadata": {
        "id": "c2tQCRpeRjLi",
        "colab_type": "code",
        "colab": {}
      },
      "source": [
        "res = hww.withColumn('bool 1', hww['petal_width'] >= 1).withColumn('bool 2', hww['petal_length'] >= 3).withColumn('bool_res', (hww['petal_width'] >= 1) & (hww['petal_length'] >= 3))"
      ],
      "execution_count": 0,
      "outputs": []
    },
    {
      "cell_type": "code",
      "metadata": {
        "id": "Dxt0PbWIRi80",
        "colab_type": "code",
        "colab": {
          "base_uri": "https://localhost:8080/",
          "height": 136
        },
        "outputId": "d913fabb-25fc-4880-8229-29dcc8a89030"
      },
      "source": [
        "res.filter(res.bool_res == True).groupby(res.variety).count().show()"
      ],
      "execution_count": 93,
      "outputs": [
        {
          "output_type": "stream",
          "text": [
            "+----------+-----+\n",
            "|   variety|count|\n",
            "+----------+-----+\n",
            "| Virginica|   50|\n",
            "|Versicolor|   50|\n",
            "+----------+-----+\n",
            "\n"
          ],
          "name": "stdout"
        }
      ]
    },
    {
      "cell_type": "markdown",
      "metadata": {
        "id": "cof0El_BW6tU",
        "colab_type": "text"
      },
      "source": [
        "Правило оказалось верным в 100% случаев с цветками типа Virginica и Versicolor. Тип Setosa отделяется от двух других."
      ]
    }
  ]
}