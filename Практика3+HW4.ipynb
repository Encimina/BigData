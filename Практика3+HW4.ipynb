{
  "nbformat": 4,
  "nbformat_minor": 0,
  "metadata": {
    "colab": {
      "name": "Практика3+HW4.ipynb",
      "version": "0.3.2",
      "provenance": [],
      "collapsed_sections": [
        "AzxmwEfgIwmQ"
      ],
      "toc_visible": true
    },
    "language_info": {
      "codemirror_mode": {
        "name": "ipython",
        "version": 3
      },
      "file_extension": ".py",
      "mimetype": "text/x-python",
      "name": "python",
      "nbconvert_exporter": "python",
      "pygments_lexer": "ipython3",
      "version": "3.7.1"
    },
    "kernelspec": {
      "display_name": "Python 3",
      "language": "python",
      "name": "python3"
    }
  },
  "cells": [
    {
      "cell_type": "markdown",
      "metadata": {
        "ExecuteTime": {
          "end_time": "2019-06-07T20:38:54.004247Z",
          "start_time": "2019-06-07T20:38:54.001272Z"
        },
        "id": "q_ue7UlaIwjW",
        "colab_type": "text"
      },
      "source": [
        "# Основы Pandas"
      ]
    },
    {
      "cell_type": "markdown",
      "metadata": {
        "id": "pC05_RzPIwjY",
        "colab_type": "text"
      },
      "source": [
        "### Загрузка данных в датафрейм"
      ]
    },
    {
      "cell_type": "code",
      "metadata": {
        "ExecuteTime": {
          "end_time": "2019-06-07T20:39:10.046850Z",
          "start_time": "2019-06-07T20:39:09.081542Z"
        },
        "id": "JkcDI2zeIwjZ",
        "colab_type": "code",
        "colab": {}
      },
      "source": [
        "import pandas as pd"
      ],
      "execution_count": 0,
      "outputs": []
    },
    {
      "cell_type": "code",
      "metadata": {
        "ExecuteTime": {
          "end_time": "2019-06-07T20:39:34.484609Z",
          "start_time": "2019-06-07T20:39:34.057404Z"
        },
        "id": "74pzvIcFIwjd",
        "colab_type": "code",
        "colab": {}
      },
      "source": [
        "data = pd.read_csv('power.csv')"
      ],
      "execution_count": 0,
      "outputs": []
    },
    {
      "cell_type": "code",
      "metadata": {
        "ExecuteTime": {
          "end_time": "2019-06-07T20:39:41.693331Z",
          "start_time": "2019-06-07T20:39:41.670199Z"
        },
        "id": "ac21rP8xIwjg",
        "colab_type": "code",
        "outputId": "712dc26e-ef3f-4adf-e69a-eb7dc46d2508",
        "colab": {
          "base_uri": "https://localhost:8080/",
          "height": 347
        }
      },
      "source": [
        "data.head(n=10)"
      ],
      "execution_count": 4,
      "outputs": [
        {
          "output_type": "execute_result",
          "data": {
            "text/html": [
              "<div>\n",
              "<style scoped>\n",
              "    .dataframe tbody tr th:only-of-type {\n",
              "        vertical-align: middle;\n",
              "    }\n",
              "\n",
              "    .dataframe tbody tr th {\n",
              "        vertical-align: top;\n",
              "    }\n",
              "\n",
              "    .dataframe thead th {\n",
              "        text-align: right;\n",
              "    }\n",
              "</style>\n",
              "<table border=\"1\" class=\"dataframe\">\n",
              "  <thead>\n",
              "    <tr style=\"text-align: right;\">\n",
              "      <th></th>\n",
              "      <th>country</th>\n",
              "      <th>year</th>\n",
              "      <th>quantity</th>\n",
              "      <th>category</th>\n",
              "    </tr>\n",
              "  </thead>\n",
              "  <tbody>\n",
              "    <tr>\n",
              "      <th>0</th>\n",
              "      <td>Austria</td>\n",
              "      <td>1996</td>\n",
              "      <td>5.0</td>\n",
              "      <td>1</td>\n",
              "    </tr>\n",
              "    <tr>\n",
              "      <th>1</th>\n",
              "      <td>Austria</td>\n",
              "      <td>1995</td>\n",
              "      <td>17.0</td>\n",
              "      <td>1</td>\n",
              "    </tr>\n",
              "    <tr>\n",
              "      <th>2</th>\n",
              "      <td>Belgium</td>\n",
              "      <td>2014</td>\n",
              "      <td>0.0</td>\n",
              "      <td>1</td>\n",
              "    </tr>\n",
              "    <tr>\n",
              "      <th>3</th>\n",
              "      <td>Belgium</td>\n",
              "      <td>2013</td>\n",
              "      <td>0.0</td>\n",
              "      <td>1</td>\n",
              "    </tr>\n",
              "    <tr>\n",
              "      <th>4</th>\n",
              "      <td>Belgium</td>\n",
              "      <td>2012</td>\n",
              "      <td>35.0</td>\n",
              "      <td>1</td>\n",
              "    </tr>\n",
              "    <tr>\n",
              "      <th>5</th>\n",
              "      <td>Belgium</td>\n",
              "      <td>2011</td>\n",
              "      <td>25.0</td>\n",
              "      <td>1</td>\n",
              "    </tr>\n",
              "    <tr>\n",
              "      <th>6</th>\n",
              "      <td>Belgium</td>\n",
              "      <td>2010</td>\n",
              "      <td>22.0</td>\n",
              "      <td>1</td>\n",
              "    </tr>\n",
              "    <tr>\n",
              "      <th>7</th>\n",
              "      <td>Belgium</td>\n",
              "      <td>2009</td>\n",
              "      <td>45.0</td>\n",
              "      <td>1</td>\n",
              "    </tr>\n",
              "    <tr>\n",
              "      <th>8</th>\n",
              "      <td>Czechia</td>\n",
              "      <td>1998</td>\n",
              "      <td>1.0</td>\n",
              "      <td>1</td>\n",
              "    </tr>\n",
              "    <tr>\n",
              "      <th>9</th>\n",
              "      <td>Czechia</td>\n",
              "      <td>1995</td>\n",
              "      <td>7.0</td>\n",
              "      <td>1</td>\n",
              "    </tr>\n",
              "  </tbody>\n",
              "</table>\n",
              "</div>"
            ],
            "text/plain": [
              "   country  year  quantity  category\n",
              "0  Austria  1996       5.0         1\n",
              "1  Austria  1995      17.0         1\n",
              "2  Belgium  2014       0.0         1\n",
              "3  Belgium  2013       0.0         1\n",
              "4  Belgium  2012      35.0         1\n",
              "5  Belgium  2011      25.0         1\n",
              "6  Belgium  2010      22.0         1\n",
              "7  Belgium  2009      45.0         1\n",
              "8  Czechia  1998       1.0         1\n",
              "9  Czechia  1995       7.0         1"
            ]
          },
          "metadata": {
            "tags": []
          },
          "execution_count": 4
        }
      ]
    },
    {
      "cell_type": "code",
      "metadata": {
        "ExecuteTime": {
          "end_time": "2019-06-07T20:39:49.056117Z",
          "start_time": "2019-06-07T20:39:49.053564Z"
        },
        "id": "hctSF0uUIwjl",
        "colab_type": "code",
        "colab": {}
      },
      "source": [
        "# если надо указать свои заголовки и разделитель\n",
        "# data = pd.read_csv('power.csv', names = ['страна', 'год', 'количество', 'категория'], sep = '\\t', header=0)\n",
        "# data.head()"
      ],
      "execution_count": 0,
      "outputs": []
    },
    {
      "cell_type": "code",
      "metadata": {
        "ExecuteTime": {
          "end_time": "2019-06-07T20:40:06.622603Z",
          "start_time": "2019-06-07T20:40:06.618575Z"
        },
        "id": "D6PEYd8MIwjn",
        "colab_type": "code",
        "outputId": "8fb49201-a6e7-493d-9362-bd9ad82f3136",
        "colab": {
          "base_uri": "https://localhost:8080/",
          "height": 34
        }
      },
      "source": [
        "# количество строк в датафрейме\n",
        "\n",
        "len(data)"
      ],
      "execution_count": 5,
      "outputs": [
        {
          "output_type": "execute_result",
          "data": {
            "text/plain": [
              "1189482"
            ]
          },
          "metadata": {
            "tags": []
          },
          "execution_count": 5
        }
      ]
    },
    {
      "cell_type": "code",
      "metadata": {
        "ExecuteTime": {
          "end_time": "2019-06-07T20:40:12.675664Z",
          "start_time": "2019-06-07T20:40:12.671751Z"
        },
        "id": "XrdKs5dDIwjr",
        "colab_type": "code",
        "outputId": "3e96ef97-8f53-4e0d-ab6c-1d0c2e71f74b",
        "colab": {
          "base_uri": "https://localhost:8080/",
          "height": 34
        }
      },
      "source": [
        "# или так\n",
        "\n",
        "data.shape"
      ],
      "execution_count": 6,
      "outputs": [
        {
          "output_type": "execute_result",
          "data": {
            "text/plain": [
              "(1189482, 4)"
            ]
          },
          "metadata": {
            "tags": []
          },
          "execution_count": 6
        }
      ]
    },
    {
      "cell_type": "markdown",
      "metadata": {
        "id": "YmaXP6VwIwju",
        "colab_type": "text"
      },
      "source": [
        "### Упражнение\n",
        "Вам дана статистика продаж в файле transactions.csv. Вам необходимо загрузить этот файл в датафрейм и посчитать его размеры."
      ]
    },
    {
      "cell_type": "code",
      "metadata": {
        "id": "Y_3VNv19Iwjv",
        "colab_type": "code",
        "colab": {}
      },
      "source": [
        "df = pd.read_csv('transactions.csv')"
      ],
      "execution_count": 0,
      "outputs": []
    },
    {
      "cell_type": "code",
      "metadata": {
        "id": "lo7KTWRaIwjx",
        "colab_type": "code",
        "outputId": "1ad58203-c371-479e-9b7c-ea322f22ab65",
        "colab": {
          "base_uri": "https://localhost:8080/",
          "height": 197
        }
      },
      "source": [
        "df.head()"
      ],
      "execution_count": 8,
      "outputs": [
        {
          "output_type": "execute_result",
          "data": {
            "text/html": [
              "<div>\n",
              "<style scoped>\n",
              "    .dataframe tbody tr th:only-of-type {\n",
              "        vertical-align: middle;\n",
              "    }\n",
              "\n",
              "    .dataframe tbody tr th {\n",
              "        vertical-align: top;\n",
              "    }\n",
              "\n",
              "    .dataframe thead th {\n",
              "        text-align: right;\n",
              "    }\n",
              "</style>\n",
              "<table border=\"1\" class=\"dataframe\">\n",
              "  <thead>\n",
              "    <tr style=\"text-align: right;\">\n",
              "      <th></th>\n",
              "      <th>Year</th>\n",
              "      <th>Month</th>\n",
              "      <th>ID</th>\n",
              "      <th>Product</th>\n",
              "      <th>Amount</th>\n",
              "      <th>Price</th>\n",
              "      <th>Total</th>\n",
              "      <th>Cost</th>\n",
              "    </tr>\n",
              "  </thead>\n",
              "  <tbody>\n",
              "    <tr>\n",
              "      <th>0</th>\n",
              "      <td>2017</td>\n",
              "      <td>1</td>\n",
              "      <td>t001</td>\n",
              "      <td>A1</td>\n",
              "      <td>7</td>\n",
              "      <td>2904</td>\n",
              "      <td>20328</td>\n",
              "      <td>1200</td>\n",
              "    </tr>\n",
              "    <tr>\n",
              "      <th>1</th>\n",
              "      <td>2017</td>\n",
              "      <td>1</td>\n",
              "      <td>t002</td>\n",
              "      <td>A2</td>\n",
              "      <td>2</td>\n",
              "      <td>1896</td>\n",
              "      <td>3792</td>\n",
              "      <td>1100</td>\n",
              "    </tr>\n",
              "    <tr>\n",
              "      <th>2</th>\n",
              "      <td>2017</td>\n",
              "      <td>2</td>\n",
              "      <td>t003</td>\n",
              "      <td>A1</td>\n",
              "      <td>5</td>\n",
              "      <td>2904</td>\n",
              "      <td>14520</td>\n",
              "      <td>1200</td>\n",
              "    </tr>\n",
              "    <tr>\n",
              "      <th>3</th>\n",
              "      <td>2017</td>\n",
              "      <td>2</td>\n",
              "      <td>t004</td>\n",
              "      <td>A4</td>\n",
              "      <td>1</td>\n",
              "      <td>8618</td>\n",
              "      <td>8618</td>\n",
              "      <td>4200</td>\n",
              "    </tr>\n",
              "    <tr>\n",
              "      <th>4</th>\n",
              "      <td>2017</td>\n",
              "      <td>2</td>\n",
              "      <td>t005</td>\n",
              "      <td>A5</td>\n",
              "      <td>3</td>\n",
              "      <td>5175</td>\n",
              "      <td>15525</td>\n",
              "      <td>500</td>\n",
              "    </tr>\n",
              "  </tbody>\n",
              "</table>\n",
              "</div>"
            ],
            "text/plain": [
              "   Year  Month    ID Product  Amount  Price  Total  Cost\n",
              "0  2017      1  t001      A1       7   2904  20328  1200\n",
              "1  2017      1  t002      A2       2   1896   3792  1100\n",
              "2  2017      2  t003      A1       5   2904  14520  1200\n",
              "3  2017      2  t004      A4       1   8618   8618  4200\n",
              "4  2017      2  t005      A5       3   5175  15525   500"
            ]
          },
          "metadata": {
            "tags": []
          },
          "execution_count": 8
        }
      ]
    },
    {
      "cell_type": "code",
      "metadata": {
        "id": "pKrKKk7mIwjz",
        "colab_type": "code",
        "outputId": "d17ff8a6-ae4e-49f9-c8fb-a7e1c0abf027",
        "colab": {
          "base_uri": "https://localhost:8080/",
          "height": 34
        }
      },
      "source": [
        "len(df)"
      ],
      "execution_count": 9,
      "outputs": [
        {
          "output_type": "execute_result",
          "data": {
            "text/plain": [
              "60"
            ]
          },
          "metadata": {
            "tags": []
          },
          "execution_count": 9
        }
      ]
    },
    {
      "cell_type": "markdown",
      "metadata": {
        "id": "5gXzrdZ1Iwj2",
        "colab_type": "text"
      },
      "source": [
        "### Основные сведения о датафрейме"
      ]
    },
    {
      "cell_type": "code",
      "metadata": {
        "ExecuteTime": {
          "end_time": "2019-06-07T20:40:53.136240Z",
          "start_time": "2019-06-07T20:40:52.981456Z"
        },
        "id": "7rlWg0RAIwj2",
        "colab_type": "code",
        "outputId": "8b735540-1827-494a-9355-c654644c14ba",
        "colab": {
          "base_uri": "https://localhost:8080/",
          "height": 176
        }
      },
      "source": [
        "data.info()"
      ],
      "execution_count": 10,
      "outputs": [
        {
          "output_type": "stream",
          "text": [
            "<class 'pandas.core.frame.DataFrame'>\n",
            "RangeIndex: 1189482 entries, 0 to 1189481\n",
            "Data columns (total 4 columns):\n",
            "country     1189482 non-null object\n",
            "year        1189482 non-null int64\n",
            "quantity    1189482 non-null float64\n",
            "category    1189482 non-null int64\n",
            "dtypes: float64(1), int64(2), object(1)\n",
            "memory usage: 36.3+ MB\n"
          ],
          "name": "stdout"
        }
      ]
    },
    {
      "cell_type": "code",
      "metadata": {
        "ExecuteTime": {
          "end_time": "2019-06-07T20:41:00.960157Z",
          "start_time": "2019-06-07T20:41:00.777962Z"
        },
        "id": "lMRkEX9-Iwj6",
        "colab_type": "code",
        "outputId": "5f1b66ae-f41f-496f-b100-ff86d130d889",
        "colab": {
          "base_uri": "https://localhost:8080/",
          "height": 287
        }
      },
      "source": [
        "# немного статистики\n",
        "\n",
        "data.describe()"
      ],
      "execution_count": 11,
      "outputs": [
        {
          "output_type": "execute_result",
          "data": {
            "text/html": [
              "<div>\n",
              "<style scoped>\n",
              "    .dataframe tbody tr th:only-of-type {\n",
              "        vertical-align: middle;\n",
              "    }\n",
              "\n",
              "    .dataframe tbody tr th {\n",
              "        vertical-align: top;\n",
              "    }\n",
              "\n",
              "    .dataframe thead th {\n",
              "        text-align: right;\n",
              "    }\n",
              "</style>\n",
              "<table border=\"1\" class=\"dataframe\">\n",
              "  <thead>\n",
              "    <tr style=\"text-align: right;\">\n",
              "      <th></th>\n",
              "      <th>year</th>\n",
              "      <th>quantity</th>\n",
              "      <th>category</th>\n",
              "    </tr>\n",
              "  </thead>\n",
              "  <tbody>\n",
              "    <tr>\n",
              "      <th>count</th>\n",
              "      <td>1.189482e+06</td>\n",
              "      <td>1.189482e+06</td>\n",
              "      <td>1.189482e+06</td>\n",
              "    </tr>\n",
              "    <tr>\n",
              "      <th>mean</th>\n",
              "      <td>2.002852e+03</td>\n",
              "      <td>1.842648e+05</td>\n",
              "      <td>3.624763e+01</td>\n",
              "    </tr>\n",
              "    <tr>\n",
              "      <th>std</th>\n",
              "      <td>7.167345e+00</td>\n",
              "      <td>1.585663e+07</td>\n",
              "      <td>1.809968e+01</td>\n",
              "    </tr>\n",
              "    <tr>\n",
              "      <th>min</th>\n",
              "      <td>1.990000e+03</td>\n",
              "      <td>-8.643480e+05</td>\n",
              "      <td>1.000000e+00</td>\n",
              "    </tr>\n",
              "    <tr>\n",
              "      <th>25%</th>\n",
              "      <td>1.997000e+03</td>\n",
              "      <td>1.400000e+01</td>\n",
              "      <td>2.400000e+01</td>\n",
              "    </tr>\n",
              "    <tr>\n",
              "      <th>50%</th>\n",
              "      <td>2.003000e+03</td>\n",
              "      <td>1.890000e+02</td>\n",
              "      <td>3.500000e+01</td>\n",
              "    </tr>\n",
              "    <tr>\n",
              "      <th>75%</th>\n",
              "      <td>2.009000e+03</td>\n",
              "      <td>2.265000e+03</td>\n",
              "      <td>5.100000e+01</td>\n",
              "    </tr>\n",
              "    <tr>\n",
              "      <th>max</th>\n",
              "      <td>2.014000e+03</td>\n",
              "      <td>6.680329e+09</td>\n",
              "      <td>7.100000e+01</td>\n",
              "    </tr>\n",
              "  </tbody>\n",
              "</table>\n",
              "</div>"
            ],
            "text/plain": [
              "               year      quantity      category\n",
              "count  1.189482e+06  1.189482e+06  1.189482e+06\n",
              "mean   2.002852e+03  1.842648e+05  3.624763e+01\n",
              "std    7.167345e+00  1.585663e+07  1.809968e+01\n",
              "min    1.990000e+03 -8.643480e+05  1.000000e+00\n",
              "25%    1.997000e+03  1.400000e+01  2.400000e+01\n",
              "50%    2.003000e+03  1.890000e+02  3.500000e+01\n",
              "75%    2.009000e+03  2.265000e+03  5.100000e+01\n",
              "max    2.014000e+03  6.680329e+09  7.100000e+01"
            ]
          },
          "metadata": {
            "tags": []
          },
          "execution_count": 11
        }
      ]
    },
    {
      "cell_type": "code",
      "metadata": {
        "id": "8NDH1XAnO37S",
        "colab_type": "code",
        "outputId": "54e14363-e6d6-43bb-90ea-4c59112743fc",
        "colab": {
          "base_uri": "https://localhost:8080/",
          "height": 1906
        }
      },
      "source": [
        "data[['year','quantity']]"
      ],
      "execution_count": 12,
      "outputs": [
        {
          "output_type": "execute_result",
          "data": {
            "text/html": [
              "<div>\n",
              "<style scoped>\n",
              "    .dataframe tbody tr th:only-of-type {\n",
              "        vertical-align: middle;\n",
              "    }\n",
              "\n",
              "    .dataframe tbody tr th {\n",
              "        vertical-align: top;\n",
              "    }\n",
              "\n",
              "    .dataframe thead th {\n",
              "        text-align: right;\n",
              "    }\n",
              "</style>\n",
              "<table border=\"1\" class=\"dataframe\">\n",
              "  <thead>\n",
              "    <tr style=\"text-align: right;\">\n",
              "      <th></th>\n",
              "      <th>year</th>\n",
              "      <th>quantity</th>\n",
              "    </tr>\n",
              "  </thead>\n",
              "  <tbody>\n",
              "    <tr>\n",
              "      <th>0</th>\n",
              "      <td>1996</td>\n",
              "      <td>5.00</td>\n",
              "    </tr>\n",
              "    <tr>\n",
              "      <th>1</th>\n",
              "      <td>1995</td>\n",
              "      <td>17.00</td>\n",
              "    </tr>\n",
              "    <tr>\n",
              "      <th>2</th>\n",
              "      <td>2014</td>\n",
              "      <td>0.00</td>\n",
              "    </tr>\n",
              "    <tr>\n",
              "      <th>3</th>\n",
              "      <td>2013</td>\n",
              "      <td>0.00</td>\n",
              "    </tr>\n",
              "    <tr>\n",
              "      <th>4</th>\n",
              "      <td>2012</td>\n",
              "      <td>35.00</td>\n",
              "    </tr>\n",
              "    <tr>\n",
              "      <th>5</th>\n",
              "      <td>2011</td>\n",
              "      <td>25.00</td>\n",
              "    </tr>\n",
              "    <tr>\n",
              "      <th>6</th>\n",
              "      <td>2010</td>\n",
              "      <td>22.00</td>\n",
              "    </tr>\n",
              "    <tr>\n",
              "      <th>7</th>\n",
              "      <td>2009</td>\n",
              "      <td>45.00</td>\n",
              "    </tr>\n",
              "    <tr>\n",
              "      <th>8</th>\n",
              "      <td>1998</td>\n",
              "      <td>1.00</td>\n",
              "    </tr>\n",
              "    <tr>\n",
              "      <th>9</th>\n",
              "      <td>1995</td>\n",
              "      <td>7.00</td>\n",
              "    </tr>\n",
              "    <tr>\n",
              "      <th>10</th>\n",
              "      <td>2010</td>\n",
              "      <td>9.00</td>\n",
              "    </tr>\n",
              "    <tr>\n",
              "      <th>11</th>\n",
              "      <td>2009</td>\n",
              "      <td>13.00</td>\n",
              "    </tr>\n",
              "    <tr>\n",
              "      <th>12</th>\n",
              "      <td>2008</td>\n",
              "      <td>39.00</td>\n",
              "    </tr>\n",
              "    <tr>\n",
              "      <th>13</th>\n",
              "      <td>2007</td>\n",
              "      <td>21.00</td>\n",
              "    </tr>\n",
              "    <tr>\n",
              "      <th>14</th>\n",
              "      <td>2006</td>\n",
              "      <td>0.00</td>\n",
              "    </tr>\n",
              "    <tr>\n",
              "      <th>15</th>\n",
              "      <td>2005</td>\n",
              "      <td>0.00</td>\n",
              "    </tr>\n",
              "    <tr>\n",
              "      <th>16</th>\n",
              "      <td>2004</td>\n",
              "      <td>0.00</td>\n",
              "    </tr>\n",
              "    <tr>\n",
              "      <th>17</th>\n",
              "      <td>2003</td>\n",
              "      <td>0.00</td>\n",
              "    </tr>\n",
              "    <tr>\n",
              "      <th>18</th>\n",
              "      <td>2002</td>\n",
              "      <td>0.00</td>\n",
              "    </tr>\n",
              "    <tr>\n",
              "      <th>19</th>\n",
              "      <td>2001</td>\n",
              "      <td>0.00</td>\n",
              "    </tr>\n",
              "    <tr>\n",
              "      <th>20</th>\n",
              "      <td>2000</td>\n",
              "      <td>0.00</td>\n",
              "    </tr>\n",
              "    <tr>\n",
              "      <th>21</th>\n",
              "      <td>1999</td>\n",
              "      <td>0.00</td>\n",
              "    </tr>\n",
              "    <tr>\n",
              "      <th>22</th>\n",
              "      <td>1998</td>\n",
              "      <td>0.00</td>\n",
              "    </tr>\n",
              "    <tr>\n",
              "      <th>23</th>\n",
              "      <td>1997</td>\n",
              "      <td>0.00</td>\n",
              "    </tr>\n",
              "    <tr>\n",
              "      <th>24</th>\n",
              "      <td>1996</td>\n",
              "      <td>0.00</td>\n",
              "    </tr>\n",
              "    <tr>\n",
              "      <th>25</th>\n",
              "      <td>1995</td>\n",
              "      <td>3.00</td>\n",
              "    </tr>\n",
              "    <tr>\n",
              "      <th>26</th>\n",
              "      <td>2014</td>\n",
              "      <td>119.00</td>\n",
              "    </tr>\n",
              "    <tr>\n",
              "      <th>27</th>\n",
              "      <td>2013</td>\n",
              "      <td>102.00</td>\n",
              "    </tr>\n",
              "    <tr>\n",
              "      <th>28</th>\n",
              "      <td>2012</td>\n",
              "      <td>62.00</td>\n",
              "    </tr>\n",
              "    <tr>\n",
              "      <th>29</th>\n",
              "      <td>2011</td>\n",
              "      <td>55.00</td>\n",
              "    </tr>\n",
              "    <tr>\n",
              "      <th>...</th>\n",
              "      <td>...</td>\n",
              "      <td>...</td>\n",
              "    </tr>\n",
              "    <tr>\n",
              "      <th>1189452</th>\n",
              "      <td>1998</td>\n",
              "      <td>3018.00</td>\n",
              "    </tr>\n",
              "    <tr>\n",
              "      <th>1189453</th>\n",
              "      <td>1997</td>\n",
              "      <td>3254.00</td>\n",
              "    </tr>\n",
              "    <tr>\n",
              "      <th>1189454</th>\n",
              "      <td>1996</td>\n",
              "      <td>3410.00</td>\n",
              "    </tr>\n",
              "    <tr>\n",
              "      <th>1189455</th>\n",
              "      <td>1995</td>\n",
              "      <td>3196.00</td>\n",
              "    </tr>\n",
              "    <tr>\n",
              "      <th>1189456</th>\n",
              "      <td>1994</td>\n",
              "      <td>3483.00</td>\n",
              "    </tr>\n",
              "    <tr>\n",
              "      <th>1189457</th>\n",
              "      <td>1993</td>\n",
              "      <td>3053.00</td>\n",
              "    </tr>\n",
              "    <tr>\n",
              "      <th>1189458</th>\n",
              "      <td>1992</td>\n",
              "      <td>2917.00</td>\n",
              "    </tr>\n",
              "    <tr>\n",
              "      <th>1189459</th>\n",
              "      <td>1991</td>\n",
              "      <td>3051.00</td>\n",
              "    </tr>\n",
              "    <tr>\n",
              "      <th>1189460</th>\n",
              "      <td>1990</td>\n",
              "      <td>3066.00</td>\n",
              "    </tr>\n",
              "    <tr>\n",
              "      <th>1189461</th>\n",
              "      <td>2014</td>\n",
              "      <td>732.60</td>\n",
              "    </tr>\n",
              "    <tr>\n",
              "      <th>1189462</th>\n",
              "      <td>2013</td>\n",
              "      <td>142.90</td>\n",
              "    </tr>\n",
              "    <tr>\n",
              "      <th>1189463</th>\n",
              "      <td>2012</td>\n",
              "      <td>117.80</td>\n",
              "    </tr>\n",
              "    <tr>\n",
              "      <th>1189464</th>\n",
              "      <td>2011</td>\n",
              "      <td>111.30</td>\n",
              "    </tr>\n",
              "    <tr>\n",
              "      <th>1189465</th>\n",
              "      <td>2010</td>\n",
              "      <td>69.90</td>\n",
              "    </tr>\n",
              "    <tr>\n",
              "      <th>1189466</th>\n",
              "      <td>2009</td>\n",
              "      <td>42.10</td>\n",
              "    </tr>\n",
              "    <tr>\n",
              "      <th>1189467</th>\n",
              "      <td>2008</td>\n",
              "      <td>7.30</td>\n",
              "    </tr>\n",
              "    <tr>\n",
              "      <th>1189468</th>\n",
              "      <td>2014</td>\n",
              "      <td>3.00</td>\n",
              "    </tr>\n",
              "    <tr>\n",
              "      <th>1189469</th>\n",
              "      <td>2013</td>\n",
              "      <td>3.00</td>\n",
              "    </tr>\n",
              "    <tr>\n",
              "      <th>1189470</th>\n",
              "      <td>2012</td>\n",
              "      <td>2.90</td>\n",
              "    </tr>\n",
              "    <tr>\n",
              "      <th>1189471</th>\n",
              "      <td>2011</td>\n",
              "      <td>5.00</td>\n",
              "    </tr>\n",
              "    <tr>\n",
              "      <th>1189472</th>\n",
              "      <td>2010</td>\n",
              "      <td>5.17</td>\n",
              "    </tr>\n",
              "    <tr>\n",
              "      <th>1189473</th>\n",
              "      <td>2009</td>\n",
              "      <td>5.63</td>\n",
              "    </tr>\n",
              "    <tr>\n",
              "      <th>1189474</th>\n",
              "      <td>2008</td>\n",
              "      <td>5.63</td>\n",
              "    </tr>\n",
              "    <tr>\n",
              "      <th>1189475</th>\n",
              "      <td>2014</td>\n",
              "      <td>300.00</td>\n",
              "    </tr>\n",
              "    <tr>\n",
              "      <th>1189476</th>\n",
              "      <td>2013</td>\n",
              "      <td>92.00</td>\n",
              "    </tr>\n",
              "    <tr>\n",
              "      <th>1189477</th>\n",
              "      <td>2012</td>\n",
              "      <td>92.00</td>\n",
              "    </tr>\n",
              "    <tr>\n",
              "      <th>1189478</th>\n",
              "      <td>2011</td>\n",
              "      <td>87.00</td>\n",
              "    </tr>\n",
              "    <tr>\n",
              "      <th>1189479</th>\n",
              "      <td>2010</td>\n",
              "      <td>50.00</td>\n",
              "    </tr>\n",
              "    <tr>\n",
              "      <th>1189480</th>\n",
              "      <td>2009</td>\n",
              "      <td>10.00</td>\n",
              "    </tr>\n",
              "    <tr>\n",
              "      <th>1189481</th>\n",
              "      <td>2008</td>\n",
              "      <td>1.00</td>\n",
              "    </tr>\n",
              "  </tbody>\n",
              "</table>\n",
              "<p>1189482 rows × 2 columns</p>\n",
              "</div>"
            ],
            "text/plain": [
              "         year  quantity\n",
              "0        1996      5.00\n",
              "1        1995     17.00\n",
              "2        2014      0.00\n",
              "3        2013      0.00\n",
              "4        2012     35.00\n",
              "5        2011     25.00\n",
              "6        2010     22.00\n",
              "7        2009     45.00\n",
              "8        1998      1.00\n",
              "9        1995      7.00\n",
              "10       2010      9.00\n",
              "11       2009     13.00\n",
              "12       2008     39.00\n",
              "13       2007     21.00\n",
              "14       2006      0.00\n",
              "15       2005      0.00\n",
              "16       2004      0.00\n",
              "17       2003      0.00\n",
              "18       2002      0.00\n",
              "19       2001      0.00\n",
              "20       2000      0.00\n",
              "21       1999      0.00\n",
              "22       1998      0.00\n",
              "23       1997      0.00\n",
              "24       1996      0.00\n",
              "25       1995      3.00\n",
              "26       2014    119.00\n",
              "27       2013    102.00\n",
              "28       2012     62.00\n",
              "29       2011     55.00\n",
              "...       ...       ...\n",
              "1189452  1998   3018.00\n",
              "1189453  1997   3254.00\n",
              "1189454  1996   3410.00\n",
              "1189455  1995   3196.00\n",
              "1189456  1994   3483.00\n",
              "1189457  1993   3053.00\n",
              "1189458  1992   2917.00\n",
              "1189459  1991   3051.00\n",
              "1189460  1990   3066.00\n",
              "1189461  2014    732.60\n",
              "1189462  2013    142.90\n",
              "1189463  2012    117.80\n",
              "1189464  2011    111.30\n",
              "1189465  2010     69.90\n",
              "1189466  2009     42.10\n",
              "1189467  2008      7.30\n",
              "1189468  2014      3.00\n",
              "1189469  2013      3.00\n",
              "1189470  2012      2.90\n",
              "1189471  2011      5.00\n",
              "1189472  2010      5.17\n",
              "1189473  2009      5.63\n",
              "1189474  2008      5.63\n",
              "1189475  2014    300.00\n",
              "1189476  2013     92.00\n",
              "1189477  2012     92.00\n",
              "1189478  2011     87.00\n",
              "1189479  2010     50.00\n",
              "1189480  2009     10.00\n",
              "1189481  2008      1.00\n",
              "\n",
              "[1189482 rows x 2 columns]"
            ]
          },
          "metadata": {
            "tags": []
          },
          "execution_count": 12
        }
      ]
    },
    {
      "cell_type": "code",
      "metadata": {
        "ExecuteTime": {
          "end_time": "2019-06-07T20:41:07.858291Z",
          "start_time": "2019-06-07T20:41:07.853037Z"
        },
        "id": "l7w8ajlDIwj_",
        "colab_type": "code",
        "outputId": "352e97fc-7270-4f94-ff58-1015272b403e",
        "colab": {
          "base_uri": "https://localhost:8080/",
          "height": 123
        }
      },
      "source": [
        "data['year'].head()"
      ],
      "execution_count": 13,
      "outputs": [
        {
          "output_type": "execute_result",
          "data": {
            "text/plain": [
              "0    1996\n",
              "1    1995\n",
              "2    2014\n",
              "3    2013\n",
              "4    2012\n",
              "Name: year, dtype: int64"
            ]
          },
          "metadata": {
            "tags": []
          },
          "execution_count": 13
        }
      ]
    },
    {
      "cell_type": "code",
      "metadata": {
        "ExecuteTime": {
          "end_time": "2019-06-07T20:41:12.858445Z",
          "start_time": "2019-06-07T20:41:12.841580Z"
        },
        "id": "iLqnuJ_zIwkC",
        "colab_type": "code",
        "outputId": "794ca162-9e49-45d2-c36d-c5f472c83f05",
        "colab": {
          "base_uri": "https://localhost:8080/",
          "height": 105
        }
      },
      "source": [
        "# уникальные значения в столбце\n",
        "\n",
        "data['category'].unique()"
      ],
      "execution_count": 14,
      "outputs": [
        {
          "output_type": "execute_result",
          "data": {
            "text/plain": [
              "array([ 1,  2,  3,  4,  5,  6,  7,  8,  9, 10, 11, 13, 12, 14, 15, 16, 17,\n",
              "       18, 19, 20, 21, 22, 23, 24, 25, 26, 27, 28, 29, 30, 31, 32, 33, 34,\n",
              "       35, 36, 37, 38, 39, 40, 41, 42, 43, 44, 45, 46, 47, 48, 49, 50, 51,\n",
              "       52, 53, 54, 55, 56, 57, 58, 59, 60, 61, 62, 63, 64, 65, 66, 67, 68,\n",
              "       69, 70, 71])"
            ]
          },
          "metadata": {
            "tags": []
          },
          "execution_count": 14
        }
      ]
    },
    {
      "cell_type": "code",
      "metadata": {
        "ExecuteTime": {
          "end_time": "2019-06-07T20:41:16.774460Z",
          "start_time": "2019-06-07T20:41:16.762905Z"
        },
        "id": "6q63MMcZIwkG",
        "colab_type": "code",
        "outputId": "b9e0b465-9078-4f95-d2d2-8c3604d96301",
        "colab": {
          "base_uri": "https://localhost:8080/",
          "height": 34
        }
      },
      "source": [
        "# количество уникальных значений в столбце\n",
        "len(data['category'].unique())  #или так ->\n",
        "data['category'].unique().shape"
      ],
      "execution_count": 16,
      "outputs": [
        {
          "output_type": "execute_result",
          "data": {
            "text/plain": [
              "(71,)"
            ]
          },
          "metadata": {
            "tags": []
          },
          "execution_count": 16
        }
      ]
    },
    {
      "cell_type": "code",
      "metadata": {
        "ExecuteTime": {
          "end_time": "2019-06-07T20:41:21.238051Z",
          "start_time": "2019-06-07T20:41:21.218920Z"
        },
        "id": "-0_uqhPNIwkM",
        "colab_type": "code",
        "outputId": "df8e2e2b-f0f9-4be7-b31a-806c03f21587",
        "colab": {
          "base_uri": "https://localhost:8080/",
          "height": 1118
        }
      },
      "source": [
        "# распределение количества строк по значениям столбца\n",
        "\n",
        "data['category'].value_counts()"
      ],
      "execution_count": 17,
      "outputs": [
        {
          "output_type": "execute_result",
          "data": {
            "text/plain": [
              "67    133916\n",
              "27     97645\n",
              "24     75132\n",
              "42     64161\n",
              "37     62156\n",
              "39     53198\n",
              "25     52032\n",
              "21     50229\n",
              "51     43466\n",
              "31     42307\n",
              "35     34558\n",
              "32     29656\n",
              "14     28000\n",
              "18     27352\n",
              "48     23138\n",
              "53     22081\n",
              "38     21374\n",
              "9      20743\n",
              "12     19729\n",
              "4      18171\n",
              "60     16494\n",
              "41     15969\n",
              "62     15706\n",
              "55     13959\n",
              "5      12579\n",
              "36     12461\n",
              "11     11963\n",
              "16     11846\n",
              "7      10885\n",
              "70     10079\n",
              "       ...  \n",
              "58      5313\n",
              "3       4894\n",
              "6       4568\n",
              "10      4154\n",
              "8       3871\n",
              "33      3744\n",
              "20      3649\n",
              "57      3235\n",
              "1       3018\n",
              "45      2624\n",
              "19      2436\n",
              "15      2245\n",
              "46      2170\n",
              "54      2105\n",
              "22      2014\n",
              "50      1962\n",
              "2       1922\n",
              "59      1707\n",
              "52      1617\n",
              "71      1367\n",
              "28      1293\n",
              "23       962\n",
              "63       953\n",
              "44       756\n",
              "47       756\n",
              "69       684\n",
              "30       496\n",
              "26       365\n",
              "49       105\n",
              "66        58\n",
              "Name: category, Length: 71, dtype: int64"
            ]
          },
          "metadata": {
            "tags": []
          },
          "execution_count": 17
        }
      ]
    },
    {
      "cell_type": "code",
      "metadata": {
        "ExecuteTime": {
          "end_time": "2019-06-07T20:41:27.435312Z",
          "start_time": "2019-06-07T20:41:27.412886Z"
        },
        "id": "fNyJG-MRIwkP",
        "colab_type": "code",
        "outputId": "7cb17713-a4ab-40c9-8209-e98704d5d107",
        "colab": {
          "base_uri": "https://localhost:8080/",
          "height": 1118
        }
      },
      "source": [
        "# если надо в процентах\n",
        "\n",
        "data['category'].value_counts(normalize=True)"
      ],
      "execution_count": 18,
      "outputs": [
        {
          "output_type": "execute_result",
          "data": {
            "text/plain": [
              "67    0.112583\n",
              "27    0.082090\n",
              "24    0.063164\n",
              "42    0.053940\n",
              "37    0.052255\n",
              "39    0.044724\n",
              "25    0.043743\n",
              "21    0.042228\n",
              "51    0.036542\n",
              "31    0.035568\n",
              "35    0.029053\n",
              "32    0.024932\n",
              "14    0.023540\n",
              "18    0.022995\n",
              "48    0.019452\n",
              "53    0.018564\n",
              "38    0.017969\n",
              "9     0.017439\n",
              "12    0.016586\n",
              "4     0.015276\n",
              "60    0.013867\n",
              "41    0.013425\n",
              "62    0.013204\n",
              "55    0.011735\n",
              "5     0.010575\n",
              "36    0.010476\n",
              "11    0.010057\n",
              "16    0.009959\n",
              "7     0.009151\n",
              "70    0.008473\n",
              "        ...   \n",
              "58    0.004467\n",
              "3     0.004114\n",
              "6     0.003840\n",
              "10    0.003492\n",
              "8     0.003254\n",
              "33    0.003148\n",
              "20    0.003068\n",
              "57    0.002720\n",
              "1     0.002537\n",
              "45    0.002206\n",
              "19    0.002048\n",
              "15    0.001887\n",
              "46    0.001824\n",
              "54    0.001770\n",
              "22    0.001693\n",
              "50    0.001649\n",
              "2     0.001616\n",
              "59    0.001435\n",
              "52    0.001359\n",
              "71    0.001149\n",
              "28    0.001087\n",
              "23    0.000809\n",
              "63    0.000801\n",
              "44    0.000636\n",
              "47    0.000636\n",
              "69    0.000575\n",
              "30    0.000417\n",
              "26    0.000307\n",
              "49    0.000088\n",
              "66    0.000049\n",
              "Name: category, Length: 71, dtype: float64"
            ]
          },
          "metadata": {
            "tags": []
          },
          "execution_count": 18
        }
      ]
    },
    {
      "cell_type": "markdown",
      "metadata": {
        "id": "WYbvR_OHIwkT",
        "colab_type": "text"
      },
      "source": [
        "### Упражнение\n",
        "Используем файл transactions.csv. Определите какой товар (столбец Product) упоминается в файле чаще всего?"
      ]
    },
    {
      "cell_type": "code",
      "metadata": {
        "id": "A2WHC7gxIwkV",
        "colab_type": "code",
        "colab": {}
      },
      "source": [
        "df = pd.read_csv('transactions.csv')"
      ],
      "execution_count": 0,
      "outputs": []
    },
    {
      "cell_type": "code",
      "metadata": {
        "id": "ilVGdG9cIwkY",
        "colab_type": "code",
        "outputId": "189dd4ac-deab-4a8d-8fd6-8406dc24468f",
        "colab": {
          "base_uri": "https://localhost:8080/",
          "height": 197
        }
      },
      "source": [
        "df.head()"
      ],
      "execution_count": 20,
      "outputs": [
        {
          "output_type": "execute_result",
          "data": {
            "text/html": [
              "<div>\n",
              "<style scoped>\n",
              "    .dataframe tbody tr th:only-of-type {\n",
              "        vertical-align: middle;\n",
              "    }\n",
              "\n",
              "    .dataframe tbody tr th {\n",
              "        vertical-align: top;\n",
              "    }\n",
              "\n",
              "    .dataframe thead th {\n",
              "        text-align: right;\n",
              "    }\n",
              "</style>\n",
              "<table border=\"1\" class=\"dataframe\">\n",
              "  <thead>\n",
              "    <tr style=\"text-align: right;\">\n",
              "      <th></th>\n",
              "      <th>Year</th>\n",
              "      <th>Month</th>\n",
              "      <th>ID</th>\n",
              "      <th>Product</th>\n",
              "      <th>Amount</th>\n",
              "      <th>Price</th>\n",
              "      <th>Total</th>\n",
              "      <th>Cost</th>\n",
              "    </tr>\n",
              "  </thead>\n",
              "  <tbody>\n",
              "    <tr>\n",
              "      <th>0</th>\n",
              "      <td>2017</td>\n",
              "      <td>1</td>\n",
              "      <td>t001</td>\n",
              "      <td>A1</td>\n",
              "      <td>7</td>\n",
              "      <td>2904</td>\n",
              "      <td>20328</td>\n",
              "      <td>1200</td>\n",
              "    </tr>\n",
              "    <tr>\n",
              "      <th>1</th>\n",
              "      <td>2017</td>\n",
              "      <td>1</td>\n",
              "      <td>t002</td>\n",
              "      <td>A2</td>\n",
              "      <td>2</td>\n",
              "      <td>1896</td>\n",
              "      <td>3792</td>\n",
              "      <td>1100</td>\n",
              "    </tr>\n",
              "    <tr>\n",
              "      <th>2</th>\n",
              "      <td>2017</td>\n",
              "      <td>2</td>\n",
              "      <td>t003</td>\n",
              "      <td>A1</td>\n",
              "      <td>5</td>\n",
              "      <td>2904</td>\n",
              "      <td>14520</td>\n",
              "      <td>1200</td>\n",
              "    </tr>\n",
              "    <tr>\n",
              "      <th>3</th>\n",
              "      <td>2017</td>\n",
              "      <td>2</td>\n",
              "      <td>t004</td>\n",
              "      <td>A4</td>\n",
              "      <td>1</td>\n",
              "      <td>8618</td>\n",
              "      <td>8618</td>\n",
              "      <td>4200</td>\n",
              "    </tr>\n",
              "    <tr>\n",
              "      <th>4</th>\n",
              "      <td>2017</td>\n",
              "      <td>2</td>\n",
              "      <td>t005</td>\n",
              "      <td>A5</td>\n",
              "      <td>3</td>\n",
              "      <td>5175</td>\n",
              "      <td>15525</td>\n",
              "      <td>500</td>\n",
              "    </tr>\n",
              "  </tbody>\n",
              "</table>\n",
              "</div>"
            ],
            "text/plain": [
              "   Year  Month    ID Product  Amount  Price  Total  Cost\n",
              "0  2017      1  t001      A1       7   2904  20328  1200\n",
              "1  2017      1  t002      A2       2   1896   3792  1100\n",
              "2  2017      2  t003      A1       5   2904  14520  1200\n",
              "3  2017      2  t004      A4       1   8618   8618  4200\n",
              "4  2017      2  t005      A5       3   5175  15525   500"
            ]
          },
          "metadata": {
            "tags": []
          },
          "execution_count": 20
        }
      ]
    },
    {
      "cell_type": "code",
      "metadata": {
        "id": "1ikMdXruIwkb",
        "colab_type": "code",
        "outputId": "e300e67d-5a0a-4092-a885-717fa0f54fb2",
        "colab": {
          "base_uri": "https://localhost:8080/",
          "height": 212
        }
      },
      "source": [
        "df['Product'].value_counts()"
      ],
      "execution_count": 21,
      "outputs": [
        {
          "output_type": "execute_result",
          "data": {
            "text/plain": [
              "_5    11\n",
              "_8     8\n",
              "_2     8\n",
              "_4     7\n",
              "_3     7\n",
              "A1     5\n",
              "A5     5\n",
              "A4     5\n",
              "A2     2\n",
              "_6     2\n",
              "Name: Product, dtype: int64"
            ]
          },
          "metadata": {
            "tags": []
          },
          "execution_count": 21
        }
      ]
    },
    {
      "cell_type": "markdown",
      "metadata": {
        "id": "EovOsgggIwkd",
        "colab_type": "text"
      },
      "source": [
        "# Фильтры"
      ]
    },
    {
      "cell_type": "code",
      "metadata": {
        "ExecuteTime": {
          "end_time": "2019-06-07T20:41:54.376515Z",
          "start_time": "2019-06-07T20:41:53.981262Z"
        },
        "id": "edRw69L1Iwke",
        "colab_type": "code",
        "outputId": "70e97d55-1a9d-40a4-eb5f-14b78319baa3",
        "colab": {
          "base_uri": "https://localhost:8080/",
          "height": 197
        }
      },
      "source": [
        "data = pd.read_csv('power.csv')\n",
        "data.head()"
      ],
      "execution_count": 22,
      "outputs": [
        {
          "output_type": "execute_result",
          "data": {
            "text/html": [
              "<div>\n",
              "<style scoped>\n",
              "    .dataframe tbody tr th:only-of-type {\n",
              "        vertical-align: middle;\n",
              "    }\n",
              "\n",
              "    .dataframe tbody tr th {\n",
              "        vertical-align: top;\n",
              "    }\n",
              "\n",
              "    .dataframe thead th {\n",
              "        text-align: right;\n",
              "    }\n",
              "</style>\n",
              "<table border=\"1\" class=\"dataframe\">\n",
              "  <thead>\n",
              "    <tr style=\"text-align: right;\">\n",
              "      <th></th>\n",
              "      <th>country</th>\n",
              "      <th>year</th>\n",
              "      <th>quantity</th>\n",
              "      <th>category</th>\n",
              "    </tr>\n",
              "  </thead>\n",
              "  <tbody>\n",
              "    <tr>\n",
              "      <th>0</th>\n",
              "      <td>Austria</td>\n",
              "      <td>1996</td>\n",
              "      <td>5.0</td>\n",
              "      <td>1</td>\n",
              "    </tr>\n",
              "    <tr>\n",
              "      <th>1</th>\n",
              "      <td>Austria</td>\n",
              "      <td>1995</td>\n",
              "      <td>17.0</td>\n",
              "      <td>1</td>\n",
              "    </tr>\n",
              "    <tr>\n",
              "      <th>2</th>\n",
              "      <td>Belgium</td>\n",
              "      <td>2014</td>\n",
              "      <td>0.0</td>\n",
              "      <td>1</td>\n",
              "    </tr>\n",
              "    <tr>\n",
              "      <th>3</th>\n",
              "      <td>Belgium</td>\n",
              "      <td>2013</td>\n",
              "      <td>0.0</td>\n",
              "      <td>1</td>\n",
              "    </tr>\n",
              "    <tr>\n",
              "      <th>4</th>\n",
              "      <td>Belgium</td>\n",
              "      <td>2012</td>\n",
              "      <td>35.0</td>\n",
              "      <td>1</td>\n",
              "    </tr>\n",
              "  </tbody>\n",
              "</table>\n",
              "</div>"
            ],
            "text/plain": [
              "   country  year  quantity  category\n",
              "0  Austria  1996       5.0         1\n",
              "1  Austria  1995      17.0         1\n",
              "2  Belgium  2014       0.0         1\n",
              "3  Belgium  2013       0.0         1\n",
              "4  Belgium  2012      35.0         1"
            ]
          },
          "metadata": {
            "tags": []
          },
          "execution_count": 22
        }
      ]
    },
    {
      "cell_type": "code",
      "metadata": {
        "ExecuteTime": {
          "end_time": "2019-06-07T20:41:59.372676Z",
          "start_time": "2019-06-07T20:41:59.350862Z"
        },
        "id": "9D4wB323Iwkg",
        "colab_type": "code",
        "outputId": "b50d826c-cb40-4c88-c02e-76800340e119",
        "colab": {
          "base_uri": "https://localhost:8080/",
          "height": 197
        }
      },
      "source": [
        "# выбрать несколько столбцов\n",
        "\n",
        "country_stats = data.filter(items = ['country', 'quantity'])\n",
        "country_stats.head()"
      ],
      "execution_count": 23,
      "outputs": [
        {
          "output_type": "execute_result",
          "data": {
            "text/html": [
              "<div>\n",
              "<style scoped>\n",
              "    .dataframe tbody tr th:only-of-type {\n",
              "        vertical-align: middle;\n",
              "    }\n",
              "\n",
              "    .dataframe tbody tr th {\n",
              "        vertical-align: top;\n",
              "    }\n",
              "\n",
              "    .dataframe thead th {\n",
              "        text-align: right;\n",
              "    }\n",
              "</style>\n",
              "<table border=\"1\" class=\"dataframe\">\n",
              "  <thead>\n",
              "    <tr style=\"text-align: right;\">\n",
              "      <th></th>\n",
              "      <th>country</th>\n",
              "      <th>quantity</th>\n",
              "    </tr>\n",
              "  </thead>\n",
              "  <tbody>\n",
              "    <tr>\n",
              "      <th>0</th>\n",
              "      <td>Austria</td>\n",
              "      <td>5.0</td>\n",
              "    </tr>\n",
              "    <tr>\n",
              "      <th>1</th>\n",
              "      <td>Austria</td>\n",
              "      <td>17.0</td>\n",
              "    </tr>\n",
              "    <tr>\n",
              "      <th>2</th>\n",
              "      <td>Belgium</td>\n",
              "      <td>0.0</td>\n",
              "    </tr>\n",
              "    <tr>\n",
              "      <th>3</th>\n",
              "      <td>Belgium</td>\n",
              "      <td>0.0</td>\n",
              "    </tr>\n",
              "    <tr>\n",
              "      <th>4</th>\n",
              "      <td>Belgium</td>\n",
              "      <td>35.0</td>\n",
              "    </tr>\n",
              "  </tbody>\n",
              "</table>\n",
              "</div>"
            ],
            "text/plain": [
              "   country  quantity\n",
              "0  Austria       5.0\n",
              "1  Austria      17.0\n",
              "2  Belgium       0.0\n",
              "3  Belgium       0.0\n",
              "4  Belgium      35.0"
            ]
          },
          "metadata": {
            "tags": []
          },
          "execution_count": 23
        }
      ]
    },
    {
      "cell_type": "code",
      "metadata": {
        "ExecuteTime": {
          "end_time": "2019-06-07T20:42:43.522614Z",
          "start_time": "2019-06-07T20:42:43.511723Z"
        },
        "id": "gtdAFgIMIwkk",
        "colab_type": "code",
        "outputId": "9797aecc-62b2-4cab-a5a5-52a044bf5dce",
        "colab": {
          "base_uri": "https://localhost:8080/",
          "height": 34
        }
      },
      "source": [
        "average_level = data['quantity'].mean()\n",
        "average_level"
      ],
      "execution_count": 24,
      "outputs": [
        {
          "output_type": "execute_result",
          "data": {
            "text/plain": [
              "184264.77005012965"
            ]
          },
          "metadata": {
            "tags": []
          },
          "execution_count": 24
        }
      ]
    },
    {
      "cell_type": "code",
      "metadata": {
        "ExecuteTime": {
          "end_time": "2019-06-07T21:02:04.351334Z",
          "start_time": "2019-06-07T21:02:04.018043Z"
        },
        "id": "kpZKIJ3EIwko",
        "colab_type": "code",
        "outputId": "9d2336e3-77cd-4862-8f8f-2a926003af75",
        "colab": {
          "base_uri": "https://localhost:8080/",
          "height": 197
        }
      },
      "source": [
        "data[ data.quantity > average_level ].head()"
      ],
      "execution_count": 25,
      "outputs": [
        {
          "output_type": "execute_result",
          "data": {
            "text/html": [
              "<div>\n",
              "<style scoped>\n",
              "    .dataframe tbody tr th:only-of-type {\n",
              "        vertical-align: middle;\n",
              "    }\n",
              "\n",
              "    .dataframe tbody tr th {\n",
              "        vertical-align: top;\n",
              "    }\n",
              "\n",
              "    .dataframe thead th {\n",
              "        text-align: right;\n",
              "    }\n",
              "</style>\n",
              "<table border=\"1\" class=\"dataframe\">\n",
              "  <thead>\n",
              "    <tr style=\"text-align: right;\">\n",
              "      <th></th>\n",
              "      <th>country</th>\n",
              "      <th>year</th>\n",
              "      <th>quantity</th>\n",
              "      <th>category</th>\n",
              "    </tr>\n",
              "  </thead>\n",
              "  <tbody>\n",
              "    <tr>\n",
              "      <th>3228</th>\n",
              "      <td>United States</td>\n",
              "      <td>2014</td>\n",
              "      <td>367987.0</td>\n",
              "      <td>2</td>\n",
              "    </tr>\n",
              "    <tr>\n",
              "      <th>3229</th>\n",
              "      <td>United States</td>\n",
              "      <td>2013</td>\n",
              "      <td>384439.0</td>\n",
              "      <td>2</td>\n",
              "    </tr>\n",
              "    <tr>\n",
              "      <th>3230</th>\n",
              "      <td>United States</td>\n",
              "      <td>2012</td>\n",
              "      <td>370625.0</td>\n",
              "      <td>2</td>\n",
              "    </tr>\n",
              "    <tr>\n",
              "      <th>3231</th>\n",
              "      <td>United States</td>\n",
              "      <td>2011</td>\n",
              "      <td>310909.0</td>\n",
              "      <td>2</td>\n",
              "    </tr>\n",
              "    <tr>\n",
              "      <th>3232</th>\n",
              "      <td>United States</td>\n",
              "      <td>2010</td>\n",
              "      <td>335418.0</td>\n",
              "      <td>2</td>\n",
              "    </tr>\n",
              "  </tbody>\n",
              "</table>\n",
              "</div>"
            ],
            "text/plain": [
              "            country  year  quantity  category\n",
              "3228  United States  2014  367987.0         2\n",
              "3229  United States  2013  384439.0         2\n",
              "3230  United States  2012  370625.0         2\n",
              "3231  United States  2011  310909.0         2\n",
              "3232  United States  2010  335418.0         2"
            ]
          },
          "metadata": {
            "tags": []
          },
          "execution_count": 25
        }
      ]
    },
    {
      "cell_type": "code",
      "metadata": {
        "ExecuteTime": {
          "end_time": "2019-06-07T20:42:53.542543Z",
          "start_time": "2019-06-07T20:42:52.765467Z"
        },
        "id": "RF1EFQ4oIwkt",
        "colab_type": "code",
        "outputId": "a38e6138-fd24-45ab-da99-6bbb43f16156",
        "colab": {
          "base_uri": "https://localhost:8080/",
          "height": 70
        }
      },
      "source": [
        "# фильтр на подстроку\n",
        "# найдем как называется Россия в этом датафрейме\n",
        "\n",
        "data[ data['country'].str.contains('us', case=False) ]['country'].unique()"
      ],
      "execution_count": 26,
      "outputs": [
        {
          "output_type": "execute_result",
          "data": {
            "text/plain": [
              "array(['Austria', 'Brunei Darussalam', 'Australia', 'Russian Federation',\n",
              "       'USSR (former)', 'Mauritius', 'Belarus', 'Cyprus',\n",
              "       'Bonaire, St Eustatius, Saba'], dtype=object)"
            ]
          },
          "metadata": {
            "tags": []
          },
          "execution_count": 26
        }
      ]
    },
    {
      "cell_type": "code",
      "metadata": {
        "ExecuteTime": {
          "end_time": "2019-06-07T20:43:14.631435Z",
          "start_time": "2019-06-07T20:43:14.479149Z"
        },
        "id": "L_4BevRWIwkv",
        "colab_type": "code",
        "outputId": "54f1094e-592c-48a4-9719-00163c0cfee2",
        "colab": {
          "base_uri": "https://localhost:8080/",
          "height": 197
        }
      },
      "source": [
        "# фильтр на несколько условий сразу\n",
        "# | - условие ИЛИ\n",
        "# & AND\n",
        "# () | (() | () & ())\n",
        "filtered_countries = data[ (data['country']=='Russian Federation') | (data['country']=='Belarus') ]\n",
        "\n",
        "filtered_countries.head()"
      ],
      "execution_count": 27,
      "outputs": [
        {
          "output_type": "execute_result",
          "data": {
            "text/html": [
              "<div>\n",
              "<style scoped>\n",
              "    .dataframe tbody tr th:only-of-type {\n",
              "        vertical-align: middle;\n",
              "    }\n",
              "\n",
              "    .dataframe tbody tr th {\n",
              "        vertical-align: top;\n",
              "    }\n",
              "\n",
              "    .dataframe thead th {\n",
              "        text-align: right;\n",
              "    }\n",
              "</style>\n",
              "<table border=\"1\" class=\"dataframe\">\n",
              "  <thead>\n",
              "    <tr style=\"text-align: right;\">\n",
              "      <th></th>\n",
              "      <th>country</th>\n",
              "      <th>year</th>\n",
              "      <th>quantity</th>\n",
              "      <th>category</th>\n",
              "    </tr>\n",
              "  </thead>\n",
              "  <tbody>\n",
              "    <tr>\n",
              "      <th>6940</th>\n",
              "      <td>Russian Federation</td>\n",
              "      <td>2014</td>\n",
              "      <td>12714.0</td>\n",
              "      <td>3</td>\n",
              "    </tr>\n",
              "    <tr>\n",
              "      <th>6941</th>\n",
              "      <td>Russian Federation</td>\n",
              "      <td>2013</td>\n",
              "      <td>11285.0</td>\n",
              "      <td>3</td>\n",
              "    </tr>\n",
              "    <tr>\n",
              "      <th>6942</th>\n",
              "      <td>Russian Federation</td>\n",
              "      <td>2012</td>\n",
              "      <td>11302.0</td>\n",
              "      <td>3</td>\n",
              "    </tr>\n",
              "    <tr>\n",
              "      <th>6943</th>\n",
              "      <td>Russian Federation</td>\n",
              "      <td>2011</td>\n",
              "      <td>7611.0</td>\n",
              "      <td>3</td>\n",
              "    </tr>\n",
              "    <tr>\n",
              "      <th>6944</th>\n",
              "      <td>Russian Federation</td>\n",
              "      <td>2010</td>\n",
              "      <td>9263.0</td>\n",
              "      <td>3</td>\n",
              "    </tr>\n",
              "  </tbody>\n",
              "</table>\n",
              "</div>"
            ],
            "text/plain": [
              "                 country  year  quantity  category\n",
              "6940  Russian Federation  2014   12714.0         3\n",
              "6941  Russian Federation  2013   11285.0         3\n",
              "6942  Russian Federation  2012   11302.0         3\n",
              "6943  Russian Federation  2011    7611.0         3\n",
              "6944  Russian Federation  2010    9263.0         3"
            ]
          },
          "metadata": {
            "tags": []
          },
          "execution_count": 27
        }
      ]
    },
    {
      "cell_type": "code",
      "metadata": {
        "ExecuteTime": {
          "end_time": "2019-06-07T20:43:27.957179Z",
          "start_time": "2019-06-07T20:43:27.951055Z"
        },
        "id": "2LfE9fbAIwk1",
        "colab_type": "code",
        "outputId": "5b3cc1d7-8ed2-48c1-d3d3-fdbc219d87ca",
        "colab": {
          "base_uri": "https://localhost:8080/",
          "height": 34
        }
      },
      "source": [
        "filtered_countries['country'].unique()"
      ],
      "execution_count": 28,
      "outputs": [
        {
          "output_type": "execute_result",
          "data": {
            "text/plain": [
              "array(['Russian Federation', 'Belarus'], dtype=object)"
            ]
          },
          "metadata": {
            "tags": []
          },
          "execution_count": 28
        }
      ]
    },
    {
      "cell_type": "code",
      "metadata": {
        "ExecuteTime": {
          "end_time": "2019-06-07T20:43:33.116447Z",
          "start_time": "2019-06-07T20:43:33.088381Z"
        },
        "id": "_O7reFCWIwk5",
        "colab_type": "code",
        "outputId": "43d16ab3-95b2-4437-846c-e55e632202d7",
        "colab": {
          "base_uri": "https://localhost:8080/",
          "height": 197
        }
      },
      "source": [
        "data[ ['country', 'quantity'] ].head()"
      ],
      "execution_count": 29,
      "outputs": [
        {
          "output_type": "execute_result",
          "data": {
            "text/html": [
              "<div>\n",
              "<style scoped>\n",
              "    .dataframe tbody tr th:only-of-type {\n",
              "        vertical-align: middle;\n",
              "    }\n",
              "\n",
              "    .dataframe tbody tr th {\n",
              "        vertical-align: top;\n",
              "    }\n",
              "\n",
              "    .dataframe thead th {\n",
              "        text-align: right;\n",
              "    }\n",
              "</style>\n",
              "<table border=\"1\" class=\"dataframe\">\n",
              "  <thead>\n",
              "    <tr style=\"text-align: right;\">\n",
              "      <th></th>\n",
              "      <th>country</th>\n",
              "      <th>quantity</th>\n",
              "    </tr>\n",
              "  </thead>\n",
              "  <tbody>\n",
              "    <tr>\n",
              "      <th>0</th>\n",
              "      <td>Austria</td>\n",
              "      <td>5.0</td>\n",
              "    </tr>\n",
              "    <tr>\n",
              "      <th>1</th>\n",
              "      <td>Austria</td>\n",
              "      <td>17.0</td>\n",
              "    </tr>\n",
              "    <tr>\n",
              "      <th>2</th>\n",
              "      <td>Belgium</td>\n",
              "      <td>0.0</td>\n",
              "    </tr>\n",
              "    <tr>\n",
              "      <th>3</th>\n",
              "      <td>Belgium</td>\n",
              "      <td>0.0</td>\n",
              "    </tr>\n",
              "    <tr>\n",
              "      <th>4</th>\n",
              "      <td>Belgium</td>\n",
              "      <td>35.0</td>\n",
              "    </tr>\n",
              "  </tbody>\n",
              "</table>\n",
              "</div>"
            ],
            "text/plain": [
              "   country  quantity\n",
              "0  Austria       5.0\n",
              "1  Austria      17.0\n",
              "2  Belgium       0.0\n",
              "3  Belgium       0.0\n",
              "4  Belgium      35.0"
            ]
          },
          "metadata": {
            "tags": []
          },
          "execution_count": 29
        }
      ]
    },
    {
      "cell_type": "code",
      "metadata": {
        "ExecuteTime": {
          "end_time": "2019-06-07T20:43:38.165389Z",
          "start_time": "2019-06-07T20:43:38.148176Z"
        },
        "id": "mfFT0q4UIwk9",
        "colab_type": "code",
        "outputId": "dbce224e-4732-438c-bb5b-382223c72af4",
        "colab": {
          "base_uri": "https://localhost:8080/",
          "height": 227
        }
      },
      "source": [
        "# фильтры на строки\n",
        "\n",
        "data.loc[1000:1005]"
      ],
      "execution_count": 30,
      "outputs": [
        {
          "output_type": "execute_result",
          "data": {
            "text/html": [
              "<div>\n",
              "<style scoped>\n",
              "    .dataframe tbody tr th:only-of-type {\n",
              "        vertical-align: middle;\n",
              "    }\n",
              "\n",
              "    .dataframe tbody tr th {\n",
              "        vertical-align: top;\n",
              "    }\n",
              "\n",
              "    .dataframe thead th {\n",
              "        text-align: right;\n",
              "    }\n",
              "</style>\n",
              "<table border=\"1\" class=\"dataframe\">\n",
              "  <thead>\n",
              "    <tr style=\"text-align: right;\">\n",
              "      <th></th>\n",
              "      <th>country</th>\n",
              "      <th>year</th>\n",
              "      <th>quantity</th>\n",
              "      <th>category</th>\n",
              "    </tr>\n",
              "  </thead>\n",
              "  <tbody>\n",
              "    <tr>\n",
              "      <th>1000</th>\n",
              "      <td>Austria</td>\n",
              "      <td>1998</td>\n",
              "      <td>-14.0</td>\n",
              "      <td>1</td>\n",
              "    </tr>\n",
              "    <tr>\n",
              "      <th>1001</th>\n",
              "      <td>Austria</td>\n",
              "      <td>1997</td>\n",
              "      <td>5.0</td>\n",
              "      <td>1</td>\n",
              "    </tr>\n",
              "    <tr>\n",
              "      <th>1002</th>\n",
              "      <td>Austria</td>\n",
              "      <td>1996</td>\n",
              "      <td>-1.0</td>\n",
              "      <td>1</td>\n",
              "    </tr>\n",
              "    <tr>\n",
              "      <th>1003</th>\n",
              "      <td>Austria</td>\n",
              "      <td>1995</td>\n",
              "      <td>-10.0</td>\n",
              "      <td>1</td>\n",
              "    </tr>\n",
              "    <tr>\n",
              "      <th>1004</th>\n",
              "      <td>Austria</td>\n",
              "      <td>1994</td>\n",
              "      <td>-8.0</td>\n",
              "      <td>1</td>\n",
              "    </tr>\n",
              "    <tr>\n",
              "      <th>1005</th>\n",
              "      <td>Austria</td>\n",
              "      <td>1993</td>\n",
              "      <td>-11.0</td>\n",
              "      <td>1</td>\n",
              "    </tr>\n",
              "  </tbody>\n",
              "</table>\n",
              "</div>"
            ],
            "text/plain": [
              "      country  year  quantity  category\n",
              "1000  Austria  1998     -14.0         1\n",
              "1001  Austria  1997       5.0         1\n",
              "1002  Austria  1996      -1.0         1\n",
              "1003  Austria  1995     -10.0         1\n",
              "1004  Austria  1994      -8.0         1\n",
              "1005  Austria  1993     -11.0         1"
            ]
          },
          "metadata": {
            "tags": []
          },
          "execution_count": 30
        }
      ]
    },
    {
      "cell_type": "markdown",
      "metadata": {
        "id": "uHzsG2y3IwlA",
        "colab_type": "text"
      },
      "source": [
        "# Сортировка"
      ]
    },
    {
      "cell_type": "code",
      "metadata": {
        "ExecuteTime": {
          "end_time": "2019-06-07T20:43:56.196191Z",
          "start_time": "2019-06-07T20:43:55.962248Z"
        },
        "id": "12WlMWQzIwlA",
        "colab_type": "code",
        "outputId": "003b76bc-7028-4af6-ea64-f1dd3cb3e0d2",
        "colab": {
          "base_uri": "https://localhost:8080/",
          "height": 197
        }
      },
      "source": [
        "# Сортировка по столбцу\n",
        "\n",
        "data.sort_values(by='quantity').head()"
      ],
      "execution_count": 31,
      "outputs": [
        {
          "output_type": "execute_result",
          "data": {
            "text/html": [
              "<div>\n",
              "<style scoped>\n",
              "    .dataframe tbody tr th:only-of-type {\n",
              "        vertical-align: middle;\n",
              "    }\n",
              "\n",
              "    .dataframe tbody tr th {\n",
              "        vertical-align: top;\n",
              "    }\n",
              "\n",
              "    .dataframe thead th {\n",
              "        text-align: right;\n",
              "    }\n",
              "</style>\n",
              "<table border=\"1\" class=\"dataframe\">\n",
              "  <thead>\n",
              "    <tr style=\"text-align: right;\">\n",
              "      <th></th>\n",
              "      <th>country</th>\n",
              "      <th>year</th>\n",
              "      <th>quantity</th>\n",
              "      <th>category</th>\n",
              "    </tr>\n",
              "  </thead>\n",
              "  <tbody>\n",
              "    <tr>\n",
              "      <th>832375</th>\n",
              "      <td>United States</td>\n",
              "      <td>2000</td>\n",
              "      <td>-864348.0</td>\n",
              "      <td>42</td>\n",
              "    </tr>\n",
              "    <tr>\n",
              "      <th>832373</th>\n",
              "      <td>United States</td>\n",
              "      <td>2002</td>\n",
              "      <td>-562414.0</td>\n",
              "      <td>42</td>\n",
              "    </tr>\n",
              "    <tr>\n",
              "      <th>832362</th>\n",
              "      <td>United States</td>\n",
              "      <td>2013</td>\n",
              "      <td>-551490.0</td>\n",
              "      <td>42</td>\n",
              "    </tr>\n",
              "    <tr>\n",
              "      <th>832380</th>\n",
              "      <td>United States</td>\n",
              "      <td>1995</td>\n",
              "      <td>-493380.0</td>\n",
              "      <td>42</td>\n",
              "    </tr>\n",
              "    <tr>\n",
              "      <th>832322</th>\n",
              "      <td>Ukraine</td>\n",
              "      <td>2010</td>\n",
              "      <td>-477263.0</td>\n",
              "      <td>42</td>\n",
              "    </tr>\n",
              "  </tbody>\n",
              "</table>\n",
              "</div>"
            ],
            "text/plain": [
              "              country  year  quantity  category\n",
              "832375  United States  2000 -864348.0        42\n",
              "832373  United States  2002 -562414.0        42\n",
              "832362  United States  2013 -551490.0        42\n",
              "832380  United States  1995 -493380.0        42\n",
              "832322        Ukraine  2010 -477263.0        42"
            ]
          },
          "metadata": {
            "tags": []
          },
          "execution_count": 31
        }
      ]
    },
    {
      "cell_type": "code",
      "metadata": {
        "ExecuteTime": {
          "end_time": "2019-06-07T20:44:01.570432Z",
          "start_time": "2019-06-07T20:44:01.342825Z"
        },
        "id": "GPlv0wMOIwlE",
        "colab_type": "code",
        "outputId": "f3333fd5-bfd0-48bc-a51a-85b32a718346",
        "colab": {
          "base_uri": "https://localhost:8080/",
          "height": 197
        }
      },
      "source": [
        "# сортировка по убыванию\n",
        "\n",
        "data.sort_values(by='quantity', ascending=False).head()"
      ],
      "execution_count": 32,
      "outputs": [
        {
          "output_type": "execute_result",
          "data": {
            "text/html": [
              "<div>\n",
              "<style scoped>\n",
              "    .dataframe tbody tr th:only-of-type {\n",
              "        vertical-align: middle;\n",
              "    }\n",
              "\n",
              "    .dataframe tbody tr th {\n",
              "        vertical-align: top;\n",
              "    }\n",
              "\n",
              "    .dataframe thead th {\n",
              "        text-align: right;\n",
              "    }\n",
              "</style>\n",
              "<table border=\"1\" class=\"dataframe\">\n",
              "  <thead>\n",
              "    <tr style=\"text-align: right;\">\n",
              "      <th></th>\n",
              "      <th>country</th>\n",
              "      <th>year</th>\n",
              "      <th>quantity</th>\n",
              "      <th>category</th>\n",
              "    </tr>\n",
              "  </thead>\n",
              "  <tbody>\n",
              "    <tr>\n",
              "      <th>492581</th>\n",
              "      <td>United States</td>\n",
              "      <td>2014</td>\n",
              "      <td>6.680329e+09</td>\n",
              "      <td>31</td>\n",
              "    </tr>\n",
              "    <tr>\n",
              "      <th>492267</th>\n",
              "      <td>United States</td>\n",
              "      <td>2014</td>\n",
              "      <td>6.680329e+09</td>\n",
              "      <td>31</td>\n",
              "    </tr>\n",
              "    <tr>\n",
              "      <th>492047</th>\n",
              "      <td>China</td>\n",
              "      <td>2014</td>\n",
              "      <td>5.462672e+09</td>\n",
              "      <td>31</td>\n",
              "    </tr>\n",
              "    <tr>\n",
              "      <th>492345</th>\n",
              "      <td>China</td>\n",
              "      <td>2014</td>\n",
              "      <td>5.462672e+09</td>\n",
              "      <td>31</td>\n",
              "    </tr>\n",
              "    <tr>\n",
              "      <th>122392</th>\n",
              "      <td>USSR (former)</td>\n",
              "      <td>1990</td>\n",
              "      <td>3.257000e+09</td>\n",
              "      <td>12</td>\n",
              "    </tr>\n",
              "  </tbody>\n",
              "</table>\n",
              "</div>"
            ],
            "text/plain": [
              "              country  year      quantity  category\n",
              "492581  United States  2014  6.680329e+09        31\n",
              "492267  United States  2014  6.680329e+09        31\n",
              "492047          China  2014  5.462672e+09        31\n",
              "492345          China  2014  5.462672e+09        31\n",
              "122392  USSR (former)  1990  3.257000e+09        12"
            ]
          },
          "metadata": {
            "tags": []
          },
          "execution_count": 32
        }
      ]
    },
    {
      "cell_type": "code",
      "metadata": {
        "ExecuteTime": {
          "end_time": "2019-06-07T20:44:46.904316Z",
          "start_time": "2019-06-07T20:44:46.602722Z"
        },
        "id": "EGJKrCXgIwlJ",
        "colab_type": "code",
        "outputId": "0e690bd8-3e79-4e9c-d551-371f8cddf12e",
        "colab": {
          "base_uri": "https://localhost:8080/",
          "height": 347
        }
      },
      "source": [
        "# сортировка по нескольким столбцам\n",
        "\n",
        "data.sort_values(by=['country', 'year', 'quantity'], ascending=[False, True, False]).head(10)"
      ],
      "execution_count": 34,
      "outputs": [
        {
          "output_type": "execute_result",
          "data": {
            "text/html": [
              "<div>\n",
              "<style scoped>\n",
              "    .dataframe tbody tr th:only-of-type {\n",
              "        vertical-align: middle;\n",
              "    }\n",
              "\n",
              "    .dataframe tbody tr th {\n",
              "        vertical-align: top;\n",
              "    }\n",
              "\n",
              "    .dataframe thead th {\n",
              "        text-align: right;\n",
              "    }\n",
              "</style>\n",
              "<table border=\"1\" class=\"dataframe\">\n",
              "  <thead>\n",
              "    <tr style=\"text-align: right;\">\n",
              "      <th></th>\n",
              "      <th>country</th>\n",
              "      <th>year</th>\n",
              "      <th>quantity</th>\n",
              "      <th>category</th>\n",
              "    </tr>\n",
              "  </thead>\n",
              "  <tbody>\n",
              "    <tr>\n",
              "      <th>492605</th>\n",
              "      <td>Zimbabwe</td>\n",
              "      <td>1990</td>\n",
              "      <td>7355000.0</td>\n",
              "      <td>31</td>\n",
              "    </tr>\n",
              "    <tr>\n",
              "      <th>491540</th>\n",
              "      <td>Zimbabwe</td>\n",
              "      <td>1990</td>\n",
              "      <td>5820000.0</td>\n",
              "      <td>31</td>\n",
              "    </tr>\n",
              "    <tr>\n",
              "      <th>492291</th>\n",
              "      <td>Zimbabwe</td>\n",
              "      <td>1990</td>\n",
              "      <td>1535000.0</td>\n",
              "      <td>31</td>\n",
              "    </tr>\n",
              "    <tr>\n",
              "      <th>122097</th>\n",
              "      <td>Zimbabwe</td>\n",
              "      <td>1990</td>\n",
              "      <td>965000.0</td>\n",
              "      <td>12</td>\n",
              "    </tr>\n",
              "    <tr>\n",
              "      <th>122399</th>\n",
              "      <td>Zimbabwe</td>\n",
              "      <td>1990</td>\n",
              "      <td>965000.0</td>\n",
              "      <td>12</td>\n",
              "    </tr>\n",
              "    <tr>\n",
              "      <th>492003</th>\n",
              "      <td>Zimbabwe</td>\n",
              "      <td>1990</td>\n",
              "      <td>734000.0</td>\n",
              "      <td>31</td>\n",
              "    </tr>\n",
              "    <tr>\n",
              "      <th>957330</th>\n",
              "      <td>Zimbabwe</td>\n",
              "      <td>1990</td>\n",
              "      <td>75283.0</td>\n",
              "      <td>55</td>\n",
              "    </tr>\n",
              "    <tr>\n",
              "      <th>959523</th>\n",
              "      <td>Zimbabwe</td>\n",
              "      <td>1990</td>\n",
              "      <td>75283.0</td>\n",
              "      <td>55</td>\n",
              "    </tr>\n",
              "    <tr>\n",
              "      <th>962492</th>\n",
              "      <td>Zimbabwe</td>\n",
              "      <td>1990</td>\n",
              "      <td>75283.0</td>\n",
              "      <td>55</td>\n",
              "    </tr>\n",
              "    <tr>\n",
              "      <th>964131</th>\n",
              "      <td>Zimbabwe</td>\n",
              "      <td>1990</td>\n",
              "      <td>75283.0</td>\n",
              "      <td>55</td>\n",
              "    </tr>\n",
              "  </tbody>\n",
              "</table>\n",
              "</div>"
            ],
            "text/plain": [
              "         country  year   quantity  category\n",
              "492605  Zimbabwe  1990  7355000.0        31\n",
              "491540  Zimbabwe  1990  5820000.0        31\n",
              "492291  Zimbabwe  1990  1535000.0        31\n",
              "122097  Zimbabwe  1990   965000.0        12\n",
              "122399  Zimbabwe  1990   965000.0        12\n",
              "492003  Zimbabwe  1990   734000.0        31\n",
              "957330  Zimbabwe  1990    75283.0        55\n",
              "959523  Zimbabwe  1990    75283.0        55\n",
              "962492  Zimbabwe  1990    75283.0        55\n",
              "964131  Zimbabwe  1990    75283.0        55"
            ]
          },
          "metadata": {
            "tags": []
          },
          "execution_count": 34
        }
      ]
    },
    {
      "cell_type": "markdown",
      "metadata": {
        "ExecuteTime": {
          "end_time": "2019-06-07T20:44:16.016875Z",
          "start_time": "2019-06-07T20:44:14.952751Z"
        },
        "id": "9-wBzGqDIwlL",
        "colab_type": "text"
      },
      "source": [
        "### Упражнение\n",
        "Используем transactions.csv.\n",
        "\n",
        "Для какой транзакции (столбец ID) были наибольшие расходы (столбец Cost) в категории \"_8\" (столбец Product)? "
      ]
    },
    {
      "cell_type": "code",
      "metadata": {
        "ExecuteTime": {
          "end_time": "2019-06-07T20:44:20.614605Z",
          "start_time": "2019-06-07T20:44:19.936538Z"
        },
        "id": "n3fBTmv1IwlM",
        "colab_type": "code",
        "outputId": "c3a0608a-173e-4673-d9f6-afbd5b7a3da0",
        "colab": {
          "base_uri": "https://localhost:8080/",
          "height": 197
        }
      },
      "source": [
        "# Загрузить\n",
        "df = pd.read_csv('transactions.csv')\n",
        "df.head()"
      ],
      "execution_count": 35,
      "outputs": [
        {
          "output_type": "execute_result",
          "data": {
            "text/html": [
              "<div>\n",
              "<style scoped>\n",
              "    .dataframe tbody tr th:only-of-type {\n",
              "        vertical-align: middle;\n",
              "    }\n",
              "\n",
              "    .dataframe tbody tr th {\n",
              "        vertical-align: top;\n",
              "    }\n",
              "\n",
              "    .dataframe thead th {\n",
              "        text-align: right;\n",
              "    }\n",
              "</style>\n",
              "<table border=\"1\" class=\"dataframe\">\n",
              "  <thead>\n",
              "    <tr style=\"text-align: right;\">\n",
              "      <th></th>\n",
              "      <th>Year</th>\n",
              "      <th>Month</th>\n",
              "      <th>ID</th>\n",
              "      <th>Product</th>\n",
              "      <th>Amount</th>\n",
              "      <th>Price</th>\n",
              "      <th>Total</th>\n",
              "      <th>Cost</th>\n",
              "    </tr>\n",
              "  </thead>\n",
              "  <tbody>\n",
              "    <tr>\n",
              "      <th>0</th>\n",
              "      <td>2017</td>\n",
              "      <td>1</td>\n",
              "      <td>t001</td>\n",
              "      <td>A1</td>\n",
              "      <td>7</td>\n",
              "      <td>2904</td>\n",
              "      <td>20328</td>\n",
              "      <td>1200</td>\n",
              "    </tr>\n",
              "    <tr>\n",
              "      <th>1</th>\n",
              "      <td>2017</td>\n",
              "      <td>1</td>\n",
              "      <td>t002</td>\n",
              "      <td>A2</td>\n",
              "      <td>2</td>\n",
              "      <td>1896</td>\n",
              "      <td>3792</td>\n",
              "      <td>1100</td>\n",
              "    </tr>\n",
              "    <tr>\n",
              "      <th>2</th>\n",
              "      <td>2017</td>\n",
              "      <td>2</td>\n",
              "      <td>t003</td>\n",
              "      <td>A1</td>\n",
              "      <td>5</td>\n",
              "      <td>2904</td>\n",
              "      <td>14520</td>\n",
              "      <td>1200</td>\n",
              "    </tr>\n",
              "    <tr>\n",
              "      <th>3</th>\n",
              "      <td>2017</td>\n",
              "      <td>2</td>\n",
              "      <td>t004</td>\n",
              "      <td>A4</td>\n",
              "      <td>1</td>\n",
              "      <td>8618</td>\n",
              "      <td>8618</td>\n",
              "      <td>4200</td>\n",
              "    </tr>\n",
              "    <tr>\n",
              "      <th>4</th>\n",
              "      <td>2017</td>\n",
              "      <td>2</td>\n",
              "      <td>t005</td>\n",
              "      <td>A5</td>\n",
              "      <td>3</td>\n",
              "      <td>5175</td>\n",
              "      <td>15525</td>\n",
              "      <td>500</td>\n",
              "    </tr>\n",
              "  </tbody>\n",
              "</table>\n",
              "</div>"
            ],
            "text/plain": [
              "   Year  Month    ID Product  Amount  Price  Total  Cost\n",
              "0  2017      1  t001      A1       7   2904  20328  1200\n",
              "1  2017      1  t002      A2       2   1896   3792  1100\n",
              "2  2017      2  t003      A1       5   2904  14520  1200\n",
              "3  2017      2  t004      A4       1   8618   8618  4200\n",
              "4  2017      2  t005      A5       3   5175  15525   500"
            ]
          },
          "metadata": {
            "tags": []
          },
          "execution_count": 35
        }
      ]
    },
    {
      "cell_type": "code",
      "metadata": {
        "id": "WYGmGAhYIwlO",
        "colab_type": "code",
        "outputId": "6bacd9d9-2bd4-4481-caa9-77068914c0d3",
        "colab": {
          "base_uri": "https://localhost:8080/",
          "height": 197
        }
      },
      "source": [
        "# Профильтровать (по стоблцу Product, оставив только значение \"_8\")\n",
        "df_filtered = df[df['Product']=='_8']\n",
        "df_filtered.head()"
      ],
      "execution_count": 36,
      "outputs": [
        {
          "output_type": "execute_result",
          "data": {
            "text/html": [
              "<div>\n",
              "<style scoped>\n",
              "    .dataframe tbody tr th:only-of-type {\n",
              "        vertical-align: middle;\n",
              "    }\n",
              "\n",
              "    .dataframe tbody tr th {\n",
              "        vertical-align: top;\n",
              "    }\n",
              "\n",
              "    .dataframe thead th {\n",
              "        text-align: right;\n",
              "    }\n",
              "</style>\n",
              "<table border=\"1\" class=\"dataframe\">\n",
              "  <thead>\n",
              "    <tr style=\"text-align: right;\">\n",
              "      <th></th>\n",
              "      <th>Year</th>\n",
              "      <th>Month</th>\n",
              "      <th>ID</th>\n",
              "      <th>Product</th>\n",
              "      <th>Amount</th>\n",
              "      <th>Price</th>\n",
              "      <th>Total</th>\n",
              "      <th>Cost</th>\n",
              "    </tr>\n",
              "  </thead>\n",
              "  <tbody>\n",
              "    <tr>\n",
              "      <th>8</th>\n",
              "      <td>2017</td>\n",
              "      <td>4</td>\n",
              "      <td>t009</td>\n",
              "      <td>_8</td>\n",
              "      <td>3</td>\n",
              "      <td>3760</td>\n",
              "      <td>11280</td>\n",
              "      <td>1000</td>\n",
              "    </tr>\n",
              "    <tr>\n",
              "      <th>12</th>\n",
              "      <td>2017</td>\n",
              "      <td>4</td>\n",
              "      <td>t013</td>\n",
              "      <td>_8</td>\n",
              "      <td>3</td>\n",
              "      <td>3760</td>\n",
              "      <td>11280</td>\n",
              "      <td>1200</td>\n",
              "    </tr>\n",
              "    <tr>\n",
              "      <th>22</th>\n",
              "      <td>2017</td>\n",
              "      <td>6</td>\n",
              "      <td>t023</td>\n",
              "      <td>_8</td>\n",
              "      <td>10</td>\n",
              "      <td>3760</td>\n",
              "      <td>37600</td>\n",
              "      <td>200</td>\n",
              "    </tr>\n",
              "    <tr>\n",
              "      <th>26</th>\n",
              "      <td>2017</td>\n",
              "      <td>6</td>\n",
              "      <td>t027</td>\n",
              "      <td>_8</td>\n",
              "      <td>3</td>\n",
              "      <td>3760</td>\n",
              "      <td>11280</td>\n",
              "      <td>800</td>\n",
              "    </tr>\n",
              "    <tr>\n",
              "      <th>37</th>\n",
              "      <td>2017</td>\n",
              "      <td>9</td>\n",
              "      <td>t038</td>\n",
              "      <td>_8</td>\n",
              "      <td>1</td>\n",
              "      <td>3760</td>\n",
              "      <td>3760</td>\n",
              "      <td>700</td>\n",
              "    </tr>\n",
              "  </tbody>\n",
              "</table>\n",
              "</div>"
            ],
            "text/plain": [
              "    Year  Month    ID Product  Amount  Price  Total  Cost\n",
              "8   2017      4  t009      _8       3   3760  11280  1000\n",
              "12  2017      4  t013      _8       3   3760  11280  1200\n",
              "22  2017      6  t023      _8      10   3760  37600   200\n",
              "26  2017      6  t027      _8       3   3760  11280   800\n",
              "37  2017      9  t038      _8       1   3760   3760   700"
            ]
          },
          "metadata": {
            "tags": []
          },
          "execution_count": 36
        }
      ]
    },
    {
      "cell_type": "code",
      "metadata": {
        "id": "YNpDpMQRIwlQ",
        "colab_type": "code",
        "outputId": "3718f1a2-c1f7-4dad-9723-fba142ed7849",
        "colab": {
          "base_uri": "https://localhost:8080/",
          "height": 287
        }
      },
      "source": [
        "# Отсортировать по столбцу Cost по убыванию\n",
        "df_filtered.sort_values(by='Cost', ascending=False)"
      ],
      "execution_count": 37,
      "outputs": [
        {
          "output_type": "execute_result",
          "data": {
            "text/html": [
              "<div>\n",
              "<style scoped>\n",
              "    .dataframe tbody tr th:only-of-type {\n",
              "        vertical-align: middle;\n",
              "    }\n",
              "\n",
              "    .dataframe tbody tr th {\n",
              "        vertical-align: top;\n",
              "    }\n",
              "\n",
              "    .dataframe thead th {\n",
              "        text-align: right;\n",
              "    }\n",
              "</style>\n",
              "<table border=\"1\" class=\"dataframe\">\n",
              "  <thead>\n",
              "    <tr style=\"text-align: right;\">\n",
              "      <th></th>\n",
              "      <th>Year</th>\n",
              "      <th>Month</th>\n",
              "      <th>ID</th>\n",
              "      <th>Product</th>\n",
              "      <th>Amount</th>\n",
              "      <th>Price</th>\n",
              "      <th>Total</th>\n",
              "      <th>Cost</th>\n",
              "    </tr>\n",
              "  </thead>\n",
              "  <tbody>\n",
              "    <tr>\n",
              "      <th>54</th>\n",
              "      <td>2017</td>\n",
              "      <td>12</td>\n",
              "      <td>t055</td>\n",
              "      <td>_8</td>\n",
              "      <td>2</td>\n",
              "      <td>3760</td>\n",
              "      <td>7520</td>\n",
              "      <td>2400</td>\n",
              "    </tr>\n",
              "    <tr>\n",
              "      <th>12</th>\n",
              "      <td>2017</td>\n",
              "      <td>4</td>\n",
              "      <td>t013</td>\n",
              "      <td>_8</td>\n",
              "      <td>3</td>\n",
              "      <td>3760</td>\n",
              "      <td>11280</td>\n",
              "      <td>1200</td>\n",
              "    </tr>\n",
              "    <tr>\n",
              "      <th>8</th>\n",
              "      <td>2017</td>\n",
              "      <td>4</td>\n",
              "      <td>t009</td>\n",
              "      <td>_8</td>\n",
              "      <td>3</td>\n",
              "      <td>3760</td>\n",
              "      <td>11280</td>\n",
              "      <td>1000</td>\n",
              "    </tr>\n",
              "    <tr>\n",
              "      <th>26</th>\n",
              "      <td>2017</td>\n",
              "      <td>6</td>\n",
              "      <td>t027</td>\n",
              "      <td>_8</td>\n",
              "      <td>3</td>\n",
              "      <td>3760</td>\n",
              "      <td>11280</td>\n",
              "      <td>800</td>\n",
              "    </tr>\n",
              "    <tr>\n",
              "      <th>41</th>\n",
              "      <td>2017</td>\n",
              "      <td>10</td>\n",
              "      <td>t042</td>\n",
              "      <td>_8</td>\n",
              "      <td>3</td>\n",
              "      <td>3760</td>\n",
              "      <td>11280</td>\n",
              "      <td>800</td>\n",
              "    </tr>\n",
              "    <tr>\n",
              "      <th>58</th>\n",
              "      <td>2017</td>\n",
              "      <td>12</td>\n",
              "      <td>t059</td>\n",
              "      <td>_8</td>\n",
              "      <td>3</td>\n",
              "      <td>3760</td>\n",
              "      <td>11280</td>\n",
              "      <td>800</td>\n",
              "    </tr>\n",
              "    <tr>\n",
              "      <th>37</th>\n",
              "      <td>2017</td>\n",
              "      <td>9</td>\n",
              "      <td>t038</td>\n",
              "      <td>_8</td>\n",
              "      <td>1</td>\n",
              "      <td>3760</td>\n",
              "      <td>3760</td>\n",
              "      <td>700</td>\n",
              "    </tr>\n",
              "    <tr>\n",
              "      <th>22</th>\n",
              "      <td>2017</td>\n",
              "      <td>6</td>\n",
              "      <td>t023</td>\n",
              "      <td>_8</td>\n",
              "      <td>10</td>\n",
              "      <td>3760</td>\n",
              "      <td>37600</td>\n",
              "      <td>200</td>\n",
              "    </tr>\n",
              "  </tbody>\n",
              "</table>\n",
              "</div>"
            ],
            "text/plain": [
              "    Year  Month    ID Product  Amount  Price  Total  Cost\n",
              "54  2017     12  t055      _8       2   3760   7520  2400\n",
              "12  2017      4  t013      _8       3   3760  11280  1200\n",
              "8   2017      4  t009      _8       3   3760  11280  1000\n",
              "26  2017      6  t027      _8       3   3760  11280   800\n",
              "41  2017     10  t042      _8       3   3760  11280   800\n",
              "58  2017     12  t059      _8       3   3760  11280   800\n",
              "37  2017      9  t038      _8       1   3760   3760   700\n",
              "22  2017      6  t023      _8      10   3760  37600   200"
            ]
          },
          "metadata": {
            "tags": []
          },
          "execution_count": 37
        }
      ]
    },
    {
      "cell_type": "markdown",
      "metadata": {
        "id": "e1FTo7B-IwlT",
        "colab_type": "text"
      },
      "source": [
        "# Группировки"
      ]
    },
    {
      "cell_type": "code",
      "metadata": {
        "ExecuteTime": {
          "end_time": "2019-06-07T21:04:32.459041Z",
          "start_time": "2019-06-07T21:04:31.976772Z"
        },
        "id": "uac46aS9IwlU",
        "colab_type": "code",
        "colab": {}
      },
      "source": [
        "data = pd.read_csv('power.csv')"
      ],
      "execution_count": 0,
      "outputs": []
    },
    {
      "cell_type": "code",
      "metadata": {
        "ExecuteTime": {
          "end_time": "2019-06-07T21:04:38.581665Z",
          "start_time": "2019-06-07T21:04:38.573547Z"
        },
        "scrolled": true,
        "id": "8B1D9MMCIwlW",
        "colab_type": "code",
        "outputId": "d6ab7d87-5317-468e-f9db-08a7919a7858",
        "colab": {
          "base_uri": "https://localhost:8080/",
          "height": 197
        }
      },
      "source": [
        "data.head()"
      ],
      "execution_count": 38,
      "outputs": [
        {
          "output_type": "execute_result",
          "data": {
            "text/html": [
              "<div>\n",
              "<style scoped>\n",
              "    .dataframe tbody tr th:only-of-type {\n",
              "        vertical-align: middle;\n",
              "    }\n",
              "\n",
              "    .dataframe tbody tr th {\n",
              "        vertical-align: top;\n",
              "    }\n",
              "\n",
              "    .dataframe thead th {\n",
              "        text-align: right;\n",
              "    }\n",
              "</style>\n",
              "<table border=\"1\" class=\"dataframe\">\n",
              "  <thead>\n",
              "    <tr style=\"text-align: right;\">\n",
              "      <th></th>\n",
              "      <th>country</th>\n",
              "      <th>year</th>\n",
              "      <th>quantity</th>\n",
              "      <th>category</th>\n",
              "    </tr>\n",
              "  </thead>\n",
              "  <tbody>\n",
              "    <tr>\n",
              "      <th>0</th>\n",
              "      <td>Austria</td>\n",
              "      <td>1996</td>\n",
              "      <td>5.0</td>\n",
              "      <td>1</td>\n",
              "    </tr>\n",
              "    <tr>\n",
              "      <th>1</th>\n",
              "      <td>Austria</td>\n",
              "      <td>1995</td>\n",
              "      <td>17.0</td>\n",
              "      <td>1</td>\n",
              "    </tr>\n",
              "    <tr>\n",
              "      <th>2</th>\n",
              "      <td>Belgium</td>\n",
              "      <td>2014</td>\n",
              "      <td>0.0</td>\n",
              "      <td>1</td>\n",
              "    </tr>\n",
              "    <tr>\n",
              "      <th>3</th>\n",
              "      <td>Belgium</td>\n",
              "      <td>2013</td>\n",
              "      <td>0.0</td>\n",
              "      <td>1</td>\n",
              "    </tr>\n",
              "    <tr>\n",
              "      <th>4</th>\n",
              "      <td>Belgium</td>\n",
              "      <td>2012</td>\n",
              "      <td>35.0</td>\n",
              "      <td>1</td>\n",
              "    </tr>\n",
              "  </tbody>\n",
              "</table>\n",
              "</div>"
            ],
            "text/plain": [
              "   country  year  quantity  category\n",
              "0  Austria  1996       5.0         1\n",
              "1  Austria  1995      17.0         1\n",
              "2  Belgium  2014       0.0         1\n",
              "3  Belgium  2013       0.0         1\n",
              "4  Belgium  2012      35.0         1"
            ]
          },
          "metadata": {
            "tags": []
          },
          "execution_count": 38
        }
      ]
    },
    {
      "cell_type": "code",
      "metadata": {
        "ExecuteTime": {
          "end_time": "2019-06-07T21:05:08.220270Z",
          "start_time": "2019-06-07T21:05:08.200587Z"
        },
        "id": "2CRjQs7iIwla",
        "colab_type": "code",
        "outputId": "ad3e86c4-f8e6-4d17-b673-2c9d87f91508",
        "colab": {
          "base_uri": "https://localhost:8080/",
          "height": 123
        }
      },
      "source": [
        "data['year'].value_counts().head()"
      ],
      "execution_count": 39,
      "outputs": [
        {
          "output_type": "execute_result",
          "data": {
            "text/plain": [
              "2014    56264\n",
              "2013    56109\n",
              "2012    55838\n",
              "2011    55214\n",
              "2010    54544\n",
              "Name: year, dtype: int64"
            ]
          },
          "metadata": {
            "tags": []
          },
          "execution_count": 39
        }
      ]
    },
    {
      "cell_type": "code",
      "metadata": {
        "ExecuteTime": {
          "end_time": "2019-06-07T21:05:23.999825Z",
          "start_time": "2019-06-07T21:05:23.918559Z"
        },
        "scrolled": true,
        "id": "tGkg69HrIwld",
        "colab_type": "code",
        "outputId": "b8b3549d-31f8-44d6-a219-fe1b42437fb1",
        "colab": {
          "base_uri": "https://localhost:8080/",
          "height": 227
        }
      },
      "source": [
        "data.groupby('year').count().head()"
      ],
      "execution_count": 40,
      "outputs": [
        {
          "output_type": "execute_result",
          "data": {
            "text/html": [
              "<div>\n",
              "<style scoped>\n",
              "    .dataframe tbody tr th:only-of-type {\n",
              "        vertical-align: middle;\n",
              "    }\n",
              "\n",
              "    .dataframe tbody tr th {\n",
              "        vertical-align: top;\n",
              "    }\n",
              "\n",
              "    .dataframe thead th {\n",
              "        text-align: right;\n",
              "    }\n",
              "</style>\n",
              "<table border=\"1\" class=\"dataframe\">\n",
              "  <thead>\n",
              "    <tr style=\"text-align: right;\">\n",
              "      <th></th>\n",
              "      <th>country</th>\n",
              "      <th>quantity</th>\n",
              "      <th>category</th>\n",
              "    </tr>\n",
              "    <tr>\n",
              "      <th>year</th>\n",
              "      <th></th>\n",
              "      <th></th>\n",
              "      <th></th>\n",
              "    </tr>\n",
              "  </thead>\n",
              "  <tbody>\n",
              "    <tr>\n",
              "      <th>1990</th>\n",
              "      <td>36305</td>\n",
              "      <td>36305</td>\n",
              "      <td>36305</td>\n",
              "    </tr>\n",
              "    <tr>\n",
              "      <th>1991</th>\n",
              "      <td>36280</td>\n",
              "      <td>36280</td>\n",
              "      <td>36280</td>\n",
              "    </tr>\n",
              "    <tr>\n",
              "      <th>1992</th>\n",
              "      <td>41753</td>\n",
              "      <td>41753</td>\n",
              "      <td>41753</td>\n",
              "    </tr>\n",
              "    <tr>\n",
              "      <th>1993</th>\n",
              "      <td>43112</td>\n",
              "      <td>43112</td>\n",
              "      <td>43112</td>\n",
              "    </tr>\n",
              "    <tr>\n",
              "      <th>1994</th>\n",
              "      <td>42787</td>\n",
              "      <td>42787</td>\n",
              "      <td>42787</td>\n",
              "    </tr>\n",
              "  </tbody>\n",
              "</table>\n",
              "</div>"
            ],
            "text/plain": [
              "      country  quantity  category\n",
              "year                             \n",
              "1990    36305     36305     36305\n",
              "1991    36280     36280     36280\n",
              "1992    41753     41753     41753\n",
              "1993    43112     43112     43112\n",
              "1994    42787     42787     42787"
            ]
          },
          "metadata": {
            "tags": []
          },
          "execution_count": 40
        }
      ]
    },
    {
      "cell_type": "code",
      "metadata": {
        "ExecuteTime": {
          "end_time": "2019-06-07T21:06:25.926587Z",
          "start_time": "2019-06-07T21:06:25.844016Z"
        },
        "id": "Gj0gCFIUIwli",
        "colab_type": "code",
        "outputId": "0e1d9216-fa58-4d56-8d51-469ab370e268",
        "colab": {
          "base_uri": "https://localhost:8080/",
          "height": 227
        }
      },
      "source": [
        "data.groupby('year').count()[['quantity', 'country']].head()"
      ],
      "execution_count": 41,
      "outputs": [
        {
          "output_type": "execute_result",
          "data": {
            "text/html": [
              "<div>\n",
              "<style scoped>\n",
              "    .dataframe tbody tr th:only-of-type {\n",
              "        vertical-align: middle;\n",
              "    }\n",
              "\n",
              "    .dataframe tbody tr th {\n",
              "        vertical-align: top;\n",
              "    }\n",
              "\n",
              "    .dataframe thead th {\n",
              "        text-align: right;\n",
              "    }\n",
              "</style>\n",
              "<table border=\"1\" class=\"dataframe\">\n",
              "  <thead>\n",
              "    <tr style=\"text-align: right;\">\n",
              "      <th></th>\n",
              "      <th>quantity</th>\n",
              "      <th>country</th>\n",
              "    </tr>\n",
              "    <tr>\n",
              "      <th>year</th>\n",
              "      <th></th>\n",
              "      <th></th>\n",
              "    </tr>\n",
              "  </thead>\n",
              "  <tbody>\n",
              "    <tr>\n",
              "      <th>1990</th>\n",
              "      <td>36305</td>\n",
              "      <td>36305</td>\n",
              "    </tr>\n",
              "    <tr>\n",
              "      <th>1991</th>\n",
              "      <td>36280</td>\n",
              "      <td>36280</td>\n",
              "    </tr>\n",
              "    <tr>\n",
              "      <th>1992</th>\n",
              "      <td>41753</td>\n",
              "      <td>41753</td>\n",
              "    </tr>\n",
              "    <tr>\n",
              "      <th>1993</th>\n",
              "      <td>43112</td>\n",
              "      <td>43112</td>\n",
              "    </tr>\n",
              "    <tr>\n",
              "      <th>1994</th>\n",
              "      <td>42787</td>\n",
              "      <td>42787</td>\n",
              "    </tr>\n",
              "  </tbody>\n",
              "</table>\n",
              "</div>"
            ],
            "text/plain": [
              "      quantity  country\n",
              "year                   \n",
              "1990     36305    36305\n",
              "1991     36280    36280\n",
              "1992     41753    41753\n",
              "1993     43112    43112\n",
              "1994     42787    42787"
            ]
          },
          "metadata": {
            "tags": []
          },
          "execution_count": 41
        }
      ]
    },
    {
      "cell_type": "code",
      "metadata": {
        "ExecuteTime": {
          "end_time": "2019-06-07T21:06:53.164811Z",
          "start_time": "2019-06-07T21:06:52.651109Z"
        },
        "scrolled": true,
        "id": "Evs5nZh1Iwln",
        "colab_type": "code",
        "outputId": "dad547d4-d006-47e2-cd63-cc2802370530",
        "colab": {
          "base_uri": "https://localhost:8080/",
          "height": 227
        }
      },
      "source": [
        "data.groupby('year').max()[['quantity']].head()"
      ],
      "execution_count": 42,
      "outputs": [
        {
          "output_type": "execute_result",
          "data": {
            "text/html": [
              "<div>\n",
              "<style scoped>\n",
              "    .dataframe tbody tr th:only-of-type {\n",
              "        vertical-align: middle;\n",
              "    }\n",
              "\n",
              "    .dataframe tbody tr th {\n",
              "        vertical-align: top;\n",
              "    }\n",
              "\n",
              "    .dataframe thead th {\n",
              "        text-align: right;\n",
              "    }\n",
              "</style>\n",
              "<table border=\"1\" class=\"dataframe\">\n",
              "  <thead>\n",
              "    <tr style=\"text-align: right;\">\n",
              "      <th></th>\n",
              "      <th>quantity</th>\n",
              "    </tr>\n",
              "    <tr>\n",
              "      <th>year</th>\n",
              "      <th></th>\n",
              "    </tr>\n",
              "  </thead>\n",
              "  <tbody>\n",
              "    <tr>\n",
              "      <th>1990</th>\n",
              "      <td>3.257000e+09</td>\n",
              "    </tr>\n",
              "    <tr>\n",
              "      <th>1991</th>\n",
              "      <td>5.000000e+08</td>\n",
              "    </tr>\n",
              "    <tr>\n",
              "      <th>1992</th>\n",
              "      <td>5.000000e+08</td>\n",
              "    </tr>\n",
              "    <tr>\n",
              "      <th>1993</th>\n",
              "      <td>1.879251e+09</td>\n",
              "    </tr>\n",
              "    <tr>\n",
              "      <th>1994</th>\n",
              "      <td>5.000000e+08</td>\n",
              "    </tr>\n",
              "  </tbody>\n",
              "</table>\n",
              "</div>"
            ],
            "text/plain": [
              "          quantity\n",
              "year              \n",
              "1990  3.257000e+09\n",
              "1991  5.000000e+08\n",
              "1992  5.000000e+08\n",
              "1993  1.879251e+09\n",
              "1994  5.000000e+08"
            ]
          },
          "metadata": {
            "tags": []
          },
          "execution_count": 42
        }
      ]
    },
    {
      "cell_type": "code",
      "metadata": {
        "ExecuteTime": {
          "end_time": "2019-06-07T21:06:57.142487Z",
          "start_time": "2019-06-07T21:06:57.090958Z"
        },
        "scrolled": false,
        "id": "dp-w7t0DIwlu",
        "colab_type": "code",
        "outputId": "5fb69703-829b-4f59-e0e1-e08d7dc65ca8",
        "colab": {
          "base_uri": "https://localhost:8080/",
          "height": 227
        }
      },
      "source": [
        "data.groupby('year').sum()[['quantity']].head()"
      ],
      "execution_count": 43,
      "outputs": [
        {
          "output_type": "execute_result",
          "data": {
            "text/html": [
              "<div>\n",
              "<style scoped>\n",
              "    .dataframe tbody tr th:only-of-type {\n",
              "        vertical-align: middle;\n",
              "    }\n",
              "\n",
              "    .dataframe tbody tr th {\n",
              "        vertical-align: top;\n",
              "    }\n",
              "\n",
              "    .dataframe thead th {\n",
              "        text-align: right;\n",
              "    }\n",
              "</style>\n",
              "<table border=\"1\" class=\"dataframe\">\n",
              "  <thead>\n",
              "    <tr style=\"text-align: right;\">\n",
              "      <th></th>\n",
              "      <th>quantity</th>\n",
              "    </tr>\n",
              "    <tr>\n",
              "      <th>year</th>\n",
              "      <th></th>\n",
              "    </tr>\n",
              "  </thead>\n",
              "  <tbody>\n",
              "    <tr>\n",
              "      <th>1990</th>\n",
              "      <td>2.781426e+10</td>\n",
              "    </tr>\n",
              "    <tr>\n",
              "      <th>1991</th>\n",
              "      <td>2.466542e+09</td>\n",
              "    </tr>\n",
              "    <tr>\n",
              "      <th>1992</th>\n",
              "      <td>2.141948e+09</td>\n",
              "    </tr>\n",
              "    <tr>\n",
              "      <th>1993</th>\n",
              "      <td>1.818041e+10</td>\n",
              "    </tr>\n",
              "    <tr>\n",
              "      <th>1994</th>\n",
              "      <td>2.286637e+09</td>\n",
              "    </tr>\n",
              "  </tbody>\n",
              "</table>\n",
              "</div>"
            ],
            "text/plain": [
              "          quantity\n",
              "year              \n",
              "1990  2.781426e+10\n",
              "1991  2.466542e+09\n",
              "1992  2.141948e+09\n",
              "1993  1.818041e+10\n",
              "1994  2.286637e+09"
            ]
          },
          "metadata": {
            "tags": []
          },
          "execution_count": 43
        }
      ]
    },
    {
      "cell_type": "markdown",
      "metadata": {
        "id": "NT6iB9jjIwly",
        "colab_type": "text"
      },
      "source": [
        "## Практика\n",
        "\n",
        "Высчитайте общее количество заказов по месяцам в файле transactions"
      ]
    },
    {
      "cell_type": "code",
      "metadata": {
        "id": "tikMc52mIwl0",
        "colab_type": "code",
        "outputId": "5d5a5b47-20b9-42c1-a7d4-9942d4d96c51",
        "colab": {
          "base_uri": "https://localhost:8080/",
          "height": 197
        }
      },
      "source": [
        "df = pd.read_csv('transactions.csv')\n",
        "df.head()"
      ],
      "execution_count": 44,
      "outputs": [
        {
          "output_type": "execute_result",
          "data": {
            "text/html": [
              "<div>\n",
              "<style scoped>\n",
              "    .dataframe tbody tr th:only-of-type {\n",
              "        vertical-align: middle;\n",
              "    }\n",
              "\n",
              "    .dataframe tbody tr th {\n",
              "        vertical-align: top;\n",
              "    }\n",
              "\n",
              "    .dataframe thead th {\n",
              "        text-align: right;\n",
              "    }\n",
              "</style>\n",
              "<table border=\"1\" class=\"dataframe\">\n",
              "  <thead>\n",
              "    <tr style=\"text-align: right;\">\n",
              "      <th></th>\n",
              "      <th>Year</th>\n",
              "      <th>Month</th>\n",
              "      <th>ID</th>\n",
              "      <th>Product</th>\n",
              "      <th>Amount</th>\n",
              "      <th>Price</th>\n",
              "      <th>Total</th>\n",
              "      <th>Cost</th>\n",
              "    </tr>\n",
              "  </thead>\n",
              "  <tbody>\n",
              "    <tr>\n",
              "      <th>0</th>\n",
              "      <td>2017</td>\n",
              "      <td>1</td>\n",
              "      <td>t001</td>\n",
              "      <td>A1</td>\n",
              "      <td>7</td>\n",
              "      <td>2904</td>\n",
              "      <td>20328</td>\n",
              "      <td>1200</td>\n",
              "    </tr>\n",
              "    <tr>\n",
              "      <th>1</th>\n",
              "      <td>2017</td>\n",
              "      <td>1</td>\n",
              "      <td>t002</td>\n",
              "      <td>A2</td>\n",
              "      <td>2</td>\n",
              "      <td>1896</td>\n",
              "      <td>3792</td>\n",
              "      <td>1100</td>\n",
              "    </tr>\n",
              "    <tr>\n",
              "      <th>2</th>\n",
              "      <td>2017</td>\n",
              "      <td>2</td>\n",
              "      <td>t003</td>\n",
              "      <td>A1</td>\n",
              "      <td>5</td>\n",
              "      <td>2904</td>\n",
              "      <td>14520</td>\n",
              "      <td>1200</td>\n",
              "    </tr>\n",
              "    <tr>\n",
              "      <th>3</th>\n",
              "      <td>2017</td>\n",
              "      <td>2</td>\n",
              "      <td>t004</td>\n",
              "      <td>A4</td>\n",
              "      <td>1</td>\n",
              "      <td>8618</td>\n",
              "      <td>8618</td>\n",
              "      <td>4200</td>\n",
              "    </tr>\n",
              "    <tr>\n",
              "      <th>4</th>\n",
              "      <td>2017</td>\n",
              "      <td>2</td>\n",
              "      <td>t005</td>\n",
              "      <td>A5</td>\n",
              "      <td>3</td>\n",
              "      <td>5175</td>\n",
              "      <td>15525</td>\n",
              "      <td>500</td>\n",
              "    </tr>\n",
              "  </tbody>\n",
              "</table>\n",
              "</div>"
            ],
            "text/plain": [
              "   Year  Month    ID Product  Amount  Price  Total  Cost\n",
              "0  2017      1  t001      A1       7   2904  20328  1200\n",
              "1  2017      1  t002      A2       2   1896   3792  1100\n",
              "2  2017      2  t003      A1       5   2904  14520  1200\n",
              "3  2017      2  t004      A4       1   8618   8618  4200\n",
              "4  2017      2  t005      A5       3   5175  15525   500"
            ]
          },
          "metadata": {
            "tags": []
          },
          "execution_count": 44
        }
      ]
    },
    {
      "cell_type": "code",
      "metadata": {
        "id": "PZceAyjKIwl2",
        "colab_type": "code",
        "outputId": "3035212b-59e2-438e-e599-242d5e9ac1f1",
        "colab": {
          "base_uri": "https://localhost:8080/",
          "height": 437
        }
      },
      "source": [
        "df.groupby(['Year', 'Month']).sum()[['Amount']]"
      ],
      "execution_count": 45,
      "outputs": [
        {
          "output_type": "execute_result",
          "data": {
            "text/html": [
              "<div>\n",
              "<style scoped>\n",
              "    .dataframe tbody tr th:only-of-type {\n",
              "        vertical-align: middle;\n",
              "    }\n",
              "\n",
              "    .dataframe tbody tr th {\n",
              "        vertical-align: top;\n",
              "    }\n",
              "\n",
              "    .dataframe thead th {\n",
              "        text-align: right;\n",
              "    }\n",
              "</style>\n",
              "<table border=\"1\" class=\"dataframe\">\n",
              "  <thead>\n",
              "    <tr style=\"text-align: right;\">\n",
              "      <th></th>\n",
              "      <th></th>\n",
              "      <th>Amount</th>\n",
              "    </tr>\n",
              "    <tr>\n",
              "      <th>Year</th>\n",
              "      <th>Month</th>\n",
              "      <th></th>\n",
              "    </tr>\n",
              "  </thead>\n",
              "  <tbody>\n",
              "    <tr>\n",
              "      <th rowspan=\"12\" valign=\"top\">2017</th>\n",
              "      <th>1</th>\n",
              "      <td>9</td>\n",
              "    </tr>\n",
              "    <tr>\n",
              "      <th>2</th>\n",
              "      <td>13</td>\n",
              "    </tr>\n",
              "    <tr>\n",
              "      <th>3</th>\n",
              "      <td>8</td>\n",
              "    </tr>\n",
              "    <tr>\n",
              "      <th>4</th>\n",
              "      <td>18</td>\n",
              "    </tr>\n",
              "    <tr>\n",
              "      <th>5</th>\n",
              "      <td>33</td>\n",
              "    </tr>\n",
              "    <tr>\n",
              "      <th>6</th>\n",
              "      <td>19</td>\n",
              "    </tr>\n",
              "    <tr>\n",
              "      <th>7</th>\n",
              "      <td>15</td>\n",
              "    </tr>\n",
              "    <tr>\n",
              "      <th>8</th>\n",
              "      <td>5</td>\n",
              "    </tr>\n",
              "    <tr>\n",
              "      <th>9</th>\n",
              "      <td>20</td>\n",
              "    </tr>\n",
              "    <tr>\n",
              "      <th>10</th>\n",
              "      <td>14</td>\n",
              "    </tr>\n",
              "    <tr>\n",
              "      <th>11</th>\n",
              "      <td>35</td>\n",
              "    </tr>\n",
              "    <tr>\n",
              "      <th>12</th>\n",
              "      <td>30</td>\n",
              "    </tr>\n",
              "  </tbody>\n",
              "</table>\n",
              "</div>"
            ],
            "text/plain": [
              "            Amount\n",
              "Year Month        \n",
              "2017 1           9\n",
              "     2          13\n",
              "     3           8\n",
              "     4          18\n",
              "     5          33\n",
              "     6          19\n",
              "     7          15\n",
              "     8           5\n",
              "     9          20\n",
              "     10         14\n",
              "     11         35\n",
              "     12         30"
            ]
          },
          "metadata": {
            "tags": []
          },
          "execution_count": 45
        }
      ]
    },
    {
      "cell_type": "markdown",
      "metadata": {
        "id": "IH57plvUIwl7",
        "colab_type": "text"
      },
      "source": [
        "# <center> Визуализация на Python\n",
        "\n",
        "\n",
        "В начале как всегда настроим окружение: импортируем все необходимые библиотеки и немного настроим дефолтное отображение картинок."
      ]
    },
    {
      "cell_type": "code",
      "metadata": {
        "ExecuteTime": {
          "end_time": "2019-06-07T20:59:40.163227Z",
          "start_time": "2019-06-07T20:59:39.808096Z"
        },
        "id": "121xKMWYIwl8",
        "colab_type": "code",
        "colab": {}
      },
      "source": [
        "#увеличим дефолтный размер графиков\n",
        "from pylab import rcParams\n",
        "rcParams['figure.figsize'] = 12,9\n",
        "\n",
        "# импортируем нужные библиотеки\n",
        "import pandas as pd\n",
        "import matplotlib.pyplot as plt"
      ],
      "execution_count": 0,
      "outputs": []
    },
    {
      "cell_type": "markdown",
      "metadata": {
        "id": "8WpLMAB8Iwl9",
        "colab_type": "text"
      },
      "source": [
        "Для начала построим примитивную линейную диаграмму при помощи функции `plot`"
      ]
    },
    {
      "cell_type": "code",
      "metadata": {
        "ExecuteTime": {
          "end_time": "2019-06-07T20:59:41.229502Z",
          "start_time": "2019-06-07T20:59:40.778565Z"
        },
        "id": "yhaliLXAIwl-",
        "colab_type": "code",
        "colab": {}
      },
      "source": [
        "# Импортируем dataset\n",
        "data = pd.read_csv('power.csv')"
      ],
      "execution_count": 0,
      "outputs": []
    },
    {
      "cell_type": "code",
      "metadata": {
        "ExecuteTime": {
          "end_time": "2019-06-07T20:59:41.242331Z",
          "start_time": "2019-06-07T20:59:41.231750Z"
        },
        "id": "nFyaVPjWIwl_",
        "colab_type": "code",
        "outputId": "d5a509a8-f21a-4b3b-d3b7-dda3826e67a3",
        "colab": {
          "base_uri": "https://localhost:8080/",
          "height": 204
        }
      },
      "source": [
        "data.head()"
      ],
      "execution_count": 0,
      "outputs": [
        {
          "output_type": "execute_result",
          "data": {
            "text/html": [
              "<div>\n",
              "<style scoped>\n",
              "    .dataframe tbody tr th:only-of-type {\n",
              "        vertical-align: middle;\n",
              "    }\n",
              "\n",
              "    .dataframe tbody tr th {\n",
              "        vertical-align: top;\n",
              "    }\n",
              "\n",
              "    .dataframe thead th {\n",
              "        text-align: right;\n",
              "    }\n",
              "</style>\n",
              "<table border=\"1\" class=\"dataframe\">\n",
              "  <thead>\n",
              "    <tr style=\"text-align: right;\">\n",
              "      <th></th>\n",
              "      <th>country</th>\n",
              "      <th>year</th>\n",
              "      <th>quantity</th>\n",
              "      <th>category</th>\n",
              "    </tr>\n",
              "  </thead>\n",
              "  <tbody>\n",
              "    <tr>\n",
              "      <th>0</th>\n",
              "      <td>Austria</td>\n",
              "      <td>1996</td>\n",
              "      <td>5.0</td>\n",
              "      <td>1</td>\n",
              "    </tr>\n",
              "    <tr>\n",
              "      <th>1</th>\n",
              "      <td>Austria</td>\n",
              "      <td>1995</td>\n",
              "      <td>17.0</td>\n",
              "      <td>1</td>\n",
              "    </tr>\n",
              "    <tr>\n",
              "      <th>2</th>\n",
              "      <td>Belgium</td>\n",
              "      <td>2014</td>\n",
              "      <td>0.0</td>\n",
              "      <td>1</td>\n",
              "    </tr>\n",
              "    <tr>\n",
              "      <th>3</th>\n",
              "      <td>Belgium</td>\n",
              "      <td>2013</td>\n",
              "      <td>0.0</td>\n",
              "      <td>1</td>\n",
              "    </tr>\n",
              "    <tr>\n",
              "      <th>4</th>\n",
              "      <td>Belgium</td>\n",
              "      <td>2012</td>\n",
              "      <td>35.0</td>\n",
              "      <td>1</td>\n",
              "    </tr>\n",
              "  </tbody>\n",
              "</table>\n",
              "</div>"
            ],
            "text/plain": [
              "   country  year  quantity  category\n",
              "0  Austria  1996       5.0         1\n",
              "1  Austria  1995      17.0         1\n",
              "2  Belgium  2014       0.0         1\n",
              "3  Belgium  2013       0.0         1\n",
              "4  Belgium  2012      35.0         1"
            ]
          },
          "metadata": {
            "tags": []
          },
          "execution_count": 59
        }
      ]
    },
    {
      "cell_type": "code",
      "metadata": {
        "id": "TmL4Hi6GZlCT",
        "colab_type": "code",
        "outputId": "01aee77d-191d-4f11-c9d8-e78961572a18",
        "colab": {
          "base_uri": "https://localhost:8080/",
          "height": 496
        }
      },
      "source": [
        "data.groupby('year')['quantity'].sum()"
      ],
      "execution_count": 47,
      "outputs": [
        {
          "output_type": "execute_result",
          "data": {
            "text/plain": [
              "year\n",
              "1990    2.781426e+10\n",
              "1991    2.466542e+09\n",
              "1992    2.141948e+09\n",
              "1993    1.818041e+10\n",
              "1994    2.286637e+09\n",
              "1995    1.899373e+09\n",
              "1996    1.276732e+09\n",
              "1997    2.368193e+10\n",
              "1998    8.729464e+09\n",
              "1999    7.766232e+09\n",
              "2000    7.004882e+09\n",
              "2001    4.047526e+09\n",
              "2002    3.812004e+09\n",
              "2003    1.407111e+09\n",
              "2004    1.449883e+09\n",
              "2005    1.623458e+10\n",
              "2006    1.571404e+09\n",
              "2007    9.477595e+09\n",
              "2008    1.288886e+10\n",
              "2009    1.623413e+09\n",
              "2010    1.731053e+09\n",
              "2011    1.796319e+09\n",
              "2012    1.812444e+09\n",
              "2013    1.842950e+09\n",
              "2014    5.623608e+10\n",
              "Name: quantity, dtype: float64"
            ]
          },
          "metadata": {
            "tags": []
          },
          "execution_count": 47
        }
      ]
    },
    {
      "cell_type": "code",
      "metadata": {
        "ExecuteTime": {
          "end_time": "2019-06-07T20:59:41.752611Z",
          "start_time": "2019-06-07T20:59:41.619080Z"
        },
        "id": "D96kGMMUIwmC",
        "colab_type": "code",
        "outputId": "f704e41f-e7a0-4281-a8f9-cdc6e06baf72",
        "colab": {
          "base_uri": "https://localhost:8080/",
          "height": 580
        }
      },
      "source": [
        "data.groupby('year')['quantity'].sum().plot()"
      ],
      "execution_count": 48,
      "outputs": [
        {
          "output_type": "execute_result",
          "data": {
            "text/plain": [
              "<matplotlib.axes._subplots.AxesSubplot at 0x7f97e37b48d0>"
            ]
          },
          "metadata": {
            "tags": []
          },
          "execution_count": 48
        },
        {
          "output_type": "display_data",
          "data": {
            "image/png": "[encoded data removed]",
            "text/plain": [
              "<Figure size 864x648 with 1 Axes>"
            ]
          },
          "metadata": {
            "tags": []
          }
        }
      ]
    },
    {
      "cell_type": "code",
      "metadata": {
        "ExecuteTime": {
          "end_time": "2019-06-07T20:59:42.190002Z",
          "start_time": "2019-06-07T20:59:42.038582Z"
        },
        "id": "Wu0hu_htIwmE",
        "colab_type": "code",
        "outputId": "d98ca77b-536c-4eee-8275-3125f118f0ad",
        "colab": {
          "base_uri": "https://localhost:8080/",
          "height": 558
        }
      },
      "source": [
        "data['category'].hist()"
      ],
      "execution_count": 49,
      "outputs": [
        {
          "output_type": "execute_result",
          "data": {
            "text/plain": [
              "<matplotlib.axes._subplots.AxesSubplot at 0x7f97e0eea4e0>"
            ]
          },
          "metadata": {
            "tags": []
          },
          "execution_count": 49
        },
        {
          "output_type": "display_data",
          "data": {
            "image/png": "[encoded data removed]",
            "text/plain": [
              "<Figure size 864x648 with 1 Axes>"
            ]
          },
          "metadata": {
            "tags": []
          }
        }
      ]
    },
    {
      "cell_type": "code",
      "metadata": {
        "ExecuteTime": {
          "end_time": "2019-06-07T20:59:42.775497Z",
          "start_time": "2019-06-07T20:59:42.513873Z"
        },
        "scrolled": true,
        "id": "1Jp8pi7XIwmI",
        "colab_type": "code",
        "outputId": "24b4765c-5686-4589-edf7-ace4e4fbf656",
        "colab": {
          "base_uri": "https://localhost:8080/",
          "height": 558
        }
      },
      "source": [
        "data['category'].hist(bins=len(data['category'].unique()))"
      ],
      "execution_count": 50,
      "outputs": [
        {
          "output_type": "execute_result",
          "data": {
            "text/plain": [
              "<matplotlib.axes._subplots.AxesSubplot at 0x7f97e0e5d630>"
            ]
          },
          "metadata": {
            "tags": []
          },
          "execution_count": 50
        },
        {
          "output_type": "display_data",
          "data": {
            "image/png": "[encoded data removed]",
            "text/plain": [
              "<Figure size 864x648 with 1 Axes>"
            ]
          },
          "metadata": {
            "tags": []
          }
        }
      ]
    },
    {
      "cell_type": "markdown",
      "metadata": {
        "ExecuteTime": {
          "end_time": "2019-06-07T21:08:38.614650Z",
          "start_time": "2019-06-07T21:08:38.610105Z"
        },
        "id": "jhm69mCHIwmK",
        "colab_type": "text"
      },
      "source": [
        "## Практика\n",
        "\n",
        "Постройте график общего количество заказов по месяцам в файле transactions"
      ]
    },
    {
      "cell_type": "code",
      "metadata": {
        "id": "hMi8F7VNIwmL",
        "colab_type": "code",
        "outputId": "f56708d4-235f-4384-a1af-ce5f7074ebc1",
        "colab": {
          "base_uri": "https://localhost:8080/",
          "height": 572
        }
      },
      "source": [
        "df.groupby(['Year', 'Month']).sum()[['Amount']].plot()"
      ],
      "execution_count": 51,
      "outputs": [
        {
          "output_type": "execute_result",
          "data": {
            "text/plain": [
              "<matplotlib.axes._subplots.AxesSubplot at 0x7f97e0dadba8>"
            ]
          },
          "metadata": {
            "tags": []
          },
          "execution_count": 51
        },
        {
          "output_type": "display_data",
          "data": {
            "image/png": "[encoded data removed]",
            "text/plain": [
              "<Figure size 864x648 with 1 Axes>"
            ]
          },
          "metadata": {
            "tags": []
          }
        }
      ]
    },
    {
      "cell_type": "markdown",
      "metadata": {
        "id": "AzxmwEfgIwmQ",
        "colab_type": "text"
      },
      "source": [
        "### Полезные ссылки\n",
        " * [Документация pandas](https://pandas.pydata.org/pandas-docs/stable/index.html)\n",
        " * [Документация pandas.plot](https://pandas.pydata.org/pandas-docs/stable/visualization.html)\n",
        " * [Документация pandas.style](http://pandas.pydata.org/pandas-docs/stable/style.html)\n",
        " * [Документация matplotlib](https://matplotlib.org/)\n",
        " * [Tutorial Seaborn](https://seaborn.pydata.org/tutorial.html)\n",
        " * [Gellery Seaborn](https://seaborn.pydata.org/examples/index.html)"
      ]
    },
    {
      "cell_type": "markdown",
      "metadata": {
        "ExecuteTime": {
          "end_time": "2019-06-07T21:11:22.837455Z",
          "start_time": "2019-06-07T21:11:22.832639Z"
        },
        "id": "LhsrnfAYIwmQ",
        "colab_type": "text"
      },
      "source": [
        "## Домашнее задание\n",
        "* Доделать ДЗ 1 и 2 с использованием pandas\n",
        "* В приложенном файле ad_campaign.xlsx выполните следующие действия:\n",
        "    - Загрузите датафрейм и выведите первые 10 строчек (воспользуйтесь функцией read_excel)\n",
        "    - Выведите минимальное значение столбца effect для каждой компании\n",
        "    - Упорядочите полученный датафрейм по этим значениям\n",
        "    - Постройте гистограмму компаний по этому рейтингу (*)"
      ]
    },
    {
      "cell_type": "code",
      "metadata": {
        "id": "BBTQ45C6IwmR",
        "colab_type": "code",
        "colab": {
          "base_uri": "https://localhost:8080/",
          "height": 697
        },
        "outputId": "178e76a1-a67b-43a7-93d0-412d00c0bc9d"
      },
      "source": [
        "dt = pd.read_excel('ad_campaigns.xlsx')\n",
        "dt.head(n=10)"
      ],
      "execution_count": 70,
      "outputs": [
        {
          "output_type": "execute_result",
          "data": {
            "text/html": [
              "<div>\n",
              "<style scoped>\n",
              "    .dataframe tbody tr th:only-of-type {\n",
              "        vertical-align: middle;\n",
              "    }\n",
              "\n",
              "    .dataframe tbody tr th {\n",
              "        vertical-align: top;\n",
              "    }\n",
              "\n",
              "    .dataframe thead th {\n",
              "        text-align: right;\n",
              "    }\n",
              "</style>\n",
              "<table border=\"1\" class=\"dataframe\">\n",
              "  <thead>\n",
              "    <tr style=\"text-align: right;\">\n",
              "      <th></th>\n",
              "      <th>Название группы</th>\n",
              "      <th>Фраза (с минус-словами)</th>\n",
              "      <th>Продуктивность</th>\n",
              "      <th>ID объявления</th>\n",
              "      <th>Заголовок</th>\n",
              "      <th>Текст</th>\n",
              "      <th>Ссылка</th>\n",
              "    </tr>\n",
              "  </thead>\n",
              "  <tbody>\n",
              "    <tr>\n",
              "      <th>0</th>\n",
              "      <td>мрт менделеевская</td>\n",
              "      <td>\"!мрт !менделеевская\"</td>\n",
              "      <td>4.5</td>\n",
              "      <td>2101704995</td>\n",
              "      <td>МРТ на Менделеевской от 2000₽</td>\n",
              "      <td>24 часа. МРТ в день обращения. Консультация вр...</td>\n",
              "      <td>https://awesome-site.ru/?utm_source=yandex&amp;utm...</td>\n",
              "    </tr>\n",
              "    <tr>\n",
              "      <th>1</th>\n",
              "      <td>мрт цао</td>\n",
              "      <td>\"мрт менделеевская\"</td>\n",
              "      <td>4.5</td>\n",
              "      <td>2101704995</td>\n",
              "      <td>МРТ на Менделеевской от 2000₽</td>\n",
              "      <td>24 часа. МРТ в день обращения. Консультация вр...</td>\n",
              "      <td>https://awesome-site.ru/?utm_source=yandex&amp;utm...</td>\n",
              "    </tr>\n",
              "    <tr>\n",
              "      <th>2</th>\n",
              "      <td>мрт цао</td>\n",
              "      <td>мрт менделеевская -головы -позвоночника -сдела...</td>\n",
              "      <td>7.4</td>\n",
              "      <td>2101704995</td>\n",
              "      <td>МРТ на Менделеевской от 2000₽</td>\n",
              "      <td>24 часа. МРТ в день обращения. Консультация вр...</td>\n",
              "      <td>https://awesome-site.ru/?utm_source=yandex&amp;utm...</td>\n",
              "    </tr>\n",
              "    <tr>\n",
              "      <th>3</th>\n",
              "      <td>мрт цао</td>\n",
              "      <td>\"!мрт !цао\"</td>\n",
              "      <td>5.0</td>\n",
              "      <td>2101704999</td>\n",
              "      <td>МРТ в ЦАО от 2000₽. Звоните!</td>\n",
              "      <td>24 часа. МРТ в день обращения. Консультация вр...</td>\n",
              "      <td>https://awesome-site.ru/?utm_source=yandex&amp;utm...</td>\n",
              "    </tr>\n",
              "    <tr>\n",
              "      <th>4</th>\n",
              "      <td>мрт сао</td>\n",
              "      <td>\"мрт цао\"</td>\n",
              "      <td>5.0</td>\n",
              "      <td>2101704999</td>\n",
              "      <td>МРТ в ЦАО от 2000₽. Звоните!</td>\n",
              "      <td>24 часа. МРТ в день обращения. Консультация вр...</td>\n",
              "      <td>https://awesome-site.ru/?utm_source=yandex&amp;utm...</td>\n",
              "    </tr>\n",
              "    <tr>\n",
              "      <th>5</th>\n",
              "      <td>мрт сао</td>\n",
              "      <td>мрт цао -головы -позвоночника -сделать -цена</td>\n",
              "      <td>7.4</td>\n",
              "      <td>2101704999</td>\n",
              "      <td>МРТ в ЦАО от 2000₽. Звоните!</td>\n",
              "      <td>24 часа. МРТ в день обращения. Консультация вр...</td>\n",
              "      <td>https://awesome-site.ru/?utm_source=yandex&amp;utm...</td>\n",
              "    </tr>\n",
              "    <tr>\n",
              "      <th>6</th>\n",
              "      <td>мрт сао</td>\n",
              "      <td>\"мрт сао\"</td>\n",
              "      <td>5.5</td>\n",
              "      <td>2101705000</td>\n",
              "      <td>МРТ в САО от 2000₽. Звоните!</td>\n",
              "      <td>24 часа. МРТ в день обращения. Консультация вр...</td>\n",
              "      <td>https://awesome-site.ru/?utm_source=yandex&amp;utm...</td>\n",
              "    </tr>\n",
              "    <tr>\n",
              "      <th>7</th>\n",
              "      <td>мрт в москве в сао</td>\n",
              "      <td>\"!мрт !сао\"</td>\n",
              "      <td>5.5</td>\n",
              "      <td>2101705000</td>\n",
              "      <td>МРТ в САО от 2000₽. Звоните!</td>\n",
              "      <td>24 часа. МРТ в день обращения. Консультация вр...</td>\n",
              "      <td>https://awesome-site.ru/?utm_source=yandex&amp;utm...</td>\n",
              "    </tr>\n",
              "    <tr>\n",
              "      <th>8</th>\n",
              "      <td>мрт в москве в сао</td>\n",
              "      <td>мрт сао -головы -москве -позвоночника -сделать...</td>\n",
              "      <td>7.4</td>\n",
              "      <td>2101705000</td>\n",
              "      <td>МРТ в САО от 2000₽. Звоните!</td>\n",
              "      <td>24 часа. МРТ в день обращения. Консультация вр...</td>\n",
              "      <td>https://awesome-site.ru/?utm_source=yandex&amp;utm...</td>\n",
              "    </tr>\n",
              "    <tr>\n",
              "      <th>9</th>\n",
              "      <td>мрт в москве в сао</td>\n",
              "      <td>\"мрт в москве сао\"</td>\n",
              "      <td>6.5</td>\n",
              "      <td>2101705001</td>\n",
              "      <td>МРТ в Москве в САО от 2000₽</td>\n",
              "      <td>24 часа. МРТ в день обращения. Консультация вр...</td>\n",
              "      <td>https://awesome-site.ru/?utm_source=yandex&amp;utm...</td>\n",
              "    </tr>\n",
              "  </tbody>\n",
              "</table>\n",
              "</div>"
            ],
            "text/plain": [
              "      Название группы  ...                                             Ссылка\n",
              "0   мрт менделеевская  ...  https://awesome-site.ru/?utm_source=yandex&utm...\n",
              "1             мрт цао  ...  https://awesome-site.ru/?utm_source=yandex&utm...\n",
              "2             мрт цао  ...  https://awesome-site.ru/?utm_source=yandex&utm...\n",
              "3             мрт цао  ...  https://awesome-site.ru/?utm_source=yandex&utm...\n",
              "4             мрт сао  ...  https://awesome-site.ru/?utm_source=yandex&utm...\n",
              "5             мрт сао  ...  https://awesome-site.ru/?utm_source=yandex&utm...\n",
              "6             мрт сао  ...  https://awesome-site.ru/?utm_source=yandex&utm...\n",
              "7  мрт в москве в сао  ...  https://awesome-site.ru/?utm_source=yandex&utm...\n",
              "8  мрт в москве в сао  ...  https://awesome-site.ru/?utm_source=yandex&utm...\n",
              "9  мрт в москве в сао  ...  https://awesome-site.ru/?utm_source=yandex&utm...\n",
              "\n",
              "[10 rows x 7 columns]"
            ]
          },
          "metadata": {
            "tags": []
          },
          "execution_count": 70
        }
      ]
    },
    {
      "cell_type": "code",
      "metadata": {
        "id": "ZVzCpxlJws1q",
        "colab_type": "code",
        "colab": {
          "base_uri": "https://localhost:8080/",
          "height": 1136
        },
        "outputId": "d5ffe5b9-b250-4dc7-b4cc-3934aa978aa3"
      },
      "source": [
        "dt_filtered = dt.groupby('Название группы')['Продуктивность'].min()\n",
        "dt_filtered"
      ],
      "execution_count": 65,
      "outputs": [
        {
          "output_type": "execute_result",
          "data": {
            "text/plain": [
              "Название группы\n",
              "1 5 москва мрт тесла                 2.8\n",
              "1 градская мрт                       4.3\n",
              "1 мрт нагатинский                    2.7\n",
              "1 мрт парковый                       5.8\n",
              "1 мрт парковый улица                 1.8\n",
              "1 парковый томография цена           1.6\n",
              "10 мрт палиха                        8.7\n",
              "11 мрт сокольники стромынка          1.6\n",
              "11 мрт стромынка                     3.0\n",
              "146 ленинский мрт проспект           6.7\n",
              "1500 москва мрт тесла                2.3\n",
              "17 каланчевская мрт                  2.3\n",
              "24 бульвар мрт сиреневый             3.8\n",
              "24 комсомольский мрт                 6.6\n",
              "24 москва мрт час                    1.9\n",
              "24 мрт островитянов                  2.8\n",
              "3 аппарат москва мрт тесла           2.2\n",
              "3 в москве тесла адрес мрт           2.2\n",
              "34 бибирево лесков мрт               1.8\n",
              "39 лосиноостровский мрт цена         1.8\n",
              "42 люблинский мрт                    2.8\n",
              "48 алтуфьевский мрт шоссе            1.8\n",
              "5 вернадский мрт проспект            1.8\n",
              "70 мрт привольный                    2.3\n",
              "95 волоколамский мрт тушино шоссе    2.8\n",
              "автозаводский мрт                    1.8\n",
              "адрес домодедово мрт цена            1.9\n",
              "адрес жулебино мрт                   2.5\n",
              "адрес митин мрт цена                 2.5\n",
              "адрес москва мрт недорогой           2.0\n",
              "                                    ... \n",
              "сделать мрт университет              1.9\n",
              "сделать мрт фабричная                3.0\n",
              "сделать мрт хлебозаводская 10        3.0\n",
              "сделать мрт цао                      1.9\n",
              "сделать мрт царицыно                 4.8\n",
              "сделать мрт цветной бульвар          3.0\n",
              "сделать мрт циолковского             1.9\n",
              "сделать мрт чертаново                3.0\n",
              "сделать мрт щелково                  3.0\n",
              "сделать мрт щукинская                3.0\n",
              "сделать мрт юао                      3.0\n",
              "сделать мрт ювао                     4.5\n",
              "сделать мрт юго запад                3.0\n",
              "сделать мрт южная                    1.9\n",
              "сделать мрт южное бутово             3.0\n",
              "сделать мрт южный округ              2.9\n",
              "сделать мрт юзао                     1.9\n",
              "семеновский томография               1.6\n",
              "сиреневый бульвар 4 мрт              2.8\n",
              "стоимость москва мрт                 1.6\n",
              "ул текстильщиков мрт                 2.8\n",
              "центр московский мрт                 7.6\n",
              "центр мрт в перово                   5.3\n",
              "центр мрт на алексеевской            2.3\n",
              "центр томографии алексеевский мр     2.1\n",
              "цмрт менделеевская                   8.5\n",
              "цмрт новослободская                  7.8\n",
              "цмрт сокольники                      3.3\n",
              "цмрт стромынка                       5.0\n",
              "юго западный мрт                     2.1\n",
              "Name: Продуктивность, Length: 901, dtype: float64"
            ]
          },
          "metadata": {
            "tags": []
          },
          "execution_count": 65
        }
      ]
    },
    {
      "cell_type": "code",
      "metadata": {
        "id": "GDDlXznkxPBj",
        "colab_type": "code",
        "colab": {
          "base_uri": "https://localhost:8080/",
          "height": 1136
        },
        "outputId": "d41287e4-8b2b-4c62-fe13-70b0e49fc2c4"
      },
      "source": [
        "dt_filtered.sort_values(ascending=False)"
      ],
      "execution_count": 67,
      "outputs": [
        {
          "output_type": "execute_result",
          "data": {
            "text/plain": [
              "Название группы\n",
              "в мрт химки                                       9.0\n",
              "10 мрт палиха                                     8.7\n",
              "в москва мрт свао                                 8.5\n",
              "цмрт менделеевская                                8.5\n",
              "в москва мрт сао                                  8.1\n",
              "мрт на кутузовском проспекте                      8.1\n",
              "цмрт новослободская                               7.8\n",
              "мрт цена на зеленой                               7.8\n",
              "мрт павелецкий проезд                             7.7\n",
              "бульвар дмитрия донской мрт                       7.7\n",
              "вернадский мрт проспект                           7.7\n",
              "мрт в перово                                      7.7\n",
              "центр московский мрт                              7.6\n",
              "мрт палиха                                        7.4\n",
              "мрт вднх                                          7.4\n",
              "мрт касаткина                                     7.3\n",
              "адреса в и митино мрт цена                        7.3\n",
              "клиника москва мрт                                7.2\n",
              "мрт марьина роща                                  7.2\n",
              "мрт красные ворота                                7.2\n",
              "мрт в митино адреса и цены                        7.0\n",
              "мрт позвоночника перово поле                      6.9\n",
              "в марьино мрт                                     6.9\n",
              "мрт сити                                          6.8\n",
              "мрт домодедовская                                 6.8\n",
              "мрт беляево                                       6.8\n",
              "мрт выхино                                        6.8\n",
              "мрт тимирязевский                                 6.8\n",
              "мрт склифосовский цена                            6.8\n",
              "мрт молодежная                                    6.7\n",
              "                                                 ... \n",
              "мрт на ленинском столица 146                      1.8\n",
              "мрт свиблово                                      1.8\n",
              "бульвар мрт славянский                            1.8\n",
              "1 мрт парковый улица                              1.8\n",
              "метро молодежный мрт                              1.8\n",
              "мрт южный округ                                   1.8\n",
              "мрт нижегородский улица 32                        1.8\n",
              "39 лосиноостровский мрт цена                      1.8\n",
              "мрт в бабушкинском районе                         1.8\n",
              "48 алтуфьевский мрт шоссе                         1.8\n",
              "сделать мрт в районе ул лобненская                1.8\n",
              "мрт в орехово зуево на набережной                 1.8\n",
              "перово томография центр                           1.8\n",
              "мрт иваньковское шоссе 3                          1.8\n",
              "мрт джалиль ул муса                               1.8\n",
              "мрт на алексеевской мытищинская                   1.8\n",
              "5 вернадский мрт проспект                         1.8\n",
              "мрт на циолковского                               1.8\n",
              "мрт на боткинской цена больница                   1.8\n",
              "мрт кулаков переулок отзывы                       1.8\n",
              "автозаводский мрт                                 1.8\n",
              "контраст москва мрт                               1.8\n",
              "мед мрт 1905 7 год                                1.8\n",
              "мрт на шолохова                                   1.8\n",
              "мрт в южном бутово                                1.7\n",
              "мрт на алексеевской кулаков переулок 13 отзывы    1.7\n",
              "семеновский томография                            1.6\n",
              "стоимость москва мрт                              1.6\n",
              "11 мрт сокольники стромынка                       1.6\n",
              "1 парковый томография цена                        1.6\n",
              "Name: Продуктивность, Length: 901, dtype: float64"
            ]
          },
          "metadata": {
            "tags": []
          },
          "execution_count": 67
        }
      ]
    },
    {
      "cell_type": "code",
      "metadata": {
        "id": "97LT9JPS1evb",
        "colab_type": "code",
        "colab": {
          "base_uri": "https://localhost:8080/",
          "height": 558
        },
        "outputId": "91f98be8-994a-4b6e-dce9-4a9f6394050f"
      },
      "source": [
        "dt_filtered.hist(bins=len(dt_filtered))"
      ],
      "execution_count": 69,
      "outputs": [
        {
          "output_type": "execute_result",
          "data": {
            "text/plain": [
              "<matplotlib.axes._subplots.AxesSubplot at 0x7f97e04ead30>"
            ]
          },
          "metadata": {
            "tags": []
          },
          "execution_count": 69
        },
        {
          "output_type": "display_data",
          "data": {
            "image/png": "[encoded data removed]",
            "text/plain": [
              "<Figure size 864x648 with 1 Axes>"
            ]
          },
          "metadata": {
            "tags": []
          }
        }
      ]
    },
    {
      "cell_type": "code",
      "metadata": {
        "id": "c-AAr-Tz2q4p",
        "colab_type": "code",
        "colab": {
          "base_uri": "https://localhost:8080/",
          "height": 558
        },
        "outputId": "c586be72-108c-4499-d76f-04138ba1afa4"
      },
      "source": [
        "dt_filtered.hist(bins = 50)"
      ],
      "execution_count": 73,
      "outputs": [
        {
          "output_type": "execute_result",
          "data": {
            "text/plain": [
              "<matplotlib.axes._subplots.AxesSubplot at 0x7f97dfc55550>"
            ]
          },
          "metadata": {
            "tags": []
          },
          "execution_count": 73
        },
        {
          "output_type": "display_data",
          "data": {
            "image/png": "[encoded data removed]",
            "text/plain": [
              "<Figure size 864x648 with 1 Axes>"
            ]
          },
          "metadata": {
            "tags": []
          }
        }
      ]
    }
  ]
}